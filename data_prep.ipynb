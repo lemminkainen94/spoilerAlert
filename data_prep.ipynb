{
 "cells": [
  {
   "cell_type": "code",
   "execution_count": 1,
   "id": "4f7276da",
   "metadata": {},
   "outputs": [],
   "source": [
    "import pandas as pd\n",
    "import numpy as np\n",
    "from sklearn.feature_extraction.text import CountVectorizer, TfidfTransformer\n",
    "from sklearn.naive_bayes import MultinomialNB\n",
    "from sklearn.model_selection import train_test_split\n",
    "from sklearn.metrics import roc_auc_score\n",
    "import tqdm.notebook as tq"
   ]
  },
  {
   "cell_type": "markdown",
   "id": "a53aecf1",
   "metadata": {},
   "source": [
    "# Adding book title to each review"
   ]
  },
  {
   "cell_type": "code",
   "execution_count": 3,
   "id": "332189e2",
   "metadata": {},
   "outputs": [
    {
     "data": {
      "text/plain": [
       "((275607, 7), (2360655, 3))"
      ]
     },
     "execution_count": 3,
     "metadata": {},
     "output_type": "execute_result"
    }
   ],
   "source": [
    "rev = pd.read_pickle('csc2515-project-main/csc2515-project-main/data/goodreads.pkl')\n",
    "books = pd.read_csv('csc2515-project-main/csc2515-project-main/data/goodreads_book_info.csv')\n",
    "\n",
    "rev.shape, books.shape"
   ]
  },
  {
   "cell_type": "code",
   "execution_count": 4,
   "id": "92d9f4af",
   "metadata": {},
   "outputs": [
    {
     "data": {
      "text/html": [
       "<div>\n",
       "<style scoped>\n",
       "    .dataframe tbody tr th:only-of-type {\n",
       "        vertical-align: middle;\n",
       "    }\n",
       "\n",
       "    .dataframe tbody tr th {\n",
       "        vertical-align: top;\n",
       "    }\n",
       "\n",
       "    .dataframe thead th {\n",
       "        text-align: right;\n",
       "    }\n",
       "</style>\n",
       "<table border=\"1\" class=\"dataframe\">\n",
       "  <thead>\n",
       "    <tr style=\"text-align: right;\">\n",
       "      <th></th>\n",
       "      <th>user_id</th>\n",
       "      <th>timestamp</th>\n",
       "      <th>review_sentences</th>\n",
       "      <th>rating</th>\n",
       "      <th>has_spoiler</th>\n",
       "      <th>book_id</th>\n",
       "      <th>review_id</th>\n",
       "    </tr>\n",
       "  </thead>\n",
       "  <tbody>\n",
       "    <tr>\n",
       "      <th>0</th>\n",
       "      <td>5b78fd996dd2af3e863bec412a410512</td>\n",
       "      <td>2012-01-02</td>\n",
       "      <td>[[0, Essential reading for anyone serious abou...</td>\n",
       "      <td>5</td>\n",
       "      <td>False</td>\n",
       "      <td>29999</td>\n",
       "      <td>ad2bf9e7e72997ec053fe9d666a76240</td>\n",
       "    </tr>\n",
       "    <tr>\n",
       "      <th>1</th>\n",
       "      <td>e21627c07b1c16a64b1d55afb0801cd3</td>\n",
       "      <td>2015-12-22</td>\n",
       "      <td>[[0, Very informative.], [0, I feel like this ...</td>\n",
       "      <td>3</td>\n",
       "      <td>False</td>\n",
       "      <td>6882274</td>\n",
       "      <td>a0ce4c9e8a6e644d90851330494615e4</td>\n",
       "    </tr>\n",
       "    <tr>\n",
       "      <th>2</th>\n",
       "      <td>40272245ceb3404a973ab053f636dcf8</td>\n",
       "      <td>2016-02-29</td>\n",
       "      <td>[[0, Really 4.4 stars - but goodreads only let...</td>\n",
       "      <td>4</td>\n",
       "      <td>False</td>\n",
       "      <td>17565845</td>\n",
       "      <td>78c8562226c80c7b7ca89afffa2c17dc</td>\n",
       "    </tr>\n",
       "    <tr>\n",
       "      <th>3</th>\n",
       "      <td>788c16647e9ba6f337a76f51b92cadc9</td>\n",
       "      <td>2013-08-23</td>\n",
       "      <td>[[0, This was on my wish list a long time ago,...</td>\n",
       "      <td>1</td>\n",
       "      <td>False</td>\n",
       "      <td>9681214</td>\n",
       "      <td>6e7a6c60e7cdca91430dfb6113ad50b3</td>\n",
       "    </tr>\n",
       "    <tr>\n",
       "      <th>4</th>\n",
       "      <td>60ba13d8c742b84b2ec2445d9e04afe6</td>\n",
       "      <td>2013-11-23</td>\n",
       "      <td>[[0, I loved this book!!], [0, When I first he...</td>\n",
       "      <td>5</td>\n",
       "      <td>True</td>\n",
       "      <td>11614718</td>\n",
       "      <td>2abcd2f0c63ea8de00024f7f22e167d4</td>\n",
       "    </tr>\n",
       "  </tbody>\n",
       "</table>\n",
       "</div>"
      ],
      "text/plain": [
       "                            user_id   timestamp  \\\n",
       "0  5b78fd996dd2af3e863bec412a410512  2012-01-02   \n",
       "1  e21627c07b1c16a64b1d55afb0801cd3  2015-12-22   \n",
       "2  40272245ceb3404a973ab053f636dcf8  2016-02-29   \n",
       "3  788c16647e9ba6f337a76f51b92cadc9  2013-08-23   \n",
       "4  60ba13d8c742b84b2ec2445d9e04afe6  2013-11-23   \n",
       "\n",
       "                                    review_sentences  rating  has_spoiler  \\\n",
       "0  [[0, Essential reading for anyone serious abou...       5        False   \n",
       "1  [[0, Very informative.], [0, I feel like this ...       3        False   \n",
       "2  [[0, Really 4.4 stars - but goodreads only let...       4        False   \n",
       "3  [[0, This was on my wish list a long time ago,...       1        False   \n",
       "4  [[0, I loved this book!!], [0, When I first he...       5         True   \n",
       "\n",
       "    book_id                         review_id  \n",
       "0     29999  ad2bf9e7e72997ec053fe9d666a76240  \n",
       "1   6882274  a0ce4c9e8a6e644d90851330494615e4  \n",
       "2  17565845  78c8562226c80c7b7ca89afffa2c17dc  \n",
       "3   9681214  6e7a6c60e7cdca91430dfb6113ad50b3  \n",
       "4  11614718  2abcd2f0c63ea8de00024f7f22e167d4  "
      ]
     },
     "execution_count": 4,
     "metadata": {},
     "output_type": "execute_result"
    }
   ],
   "source": [
    "rev.head()"
   ]
  },
  {
   "cell_type": "code",
   "execution_count": 34,
   "id": "76023264",
   "metadata": {},
   "outputs": [
    {
     "data": {
      "text/html": [
       "<div>\n",
       "<style scoped>\n",
       "    .dataframe tbody tr th:only-of-type {\n",
       "        vertical-align: middle;\n",
       "    }\n",
       "\n",
       "    .dataframe tbody tr th {\n",
       "        vertical-align: top;\n",
       "    }\n",
       "\n",
       "    .dataframe thead th {\n",
       "        text-align: right;\n",
       "    }\n",
       "</style>\n",
       "<table border=\"1\" class=\"dataframe\">\n",
       "  <thead>\n",
       "    <tr style=\"text-align: right;\">\n",
       "      <th></th>\n",
       "      <th>description</th>\n",
       "      <th>book_id</th>\n",
       "      <th>title</th>\n",
       "      <th>reviews</th>\n",
       "    </tr>\n",
       "  </thead>\n",
       "  <tbody>\n",
       "    <tr>\n",
       "      <th>115</th>\n",
       "      <td>The future world is at peace.\\nElla Shepherd h...</td>\n",
       "      <td>22642971</td>\n",
       "      <td>The Body Electric</td>\n",
       "      <td>Oooh this is coming on my birthday. PERFECT BI...</td>\n",
       "    </tr>\n",
       "    <tr>\n",
       "      <th>282</th>\n",
       "      <td>Ready or not...love will find a way \\nSingle d...</td>\n",
       "      <td>32336119</td>\n",
       "      <td>Worth the Wait (Guthrie Brothers #2)</td>\n",
       "      <td>I love small town romances. A place where ever...</td>\n",
       "    </tr>\n",
       "    <tr>\n",
       "      <th>367</th>\n",
       "      <td>This is Maddy Turner's lucky day. The civilize...</td>\n",
       "      <td>2741853</td>\n",
       "      <td>Slow Hands</td>\n",
       "      <td>Cute story, if a little predictable. For a FRE...</td>\n",
       "    </tr>\n",
       "    <tr>\n",
       "      <th>376</th>\n",
       "      <td>A classic work of science fiction by renowned ...</td>\n",
       "      <td>12077902</td>\n",
       "      <td>Solaris: The Definitive Edition</td>\n",
       "      <td>Having been confused by both movie versions of...</td>\n",
       "    </tr>\n",
       "    <tr>\n",
       "      <th>383</th>\n",
       "      <td>After a series of explosive encounters with tw...</td>\n",
       "      <td>7843586</td>\n",
       "      <td>More (More, #1)</td>\n",
       "      <td>A new favorite author! This is going into my f...</td>\n",
       "    </tr>\n",
       "  </tbody>\n",
       "</table>\n",
       "</div>"
      ],
      "text/plain": [
       "                                           description   book_id  \\\n",
       "115  The future world is at peace.\\nElla Shepherd h...  22642971   \n",
       "282  Ready or not...love will find a way \\nSingle d...  32336119   \n",
       "367  This is Maddy Turner's lucky day. The civilize...   2741853   \n",
       "376  A classic work of science fiction by renowned ...  12077902   \n",
       "383  After a series of explosive encounters with tw...   7843586   \n",
       "\n",
       "                                    title  \\\n",
       "115                     The Body Electric   \n",
       "282  Worth the Wait (Guthrie Brothers #2)   \n",
       "367                            Slow Hands   \n",
       "376       Solaris: The Definitive Edition   \n",
       "383                       More (More, #1)   \n",
       "\n",
       "                                               reviews  \n",
       "115  Oooh this is coming on my birthday. PERFECT BI...  \n",
       "282  I love small town romances. A place where ever...  \n",
       "367  Cute story, if a little predictable. For a FRE...  \n",
       "376  Having been confused by both movie versions of...  \n",
       "383  A new favorite author! This is going into my f...  "
      ]
     },
     "execution_count": 34,
     "metadata": {},
     "output_type": "execute_result"
    }
   ],
   "source": [
    "books.head()"
   ]
  },
  {
   "cell_type": "code",
   "execution_count": 12,
   "id": "3e5eecaa",
   "metadata": {},
   "outputs": [],
   "source": [
    "rev.book_id = rev.book_id.apply(np.int64)"
   ]
  },
  {
   "cell_type": "code",
   "execution_count": 16,
   "id": "b49e1842",
   "metadata": {},
   "outputs": [],
   "source": [
    "books = books[books.book_id.isin(rev.book_id)]"
   ]
  },
  {
   "cell_type": "code",
   "execution_count": 17,
   "id": "62e8ed44",
   "metadata": {},
   "outputs": [
    {
     "data": {
      "text/plain": [
       "(24873, 3)"
      ]
     },
     "execution_count": 17,
     "metadata": {},
     "output_type": "execute_result"
    }
   ],
   "source": [
    "books.shape"
   ]
  },
  {
   "cell_type": "code",
   "execution_count": 18,
   "id": "45597f21",
   "metadata": {},
   "outputs": [],
   "source": [
    "rev = rev.merge(books[['book_id', 'title']], on='book_id')"
   ]
  },
  {
   "cell_type": "code",
   "execution_count": 22,
   "id": "eb4bd591",
   "metadata": {},
   "outputs": [],
   "source": [
    "rev.to_pickle('csc2515-project-main/csc2515-project-main/data/goodreads.pkl')"
   ]
  },
  {
   "cell_type": "code",
   "execution_count": 33,
   "id": "f020351a",
   "metadata": {},
   "outputs": [
    {
     "name": "stderr",
     "output_type": "stream",
     "text": [
      "C:\\Users\\wojtek\\AppData\\Local\\Temp/ipykernel_11096/3508225722.py:2: SettingWithCopyWarning: \n",
      "A value is trying to be set on a copy of a slice from a DataFrame.\n",
      "Try using .loc[row_indexer,col_indexer] = value instead\n",
      "\n",
      "See the caveats in the documentation: https://pandas.pydata.org/pandas-docs/stable/user_guide/indexing.html#returning-a-view-versus-a-copy\n",
      "  books['reviews'] = books.book_id.apply(lambda x: ' '.join(rev[rev.book_id == x].flat_reviews.values))\n"
     ]
    }
   ],
   "source": [
    "rev['flat_reviews'] = rev.review_sentences.apply(lambda x: ' '.join([s[1] for s in x]))\n",
    "books['reviews'] = books.book_id.apply(lambda x: ' '.join(rev[rev.book_id == x].flat_reviews.values))"
   ]
  },
  {
   "cell_type": "code",
   "execution_count": 37,
   "id": "eb9636b6",
   "metadata": {},
   "outputs": [
    {
     "data": {
      "text/plain": [
       "\"Having been confused by both movie versions of this book I decided to give the original a go and see if it's any better. Before I started on this I imagining it was going to be a total mess and I might have to abandon it. But, it was the exact opposite! The book quickly gets to the heart of the matter and all the confusion of the movies was explained in the first 10-20%. Having now read Solaris, I seriously cannot see how this could be made into an effective movie without tons of voice overs. Most of the drama is psychological in nature and revolves around the central characters thoughts and emotions. What both the movies kind of left out is the nature of the planet Solaris. It contains a vast alien intelligence, totally unlike any thing encountered before and mostly incomprehensible to the scientists trying to study it. It's a great example of alien contact and world building rolled into one. Anyone who didn't like the movie, but is still wondering why this is such a renowned work should give it a try. After the first few chapters you will probably be hooked. I'm genuinely aghast that this book didn't end up on my 'abandoned' shelf. I had thought that I better give it a second chance. The first time I tried to listen to it, I was convinced that I hadn't really paid attention, that my mind must have wandered off mid-book, and that was the cause of my consternation. In the interests of fairness and good will, I gave it another shot. Plugging both headphones in, not wanting to miss a word, I dove back in. What a waste of, I'm not sure how many hours, too many! I will admit that the premise was imaginative, but the story didn't go anyway, and was therefore pretty dull. Snout was the one saving grace for the characters, the rest I couldn't abide by.\""
      ]
     },
     "execution_count": 37,
     "metadata": {},
     "output_type": "execute_result"
    }
   ],
   "source": [
    "books.reviews.values[3]"
   ]
  },
  {
   "cell_type": "code",
   "execution_count": 39,
   "id": "d8711ea5",
   "metadata": {},
   "outputs": [],
   "source": [
    "books.to_csv('csc2515-project-main/csc2515-project-main/data/goodreads_books_revs.csv', index=False)"
   ]
  },
  {
   "cell_type": "markdown",
   "id": "e4e25a4d",
   "metadata": {},
   "source": [
    "# building tf-idf matrix"
   ]
  },
  {
   "cell_type": "code",
   "execution_count": 48,
   "id": "116cf6a1",
   "metadata": {},
   "outputs": [
    {
     "data": {
      "text/plain": [
       "(24873, 168886)"
      ]
     },
     "execution_count": 48,
     "metadata": {},
     "output_type": "execute_result"
    }
   ],
   "source": [
    "count_vect = CountVectorizer()\n",
    "word_idx = count_vect.fit_transform(books.reviews.values)\n",
    "word_idx.shape"
   ]
  },
  {
   "cell_type": "code",
   "execution_count": 50,
   "id": "94ca6b8c",
   "metadata": {},
   "outputs": [
    {
     "data": {
      "text/plain": [
       "137821"
      ]
     },
     "execution_count": 50,
     "metadata": {},
     "output_type": "execute_result"
    }
   ],
   "source": [
    "count_vect.vocabulary_.get('snout')"
   ]
  },
  {
   "cell_type": "code",
   "execution_count": 52,
   "id": "f0ccdcb7",
   "metadata": {},
   "outputs": [
    {
     "data": {
      "text/plain": [
       "(24873, 168886)"
      ]
     },
     "execution_count": 52,
     "metadata": {},
     "output_type": "execute_result"
    }
   ],
   "source": [
    "tfidf_transformer = TfidfTransformer().fit(word_idx)\n",
    "books_tfidf = tfidf_transformer.transform(word_idx)\n",
    "books_tfidf.shape"
   ]
  },
  {
   "cell_type": "code",
   "execution_count": 54,
   "id": "7f3a9359",
   "metadata": {},
   "outputs": [
    {
     "data": {
      "text/plain": [
       "<24873x168886 sparse matrix of type '<class 'numpy.float64'>'\n",
       "\twith 14092982 stored elements in Compressed Sparse Row format>"
      ]
     },
     "execution_count": 54,
     "metadata": {},
     "output_type": "execute_result"
    }
   ],
   "source": [
    "books_tfidf"
   ]
  },
  {
   "cell_type": "code",
   "execution_count": 87,
   "id": "797ea138",
   "metadata": {},
   "outputs": [],
   "source": [
    "df = pd.read_pickle('csc2515-project-main/csc2515-project-main/data/goodreads_sent_spoil.pkl')"
   ]
  },
  {
   "cell_type": "code",
   "execution_count": 88,
   "id": "7e5541f8",
   "metadata": {},
   "outputs": [
    {
     "data": {
      "text/html": [
       "<div>\n",
       "<style scoped>\n",
       "    .dataframe tbody tr th:only-of-type {\n",
       "        vertical-align: middle;\n",
       "    }\n",
       "\n",
       "    .dataframe tbody tr th {\n",
       "        vertical-align: top;\n",
       "    }\n",
       "\n",
       "    .dataframe thead th {\n",
       "        text-align: right;\n",
       "    }\n",
       "</style>\n",
       "<table border=\"1\" class=\"dataframe\">\n",
       "  <thead>\n",
       "    <tr style=\"text-align: right;\">\n",
       "      <th></th>\n",
       "      <th>sentence</th>\n",
       "      <th>has_spoiler</th>\n",
       "    </tr>\n",
       "  </thead>\n",
       "  <tbody>\n",
       "    <tr>\n",
       "      <th>0</th>\n",
       "      <td>Essential reading for anyone serious about mys...</td>\n",
       "      <td>0</td>\n",
       "    </tr>\n",
       "    <tr>\n",
       "      <th>1</th>\n",
       "      <td>Hammett is the grandfather of the hard-bitten ...</td>\n",
       "      <td>0</td>\n",
       "    </tr>\n",
       "    <tr>\n",
       "      <th>2</th>\n",
       "      <td>While his Continental Op was the prototype for...</td>\n",
       "      <td>0</td>\n",
       "    </tr>\n",
       "    <tr>\n",
       "      <th>3</th>\n",
       "      <td>Expect sharp dialog, vivid characters and a vo...</td>\n",
       "      <td>0</td>\n",
       "    </tr>\n",
       "    <tr>\n",
       "      <th>4</th>\n",
       "      <td>If you've seen John Huston's 1941 film version...</td>\n",
       "      <td>0</td>\n",
       "    </tr>\n",
       "  </tbody>\n",
       "</table>\n",
       "</div>"
      ],
      "text/plain": [
       "                                            sentence  has_spoiler\n",
       "0  Essential reading for anyone serious about mys...            0\n",
       "1  Hammett is the grandfather of the hard-bitten ...            0\n",
       "2  While his Continental Op was the prototype for...            0\n",
       "3  Expect sharp dialog, vivid characters and a vo...            0\n",
       "4  If you've seen John Huston's 1941 film version...            0"
      ]
     },
     "execution_count": 88,
     "metadata": {},
     "output_type": "execute_result"
    }
   ],
   "source": [
    "df.head()"
   ]
  },
  {
   "cell_type": "code",
   "execution_count": 89,
   "id": "82ed6432",
   "metadata": {},
   "outputs": [],
   "source": [
    "# df = df.sample(frac=0.1)"
   ]
  },
  {
   "cell_type": "code",
   "execution_count": 90,
   "id": "50fc4c96",
   "metadata": {},
   "outputs": [],
   "source": [
    "df_train, df_test = train_test_split(\n",
    "  df,\n",
    "  test_size=0.2,\n",
    "  random_state=42\n",
    ")"
   ]
  },
  {
   "cell_type": "code",
   "execution_count": 79,
   "id": "34d24b8a",
   "metadata": {},
   "outputs": [],
   "source": [
    "X_train = tfidf_transformer.transform(count_vect.transform(df_train.sentence.values))"
   ]
  },
  {
   "cell_type": "markdown",
   "id": "d9affe9a",
   "metadata": {},
   "source": [
    "# Fitting NB classifier"
   ]
  },
  {
   "cell_type": "code",
   "execution_count": 80,
   "id": "3f6799b4",
   "metadata": {},
   "outputs": [],
   "source": [
    "nb = MultinomialNB().fit(X_train, df_train.has_spoiler)"
   ]
  },
  {
   "cell_type": "code",
   "execution_count": 91,
   "id": "0ca1b3bb",
   "metadata": {},
   "outputs": [],
   "source": [
    "X_test = tfidf_transformer.transform(count_vect.transform(df_test.sentence.values))\n",
    "predicted = nb.predict(X_test)"
   ]
  },
  {
   "cell_type": "code",
   "execution_count": 92,
   "id": "c42e0ff4",
   "metadata": {},
   "outputs": [
    {
     "data": {
      "text/plain": [
       "0.7153545101231146"
      ]
     },
     "execution_count": 92,
     "metadata": {},
     "output_type": "execute_result"
    }
   ],
   "source": [
    "roc_auc_score(df_test.has_spoiler, predicted)"
   ]
  },
  {
   "cell_type": "code",
   "execution_count": 83,
   "id": "a2c6804c",
   "metadata": {},
   "outputs": [
    {
     "data": {
      "text/plain": [
       "array([0, 0, 0, 0, 0, 0, 0, 0, 0, 0], dtype=int64)"
      ]
     },
     "execution_count": 83,
     "metadata": {},
     "output_type": "execute_result"
    }
   ],
   "source": [
    "predicted[:10]"
   ]
  },
  {
   "cell_type": "markdown",
   "id": "2d985e4e",
   "metadata": {},
   "source": [
    "# that didn't go to well! Let's try with a balanced dataset"
   ]
  },
  {
   "cell_type": "code",
   "execution_count": 85,
   "id": "26e89aa0",
   "metadata": {},
   "outputs": [],
   "source": [
    "df = pd.concat([df[df.has_spoiler==1], df[df.has_spoiler==0].sample(len(df[df.has_spoiler==1]))]).sample(frac=1)\n",
    "df_train, df_test = train_test_split(\n",
    "  df,\n",
    "  test_size=0.2,\n",
    "  random_state=42\n",
    ")\n",
    "\n",
    "X_train = tfidf_transformer.transform(count_vect.transform(df_train.sentence.values))\n",
    "X_test = tfidf_transformer.transform(count_vect.transform(df_test.sentence.values))\n",
    "\n",
    "nb = MultinomialNB().fit(X_train, df_train.has_spoiler)\n",
    "predicted = nb.predict(X_test)"
   ]
  },
  {
   "cell_type": "code",
   "execution_count": 86,
   "id": "283f6263",
   "metadata": {},
   "outputs": [
    {
     "data": {
      "text/plain": [
       "0.6870193939592415"
      ]
     },
     "execution_count": 86,
     "metadata": {},
     "output_type": "execute_result"
    }
   ],
   "source": [
    "roc_auc_score(df_test.has_spoiler, predicted)"
   ]
  },
  {
   "cell_type": "markdown",
   "id": "4c936efa",
   "metadata": {},
   "source": [
    "# Now that's much better, but somehow doesn't cut it\n",
    "Looks like the task is a wee bit too tough for a simple model like this, but the transformer-based models might benefit from these features, or at least book titles"
   ]
  },
  {
   "cell_type": "code",
   "execution_count": 93,
   "id": "2eb964e7",
   "metadata": {},
   "outputs": [],
   "source": [
    "# roc-auc: 69% for a balanced test set, 72% for the original proportions set"
   ]
  },
  {
   "cell_type": "markdown",
   "id": "f5ebd7e7",
   "metadata": {},
   "source": [
    "# Preparing transformer input sentences: adding book titles"
   ]
  },
  {
   "cell_type": "code",
   "execution_count": 96,
   "id": "fa76958c",
   "metadata": {},
   "outputs": [
    {
     "data": {
      "application/vnd.jupyter.widget-view+json": {
       "model_id": "cfd9e4efba8c4e9494f864b6b744d2da",
       "version_major": 2,
       "version_minor": 0
      },
      "text/plain": [
       "  0%|          | 0/275607 [00:00<?, ?it/s]"
      ]
     },
     "metadata": {},
     "output_type": "display_data"
    }
   ],
   "source": [
    "rev = pd.read_pickle('csc2515-project-main/csc2515-project-main/data/goodreads.pkl')\n",
    "sent = []\n",
    "spoil = []\n",
    "for i in tq.tqdm(range(len(rev))):\n",
    "    for j in range(len(rev.iloc[i]['review_sentences'])):\n",
    "        sent.append(rev.iloc[i].title + ' [SEP] ' + rev.iloc[i]['review_sentences'][j][1])   \n",
    "        spoil.append(rev.iloc[i]['review_sentences'][j][0])"
   ]
  },
  {
   "cell_type": "code",
   "execution_count": 97,
   "id": "f977d9ca",
   "metadata": {},
   "outputs": [],
   "source": [
    "df = pd.DataFrame(list(zip(sent, spoil)), \n",
    "               columns =['sentence', 'has_spoiler']) "
   ]
  },
  {
   "cell_type": "code",
   "execution_count": 99,
   "id": "23372534",
   "metadata": {},
   "outputs": [],
   "source": [
    "df.to_pickle(\"csc2515-project-main/csc2515-project-main/data/goodreads_sent_spoil_titles.pkl\")"
   ]
  },
  {
   "cell_type": "code",
   "execution_count": 100,
   "id": "46cbd9e5",
   "metadata": {},
   "outputs": [
    {
     "data": {
      "text/html": [
       "<div>\n",
       "<style scoped>\n",
       "    .dataframe tbody tr th:only-of-type {\n",
       "        vertical-align: middle;\n",
       "    }\n",
       "\n",
       "    .dataframe tbody tr th {\n",
       "        vertical-align: top;\n",
       "    }\n",
       "\n",
       "    .dataframe thead th {\n",
       "        text-align: right;\n",
       "    }\n",
       "</style>\n",
       "<table border=\"1\" class=\"dataframe\">\n",
       "  <thead>\n",
       "    <tr style=\"text-align: right;\">\n",
       "      <th></th>\n",
       "      <th>sentence</th>\n",
       "      <th>has_spoiler</th>\n",
       "    </tr>\n",
       "  </thead>\n",
       "  <tbody>\n",
       "    <tr>\n",
       "      <th>0</th>\n",
       "      <td>The Maltese Falcon [SEP] Essential reading for...</td>\n",
       "      <td>0</td>\n",
       "    </tr>\n",
       "    <tr>\n",
       "      <th>1</th>\n",
       "      <td>The Maltese Falcon [SEP] Hammett is the grandf...</td>\n",
       "      <td>0</td>\n",
       "    </tr>\n",
       "    <tr>\n",
       "      <th>2</th>\n",
       "      <td>The Maltese Falcon [SEP] While his Continental...</td>\n",
       "      <td>0</td>\n",
       "    </tr>\n",
       "    <tr>\n",
       "      <th>3</th>\n",
       "      <td>The Maltese Falcon [SEP] Expect sharp dialog, ...</td>\n",
       "      <td>0</td>\n",
       "    </tr>\n",
       "    <tr>\n",
       "      <th>4</th>\n",
       "      <td>The Maltese Falcon [SEP] If you've seen John H...</td>\n",
       "      <td>0</td>\n",
       "    </tr>\n",
       "  </tbody>\n",
       "</table>\n",
       "</div>"
      ],
      "text/plain": [
       "                                            sentence  has_spoiler\n",
       "0  The Maltese Falcon [SEP] Essential reading for...            0\n",
       "1  The Maltese Falcon [SEP] Hammett is the grandf...            0\n",
       "2  The Maltese Falcon [SEP] While his Continental...            0\n",
       "3  The Maltese Falcon [SEP] Expect sharp dialog, ...            0\n",
       "4  The Maltese Falcon [SEP] If you've seen John H...            0"
      ]
     },
     "execution_count": 100,
     "metadata": {},
     "output_type": "execute_result"
    }
   ],
   "source": [
    "df.head()"
   ]
  },
  {
   "cell_type": "code",
   "execution_count": 3,
   "id": "293175b1",
   "metadata": {},
   "outputs": [
    {
     "data": {
      "text/html": [
       "<div>\n",
       "<style scoped>\n",
       "    .dataframe tbody tr th:only-of-type {\n",
       "        vertical-align: middle;\n",
       "    }\n",
       "\n",
       "    .dataframe tbody tr th {\n",
       "        vertical-align: top;\n",
       "    }\n",
       "\n",
       "    .dataframe thead th {\n",
       "        text-align: right;\n",
       "    }\n",
       "</style>\n",
       "<table border=\"1\" class=\"dataframe\">\n",
       "  <thead>\n",
       "    <tr style=\"text-align: right;\">\n",
       "      <th></th>\n",
       "      <th>user_id</th>\n",
       "      <th>timestamp</th>\n",
       "      <th>book_id</th>\n",
       "      <th>book_title</th>\n",
       "      <th>sent_num</th>\n",
       "      <th>sent_spoil</th>\n",
       "      <th>sentence</th>\n",
       "      <th>rating</th>\n",
       "      <th>has_spoiler</th>\n",
       "      <th>review_id</th>\n",
       "    </tr>\n",
       "  </thead>\n",
       "  <tbody>\n",
       "    <tr>\n",
       "      <th>111980</th>\n",
       "      <td>bdca7a98aaf41a86e637c63ae39660e1</td>\n",
       "      <td>2015-06-13</td>\n",
       "      <td>22308717</td>\n",
       "      <td>The Last Time We Say Goodbye</td>\n",
       "      <td>9</td>\n",
       "      <td>0</td>\n",
       "      <td>I envy Alexis Riggs for that.</td>\n",
       "      <td>4</td>\n",
       "      <td>False</td>\n",
       "      <td>8f776a27a80e922e4a7d8cd493a41959</td>\n",
       "    </tr>\n",
       "    <tr>\n",
       "      <th>173287</th>\n",
       "      <td>c800ba07d8d3d7c81f122cffcc78bc73</td>\n",
       "      <td>2014-06-09</td>\n",
       "      <td>11713449</td>\n",
       "      <td>Delirium (Delirium, #1)</td>\n",
       "      <td>19</td>\n",
       "      <td>0</td>\n",
       "      <td>Lena also had some fairly solid relationships ...</td>\n",
       "      <td>4</td>\n",
       "      <td>False</td>\n",
       "      <td>20b8a1c85ea93aa32ab404e2820ea80e</td>\n",
       "    </tr>\n",
       "    <tr>\n",
       "      <th>52708</th>\n",
       "      <td>24434c68039ba698f1ae91ecb7065f2a</td>\n",
       "      <td>2016-05-12</td>\n",
       "      <td>16034235</td>\n",
       "      <td>Throne of Glass (Throne of Glass, #1)</td>\n",
       "      <td>8</td>\n",
       "      <td>0</td>\n",
       "      <td>It is believed that magic no longer exists.</td>\n",
       "      <td>4</td>\n",
       "      <td>False</td>\n",
       "      <td>87c6f9a4bd270ba942b74632d3227093</td>\n",
       "    </tr>\n",
       "    <tr>\n",
       "      <th>93324</th>\n",
       "      <td>5ffbda5c69a7ed61e185b9878b0d622d</td>\n",
       "      <td>2012-08-13</td>\n",
       "      <td>11919</td>\n",
       "      <td>Haunted (Women of the Otherworld, #5)</td>\n",
       "      <td>29</td>\n",
       "      <td>0</td>\n",
       "      <td>They simply click.</td>\n",
       "      <td>3</td>\n",
       "      <td>False</td>\n",
       "      <td>c68a5b3433ee9da0021c02373084b497</td>\n",
       "    </tr>\n",
       "    <tr>\n",
       "      <th>71643</th>\n",
       "      <td>b012ddad3df33ae31b180d0b70095b42</td>\n",
       "      <td>2014-06-27</td>\n",
       "      <td>30122</td>\n",
       "      <td>The Missing Piece</td>\n",
       "      <td>3</td>\n",
       "      <td>0</td>\n",
       "      <td>Will the circle ever miss that piece it found ...</td>\n",
       "      <td>4</td>\n",
       "      <td>False</td>\n",
       "      <td>66b061efe7e6057792f4042f97712c12</td>\n",
       "    </tr>\n",
       "  </tbody>\n",
       "</table>\n",
       "</div>"
      ],
      "text/plain": [
       "                                 user_id   timestamp   book_id  \\\n",
       "111980  bdca7a98aaf41a86e637c63ae39660e1  2015-06-13  22308717   \n",
       "173287  c800ba07d8d3d7c81f122cffcc78bc73  2014-06-09  11713449   \n",
       "52708   24434c68039ba698f1ae91ecb7065f2a  2016-05-12  16034235   \n",
       "93324   5ffbda5c69a7ed61e185b9878b0d622d  2012-08-13     11919   \n",
       "71643   b012ddad3df33ae31b180d0b70095b42  2014-06-27     30122   \n",
       "\n",
       "                                   book_title  sent_num  sent_spoil  \\\n",
       "111980           The Last Time We Say Goodbye         9           0   \n",
       "173287                Delirium (Delirium, #1)        19           0   \n",
       "52708   Throne of Glass (Throne of Glass, #1)         8           0   \n",
       "93324   Haunted (Women of the Otherworld, #5)        29           0   \n",
       "71643                       The Missing Piece         3           0   \n",
       "\n",
       "                                                 sentence  rating  \\\n",
       "111980                      I envy Alexis Riggs for that.       4   \n",
       "173287  Lena also had some fairly solid relationships ...       4   \n",
       "52708         It is believed that magic no longer exists.       4   \n",
       "93324                                  They simply click.       3   \n",
       "71643   Will the circle ever miss that piece it found ...       4   \n",
       "\n",
       "        has_spoiler                         review_id  \n",
       "111980        False  8f776a27a80e922e4a7d8cd493a41959  \n",
       "173287        False  20b8a1c85ea93aa32ab404e2820ea80e  \n",
       "52708         False  87c6f9a4bd270ba942b74632d3227093  \n",
       "93324         False  c68a5b3433ee9da0021c02373084b497  \n",
       "71643         False  66b061efe7e6057792f4042f97712c12  "
      ]
     },
     "execution_count": 3,
     "metadata": {},
     "output_type": "execute_result"
    }
   ],
   "source": [
    "rev = pd.read_pickle('data/flattened_15K_test.pkl')\n",
    "rev.head()"
   ]
  },
  {
   "cell_type": "code",
   "execution_count": 5,
   "id": "15f4954e",
   "metadata": {},
   "outputs": [
    {
     "data": {
      "application/vnd.jupyter.widget-view+json": {
       "model_id": "d1566a5e0ad24974b4c02dd7e965bd06",
       "version_major": 2,
       "version_minor": 0
      },
      "text/plain": [
       "  0%|          | 0/15001 [00:00<?, ?it/s]"
      ]
     },
     "metadata": {},
     "output_type": "display_data"
    }
   ],
   "source": [
    "sent = []\n",
    "spoil = []\n",
    "for i in tq.tqdm(range(len(rev))):\n",
    "    sent.append(rev.iloc[i].book_title + ' [SEP] ' + rev.iloc[i].sentence)   \n",
    "    spoil.append(rev.iloc[i].sent_spoil)\n",
    "\n",
    "df = pd.DataFrame(list(zip(sent, spoil)), \n",
    "               columns =['sentence', 'has_spoiler']) "
   ]
  },
  {
   "cell_type": "code",
   "execution_count": 7,
   "id": "9bea6b80",
   "metadata": {},
   "outputs": [
    {
     "data": {
      "text/plain": [
       "0    14485\n",
       "1      516\n",
       "Name: has_spoiler, dtype: int64"
      ]
     },
     "execution_count": 7,
     "metadata": {},
     "output_type": "execute_result"
    }
   ],
   "source": [
    "df.has_spoiler.value_counts()"
   ]
  },
  {
   "cell_type": "code",
   "execution_count": 8,
   "id": "89428460",
   "metadata": {},
   "outputs": [],
   "source": [
    "df.to_pickle(\"data/15ktest_goodreads_sent_spoil_titles.pkl\")"
   ]
  },
  {
   "cell_type": "code",
   "execution_count": 4,
   "id": "d9972c0c",
   "metadata": {},
   "outputs": [
    {
     "data": {
      "text/plain": [
       "(3534334, 2)"
      ]
     },
     "execution_count": 4,
     "metadata": {},
     "output_type": "execute_result"
    }
   ],
   "source": [
    "df = pd.read_pickle(\"data/goodreads_sent_spoil_titles.pkl\")\n",
    "df.shape"
   ]
  },
  {
   "cell_type": "code",
   "execution_count": 5,
   "id": "605a670b",
   "metadata": {},
   "outputs": [
    {
     "data": {
      "text/plain": [
       "(15001, 2)"
      ]
     },
     "execution_count": 5,
     "metadata": {},
     "output_type": "execute_result"
    }
   ],
   "source": [
    "test = pd.read_pickle('data/15ktest_goodreads_sent_spoil_titles.pkl')\n",
    "test.shape"
   ]
  },
  {
   "cell_type": "code",
   "execution_count": 6,
   "id": "c3832a01",
   "metadata": {},
   "outputs": [
    {
     "data": {
      "text/html": [
       "<div>\n",
       "<style scoped>\n",
       "    .dataframe tbody tr th:only-of-type {\n",
       "        vertical-align: middle;\n",
       "    }\n",
       "\n",
       "    .dataframe tbody tr th {\n",
       "        vertical-align: top;\n",
       "    }\n",
       "\n",
       "    .dataframe thead th {\n",
       "        text-align: right;\n",
       "    }\n",
       "</style>\n",
       "<table border=\"1\" class=\"dataframe\">\n",
       "  <thead>\n",
       "    <tr style=\"text-align: right;\">\n",
       "      <th></th>\n",
       "      <th>sentence</th>\n",
       "      <th>has_spoiler</th>\n",
       "    </tr>\n",
       "  </thead>\n",
       "  <tbody>\n",
       "    <tr>\n",
       "      <th>0</th>\n",
       "      <td>The Last Time We Say Goodbye [SEP] I envy Alex...</td>\n",
       "      <td>0</td>\n",
       "    </tr>\n",
       "    <tr>\n",
       "      <th>1</th>\n",
       "      <td>Delirium (Delirium, #1) [SEP] Lena also had so...</td>\n",
       "      <td>0</td>\n",
       "    </tr>\n",
       "    <tr>\n",
       "      <th>2</th>\n",
       "      <td>Throne of Glass (Throne of Glass, #1) [SEP] It...</td>\n",
       "      <td>0</td>\n",
       "    </tr>\n",
       "    <tr>\n",
       "      <th>3</th>\n",
       "      <td>Haunted (Women of the Otherworld, #5) [SEP] Th...</td>\n",
       "      <td>0</td>\n",
       "    </tr>\n",
       "    <tr>\n",
       "      <th>4</th>\n",
       "      <td>The Missing Piece [SEP] Will the circle ever m...</td>\n",
       "      <td>0</td>\n",
       "    </tr>\n",
       "  </tbody>\n",
       "</table>\n",
       "</div>"
      ],
      "text/plain": [
       "                                            sentence  has_spoiler\n",
       "0  The Last Time We Say Goodbye [SEP] I envy Alex...            0\n",
       "1  Delirium (Delirium, #1) [SEP] Lena also had so...            0\n",
       "2  Throne of Glass (Throne of Glass, #1) [SEP] It...            0\n",
       "3  Haunted (Women of the Otherworld, #5) [SEP] Th...            0\n",
       "4  The Missing Piece [SEP] Will the circle ever m...            0"
      ]
     },
     "execution_count": 6,
     "metadata": {},
     "output_type": "execute_result"
    }
   ],
   "source": [
    "test.head()"
   ]
  },
  {
   "cell_type": "code",
   "execution_count": 8,
   "id": "7878ce83",
   "metadata": {},
   "outputs": [
    {
     "data": {
      "text/plain": [
       "(3518910, 2)"
      ]
     },
     "execution_count": 8,
     "metadata": {},
     "output_type": "execute_result"
    }
   ],
   "source": [
    "# making sure test and train/val sets are disjoint\n",
    "df = df[~df.sentence.isin(test.sentence)]\n",
    "df.shape"
   ]
  },
  {
   "cell_type": "code",
   "execution_count": 10,
   "id": "11a3b343",
   "metadata": {},
   "outputs": [],
   "source": [
    "df.to_pickle(\"data/goodreads_sent_spoil_titles.pkl\")"
   ]
  },
  {
   "cell_type": "code",
   "execution_count": 11,
   "id": "e22b85c6",
   "metadata": {},
   "outputs": [
    {
     "data": {
      "text/plain": [
       "(228460, 2)"
      ]
     },
     "execution_count": 11,
     "metadata": {},
     "output_type": "execute_result"
    }
   ],
   "source": [
    "# saving a balanced version of the dataset\n",
    "df = pd.concat([df[df.has_spoiler==1], df[df.has_spoiler==0].sample(len(df[df.has_spoiler==1]))]).sample(frac=1)\n",
    "df.shape"
   ]
  },
  {
   "cell_type": "code",
   "execution_count": 12,
   "id": "d180b32c",
   "metadata": {},
   "outputs": [],
   "source": [
    "df.to_pickle(\"data/goodreads_sent_spoil_titles_balanced.pkl\")"
   ]
  },
  {
   "cell_type": "code",
   "execution_count": 13,
   "id": "2c293d8f",
   "metadata": {},
   "outputs": [
    {
     "data": {
      "text/plain": [
       "0    114230\n",
       "1    114230\n",
       "Name: has_spoiler, dtype: int64"
      ]
     },
     "execution_count": 13,
     "metadata": {},
     "output_type": "execute_result"
    }
   ],
   "source": [
    "df.has_spoiler.value_counts()"
   ]
  },
  {
   "cell_type": "markdown",
   "id": "f2445a9c",
   "metadata": {},
   "source": [
    "# Prepare review-level dataset, instead of sentence-level"
   ]
  },
  {
   "cell_type": "code",
   "execution_count": 3,
   "id": "053ca1dd",
   "metadata": {},
   "outputs": [],
   "source": [
    "rev = pd.read_pickle('csc2515-project-main/csc2515-project-main/data/goodreads.pkl')"
   ]
  },
  {
   "cell_type": "code",
   "execution_count": 4,
   "id": "4296f34a",
   "metadata": {},
   "outputs": [
    {
     "data": {
      "text/html": [
       "<div>\n",
       "<style scoped>\n",
       "    .dataframe tbody tr th:only-of-type {\n",
       "        vertical-align: middle;\n",
       "    }\n",
       "\n",
       "    .dataframe tbody tr th {\n",
       "        vertical-align: top;\n",
       "    }\n",
       "\n",
       "    .dataframe thead th {\n",
       "        text-align: right;\n",
       "    }\n",
       "</style>\n",
       "<table border=\"1\" class=\"dataframe\">\n",
       "  <thead>\n",
       "    <tr style=\"text-align: right;\">\n",
       "      <th></th>\n",
       "      <th>user_id</th>\n",
       "      <th>timestamp</th>\n",
       "      <th>review_sentences</th>\n",
       "      <th>rating</th>\n",
       "      <th>has_spoiler</th>\n",
       "      <th>book_id</th>\n",
       "      <th>review_id</th>\n",
       "      <th>title</th>\n",
       "    </tr>\n",
       "  </thead>\n",
       "  <tbody>\n",
       "    <tr>\n",
       "      <th>0</th>\n",
       "      <td>5b78fd996dd2af3e863bec412a410512</td>\n",
       "      <td>2012-01-02</td>\n",
       "      <td>[[0, Essential reading for anyone serious abou...</td>\n",
       "      <td>5</td>\n",
       "      <td>False</td>\n",
       "      <td>29999</td>\n",
       "      <td>ad2bf9e7e72997ec053fe9d666a76240</td>\n",
       "      <td>The Maltese Falcon</td>\n",
       "    </tr>\n",
       "    <tr>\n",
       "      <th>1</th>\n",
       "      <td>b492976229a8c400dac0f49e7fdbc089</td>\n",
       "      <td>2011-06-19</td>\n",
       "      <td>[[0, This is a perfectly good book, but I star...</td>\n",
       "      <td>3</td>\n",
       "      <td>False</td>\n",
       "      <td>29999</td>\n",
       "      <td>a7e8220cddf1ab786d9ba51614d4d092</td>\n",
       "      <td>The Maltese Falcon</td>\n",
       "    </tr>\n",
       "    <tr>\n",
       "      <th>2</th>\n",
       "      <td>8b29249b521466c99ce780b0dc664cd7</td>\n",
       "      <td>2016-09-14</td>\n",
       "      <td>[[0, I had a hard time deciding between 2 and ...</td>\n",
       "      <td>2</td>\n",
       "      <td>False</td>\n",
       "      <td>29999</td>\n",
       "      <td>893c6d3dd7e6694bf59b83e93accfe98</td>\n",
       "      <td>The Maltese Falcon</td>\n",
       "    </tr>\n",
       "    <tr>\n",
       "      <th>3</th>\n",
       "      <td>3b73ddb805671095f090c7d3b388b34e</td>\n",
       "      <td>2014-05-28</td>\n",
       "      <td>[[0, I haven't read any books like this before...</td>\n",
       "      <td>3</td>\n",
       "      <td>False</td>\n",
       "      <td>29999</td>\n",
       "      <td>82f44972acd3a58f3520c9fd49e9e54b</td>\n",
       "      <td>The Maltese Falcon</td>\n",
       "    </tr>\n",
       "    <tr>\n",
       "      <th>4</th>\n",
       "      <td>0c2d6326b42e940a8be9f4e3895e7841</td>\n",
       "      <td>2016-03-21</td>\n",
       "      <td>[[0, I read this book for my english class, an...</td>\n",
       "      <td>2</td>\n",
       "      <td>False</td>\n",
       "      <td>29999</td>\n",
       "      <td>bc07a4b4d36d763228bb29e5f0097ad2</td>\n",
       "      <td>The Maltese Falcon</td>\n",
       "    </tr>\n",
       "  </tbody>\n",
       "</table>\n",
       "</div>"
      ],
      "text/plain": [
       "                            user_id   timestamp  \\\n",
       "0  5b78fd996dd2af3e863bec412a410512  2012-01-02   \n",
       "1  b492976229a8c400dac0f49e7fdbc089  2011-06-19   \n",
       "2  8b29249b521466c99ce780b0dc664cd7  2016-09-14   \n",
       "3  3b73ddb805671095f090c7d3b388b34e  2014-05-28   \n",
       "4  0c2d6326b42e940a8be9f4e3895e7841  2016-03-21   \n",
       "\n",
       "                                    review_sentences  rating  has_spoiler  \\\n",
       "0  [[0, Essential reading for anyone serious abou...       5        False   \n",
       "1  [[0, This is a perfectly good book, but I star...       3        False   \n",
       "2  [[0, I had a hard time deciding between 2 and ...       2        False   \n",
       "3  [[0, I haven't read any books like this before...       3        False   \n",
       "4  [[0, I read this book for my english class, an...       2        False   \n",
       "\n",
       "   book_id                         review_id               title  \n",
       "0    29999  ad2bf9e7e72997ec053fe9d666a76240  The Maltese Falcon  \n",
       "1    29999  a7e8220cddf1ab786d9ba51614d4d092  The Maltese Falcon  \n",
       "2    29999  893c6d3dd7e6694bf59b83e93accfe98  The Maltese Falcon  \n",
       "3    29999  82f44972acd3a58f3520c9fd49e9e54b  The Maltese Falcon  \n",
       "4    29999  bc07a4b4d36d763228bb29e5f0097ad2  The Maltese Falcon  "
      ]
     },
     "execution_count": 4,
     "metadata": {},
     "output_type": "execute_result"
    }
   ],
   "source": [
    "rev.head()"
   ]
  },
  {
   "cell_type": "code",
   "execution_count": 5,
   "id": "041cb052",
   "metadata": {},
   "outputs": [
    {
     "data": {
      "text/plain": [
       "(275607, 8)"
      ]
     },
     "execution_count": 5,
     "metadata": {},
     "output_type": "execute_result"
    }
   ],
   "source": [
    "rev.shape"
   ]
  },
  {
   "cell_type": "code",
   "execution_count": 7,
   "id": "41133137",
   "metadata": {},
   "outputs": [],
   "source": [
    "rev = rev[['review_sentences', 'has_spoiler']]"
   ]
  },
  {
   "cell_type": "code",
   "execution_count": 13,
   "id": "ad67020b",
   "metadata": {},
   "outputs": [],
   "source": [
    "rev['sentence'] = rev.review_sentences.apply(lambda x: ' '.join([s[1] for s in x]))\n",
    "rev = rev[['sentence', 'has_spoiler']]"
   ]
  },
  {
   "cell_type": "code",
   "execution_count": 15,
   "id": "ecf49e00",
   "metadata": {},
   "outputs": [],
   "source": [
    "rev.has_spoiler = rev.has_spoiler.apply(int)"
   ]
  },
  {
   "cell_type": "code",
   "execution_count": 17,
   "id": "1b5e7488",
   "metadata": {},
   "outputs": [
    {
     "data": {
      "text/plain": [
       "0    257628\n",
       "1     17979\n",
       "Name: has_spoiler, dtype: int64"
      ]
     },
     "execution_count": 17,
     "metadata": {},
     "output_type": "execute_result"
    }
   ],
   "source": [
    "rev.has_spoiler.value_counts()"
   ]
  },
  {
   "cell_type": "code",
   "execution_count": 20,
   "id": "8a9d20cf",
   "metadata": {},
   "outputs": [
    {
     "data": {
      "text/plain": [
       "count    275607.000000\n",
       "mean       1058.580149\n",
       "std        1252.834231\n",
       "min           3.000000\n",
       "25%         216.000000\n",
       "50%         596.000000\n",
       "75%        1458.000000\n",
       "max       19494.000000\n",
       "Name: sentence, dtype: float64"
      ]
     },
     "execution_count": 20,
     "metadata": {},
     "output_type": "execute_result"
    }
   ],
   "source": [
    "rev.sentence.apply(len).describe()"
   ]
  },
  {
   "cell_type": "code",
   "execution_count": 22,
   "id": "74367677",
   "metadata": {},
   "outputs": [],
   "source": [
    "rev_train, rev_test = train_test_split(rev, test_size=0.05)\n",
    "#rev.to_pkl('data/goodreads_review')"
   ]
  },
  {
   "cell_type": "code",
   "execution_count": 23,
   "id": "7cfbce68",
   "metadata": {},
   "outputs": [
    {
     "data": {
      "text/plain": [
       "sentence                                                                                                                                                                                                                                                                                                                                                                                                                                                                                                                                                                                                                                                                                                                                                                                                                                                                                                                                                                                                                                                                                                                                                                                                                                                                                                                                                                                                                                                                                                                                                                                                                                                                                                                                                                                                                                                                                                                                                                                                                                                                                                                                                                                                                                                                                                                                                                                                                                                                                                                                              has_spoiler\n",
       "Review to come.                                                                                                                                                                                                                                                                                                                                                                                                                                                                                                                                                                                                                                                                                                                                                                                                                                                                                                                                                                                                                                                                                                                                                                                                                                                                                                                                                                                                                                                                                                                                                                                                                                                                                                                                                                                                                                                                                                                                                                                                                                                                                                                                                                                                                                                                                                                                                                                                                                                                                                                                       0              181\n",
       "Review to come                                                                                                                                                                                                                                                                                                                                                                                                                                                                                                                                                                                                                                                                                                                                                                                                                                                                                                                                                                                                                                                                                                                                                                                                                                                                                                                                                                                                                                                                                                                                                                                                                                                                                                                                                                                                                                                                                                                                                                                                                                                                                                                                                                                                                                                                                                                                                                                                                                                                                                                                        0              163\n",
       "Review to come!                                                                                                                                                                                                                                                                                                                                                                                                                                                                                                                                                                                                                                                                                                                                                                                                                                                                                                                                                                                                                                                                                                                                                                                                                                                                                                                                                                                                                                                                                                                                                                                                                                                                                                                                                                                                                                                                                                                                                                                                                                                                                                                                                                                                                                                                                                                                                                                                                                                                                                                                       0              103\n",
       "Review coming soon!                                                                                                                                                                                                                                                                                                                                                                                                                                                                                                                                                                                                                                                                                                                                                                                                                                                                                                                                                                                                                                                                                                                                                                                                                                                                                                                                                                                                                                                                                                                                                                                                                                                                                                                                                                                                                                                                                                                                                                                                                                                                                                                                                                                                                                                                                                                                                                                                                                                                                                                                   0               62\n",
       "review to come                                                                                                                                                                                                                                                                                                                                                                                                                                                                                                                                                                                                                                                                                                                                                                                                                                                                                                                                                                                                                                                                                                                                                                                                                                                                                                                                                                                                                                                                                                                                                                                                                                                                                                                                                                                                                                                                                                                                                                                                                                                                                                                                                                                                                                                                                                                                                                                                                                                                                                                                        0               56\n",
       "                                                                                                                                                                                                                                                                                                                                                                                                                                                                                                                                                                                                                                                                                                                                                                                                                                                                                                                                                                                                                                                                                                                                                                                                                                                                                                                                                                                                                                                                                                                                                                                                                                                                                                                                                                                                                                                                                                                                                                                                                                                                                                                                                                                                                                                                                                                                                                                                                                                                                                                                                                    ... \n",
       "I don't know what to say about this book except that I was blown away. Pearce manages to capture the universal doubt girls/women feel about love, life, faith, and sexuality. Even as a married woman, so much of this story resonated with me, it left me wanting more than the mere 218 pages. This is something I will be giving to my teenage daughter, when I have one. While contemporary teen is completely out of my comfort zone, I recommend this book to every girl who questioned the world.                                                                                                                                                                                                                                                                                                                                                                                                                                                                                                                                                                                                                                                                                                                                                                                                                                                                                                                                                                                                                                                                                                                                                                                                                                                                                                                                                                                                                                                                                                                                                                                                                                                                                                                                                                                                                                                                                                                                                                                                                                              0                1\n",
       "I don't know what to say about this book without being too sappy. I really loved it. Parts of it were painful, and all of it was sad, but it was also sweet and insightful and brilliant. I'm definitely going to pick up something else by Foer soon.                                                                                                                                                                                                                                                                                                                                                                                                                                                                                                                                                                                                                                                                                                                                                                                                                                                                                                                                                                                                                                                                                                                                                                                                                                                                                                                                                                                                                                                                                                                                                                                                                                                                                                                                                                                                                                                                                                                                                                                                                                                                                                                                                                                                                                                                                                0                1\n",
       "I don't know what to say about this book, I am at a loss for words. It was pretty disturbing, though not necessarily in a graphic way. It felt sad and helpless and it left me with a bitter taste in my mouth, for all the hurt I wanted to take away, for all the wrongs I wanted to make right again. The book is good, the story strong, the characters broken, maybe that's the problem, it felt too real, at times it felt like I couldn't handle such a raw story without feeling a terrible frustration over the situations described. 4.5 stars. Highly recommended. Full review soon.                                                                                                                                                                                                                                                                                                                                                                                                                                                                                                                                                                                                                                                                                                                                                                                                                                                                                                                                                                                                                                                                                                                                                                                                                                                                                                                                                                                                                                                                                                                                                                                                                                                                                                                                                                                                                                                                                                                                                       0                1\n",
       "I don't know what to say about this book, such a beautiful well written Story, heartbreaking not dark like her other books, Once I started I couldn't put it down, it had me right from the start. If you love Peppers work you will love this so different but so so good.                                                                                                                                                                                                                                                                                                                                                                                                                                                                                                                                                                                                                                                                                                                                                                                                                                                                                                                                                                                                                                                                                                                                                                                                                                                                                                                                                                                                                                                                                                                                                                                                                                                                                                                                                                                                                                                                                                                                                                                                                                                                                                                                                                                                                                                                           0                1\n",
       "~~~~~ 5+ ***** Intense, Dangerous, Dark, sexy stars ~~~~~ Where to start with this review?... well.... and I don't think my review will do the book justice but here goes... Cast: Sarai and Victor book stats: Genre: Thriller, Action, Dark with subtle Romance POV: duel POV- alternates between Sarai and Victor. Steam factor: Medium- sex after 80% but chemistry build up throughout. Action: High Just a quick BLURB: Sarai was taken to drug lord 'Javier' at 14 as her mother was sleeping with him but he became infatuated with Sarai and has been his captive ever since. 9 years later  (this is where the book starts)  she sees a way out when Victor- an assassin is making some sort of deal with Javier and she stows herself in his car. Victor as an assasin is hardened to her pleas of help but he carries on driving due to the gun pointing at his head by her right now. and the journey continues... My review This story held  me  captive from the first page. I almost felt anxious and sick for Sarai as she made he escape. It reads like a movie with full speed ahead action and intensity right from the word go. I am discipline. Sarai is rage. Sarai is beautiful but by no means a fragile heroine- in fact she is perceptive & strong- albeit obviously slightly fucked up from her past. Victor is no prince charming- he isn't going to sweep her off her feet and rescue her. He is an assassin of the highest 'Order' and deadly but o so sexy. \"In the end, you can only trust yourself. I am not your hero. I am not the other half of your soul who could never let anything bad ever happen to you. Trust your instincts first always, and me, if you choose,last.\" The romance side of the book is done so well- there's no lust at first site/ insta-love involved here. Victor has been trained to block human emotion and doesn't really know how to love and Sarai has trained herslelf to harden against emotion so what they feel for each other becomes gradual I really enjoyed the build up between them- it made a change from the usual romances I read and there's no declarations of love or romantic gestures as such but it still had me smiling, swooning and my stomach clenching. I don't think that this thing between us is love, or even lust. It's something else, something powerful and unmistakable that neither of us have been able to ignore. But it doesn't have a face. Or a name. so Firstly Secondly and last of all. Prepare to be well bloody done J.A. Redmerski  0                1\n",
       "Length: 259862, dtype: int64"
      ]
     },
     "execution_count": 23,
     "metadata": {},
     "output_type": "execute_result"
    }
   ],
   "source": [
    "rev_train.value_counts()"
   ]
  },
  {
   "cell_type": "code",
   "execution_count": 27,
   "id": "85c11ea8",
   "metadata": {},
   "outputs": [
    {
     "data": {
      "text/html": [
       "<div>\n",
       "<style scoped>\n",
       "    .dataframe tbody tr th:only-of-type {\n",
       "        vertical-align: middle;\n",
       "    }\n",
       "\n",
       "    .dataframe tbody tr th {\n",
       "        vertical-align: top;\n",
       "    }\n",
       "\n",
       "    .dataframe thead th {\n",
       "        text-align: right;\n",
       "    }\n",
       "</style>\n",
       "<table border=\"1\" class=\"dataframe\">\n",
       "  <thead>\n",
       "    <tr style=\"text-align: right;\">\n",
       "      <th></th>\n",
       "      <th>sentence</th>\n",
       "      <th>has_spoiler</th>\n",
       "    </tr>\n",
       "  </thead>\n",
       "  <tbody>\n",
       "    <tr>\n",
       "      <th>235218</th>\n",
       "      <td>I was on a dystopia high once upon a time. Tha...</td>\n",
       "      <td>0</td>\n",
       "    </tr>\n",
       "    <tr>\n",
       "      <th>50163</th>\n",
       "      <td>I'm writing a review as I had a sudden desire ...</td>\n",
       "      <td>0</td>\n",
       "    </tr>\n",
       "    <tr>\n",
       "      <th>77334</th>\n",
       "      <td>Well this was certainly a wild ride! A Great R...</td>\n",
       "      <td>0</td>\n",
       "    </tr>\n",
       "    <tr>\n",
       "      <th>85401</th>\n",
       "      <td>Reread February 2016 for book club. Still disg...</td>\n",
       "      <td>1</td>\n",
       "    </tr>\n",
       "    <tr>\n",
       "      <th>109084</th>\n",
       "      <td>Cora Carmack is a new author, to me. I recentl...</td>\n",
       "      <td>0</td>\n",
       "    </tr>\n",
       "  </tbody>\n",
       "</table>\n",
       "</div>"
      ],
      "text/plain": [
       "                                                 sentence  has_spoiler\n",
       "235218  I was on a dystopia high once upon a time. Tha...            0\n",
       "50163   I'm writing a review as I had a sudden desire ...            0\n",
       "77334   Well this was certainly a wild ride! A Great R...            0\n",
       "85401   Reread February 2016 for book club. Still disg...            1\n",
       "109084  Cora Carmack is a new author, to me. I recentl...            0"
      ]
     },
     "execution_count": 27,
     "metadata": {},
     "output_type": "execute_result"
    }
   ],
   "source": [
    "rev_test = pd.read_pickle('data/goodreads_review_test.pkl')\n",
    "rev_test.head()"
   ]
  },
  {
   "cell_type": "code",
   "execution_count": 28,
   "id": "149a79a8",
   "metadata": {},
   "outputs": [],
   "source": [
    "rev = pd.read_pickle('csc2515-project-main/csc2515-project-main/data/goodreads.pkl')"
   ]
  },
  {
   "cell_type": "code",
   "execution_count": 29,
   "id": "cc83be38",
   "metadata": {},
   "outputs": [
    {
     "data": {
      "text/html": [
       "<div>\n",
       "<style scoped>\n",
       "    .dataframe tbody tr th:only-of-type {\n",
       "        vertical-align: middle;\n",
       "    }\n",
       "\n",
       "    .dataframe tbody tr th {\n",
       "        vertical-align: top;\n",
       "    }\n",
       "\n",
       "    .dataframe thead th {\n",
       "        text-align: right;\n",
       "    }\n",
       "</style>\n",
       "<table border=\"1\" class=\"dataframe\">\n",
       "  <thead>\n",
       "    <tr style=\"text-align: right;\">\n",
       "      <th></th>\n",
       "      <th>user_id</th>\n",
       "      <th>timestamp</th>\n",
       "      <th>review_sentences</th>\n",
       "      <th>rating</th>\n",
       "      <th>has_spoiler</th>\n",
       "      <th>book_id</th>\n",
       "      <th>review_id</th>\n",
       "      <th>title</th>\n",
       "    </tr>\n",
       "  </thead>\n",
       "  <tbody>\n",
       "    <tr>\n",
       "      <th>0</th>\n",
       "      <td>5b78fd996dd2af3e863bec412a410512</td>\n",
       "      <td>2012-01-02</td>\n",
       "      <td>[[0, Essential reading for anyone serious abou...</td>\n",
       "      <td>5</td>\n",
       "      <td>False</td>\n",
       "      <td>29999</td>\n",
       "      <td>ad2bf9e7e72997ec053fe9d666a76240</td>\n",
       "      <td>The Maltese Falcon</td>\n",
       "    </tr>\n",
       "    <tr>\n",
       "      <th>1</th>\n",
       "      <td>b492976229a8c400dac0f49e7fdbc089</td>\n",
       "      <td>2011-06-19</td>\n",
       "      <td>[[0, This is a perfectly good book, but I star...</td>\n",
       "      <td>3</td>\n",
       "      <td>False</td>\n",
       "      <td>29999</td>\n",
       "      <td>a7e8220cddf1ab786d9ba51614d4d092</td>\n",
       "      <td>The Maltese Falcon</td>\n",
       "    </tr>\n",
       "    <tr>\n",
       "      <th>2</th>\n",
       "      <td>8b29249b521466c99ce780b0dc664cd7</td>\n",
       "      <td>2016-09-14</td>\n",
       "      <td>[[0, I had a hard time deciding between 2 and ...</td>\n",
       "      <td>2</td>\n",
       "      <td>False</td>\n",
       "      <td>29999</td>\n",
       "      <td>893c6d3dd7e6694bf59b83e93accfe98</td>\n",
       "      <td>The Maltese Falcon</td>\n",
       "    </tr>\n",
       "    <tr>\n",
       "      <th>3</th>\n",
       "      <td>3b73ddb805671095f090c7d3b388b34e</td>\n",
       "      <td>2014-05-28</td>\n",
       "      <td>[[0, I haven't read any books like this before...</td>\n",
       "      <td>3</td>\n",
       "      <td>False</td>\n",
       "      <td>29999</td>\n",
       "      <td>82f44972acd3a58f3520c9fd49e9e54b</td>\n",
       "      <td>The Maltese Falcon</td>\n",
       "    </tr>\n",
       "    <tr>\n",
       "      <th>4</th>\n",
       "      <td>0c2d6326b42e940a8be9f4e3895e7841</td>\n",
       "      <td>2016-03-21</td>\n",
       "      <td>[[0, I read this book for my english class, an...</td>\n",
       "      <td>2</td>\n",
       "      <td>False</td>\n",
       "      <td>29999</td>\n",
       "      <td>bc07a4b4d36d763228bb29e5f0097ad2</td>\n",
       "      <td>The Maltese Falcon</td>\n",
       "    </tr>\n",
       "  </tbody>\n",
       "</table>\n",
       "</div>"
      ],
      "text/plain": [
       "                            user_id   timestamp  \\\n",
       "0  5b78fd996dd2af3e863bec412a410512  2012-01-02   \n",
       "1  b492976229a8c400dac0f49e7fdbc089  2011-06-19   \n",
       "2  8b29249b521466c99ce780b0dc664cd7  2016-09-14   \n",
       "3  3b73ddb805671095f090c7d3b388b34e  2014-05-28   \n",
       "4  0c2d6326b42e940a8be9f4e3895e7841  2016-03-21   \n",
       "\n",
       "                                    review_sentences  rating  has_spoiler  \\\n",
       "0  [[0, Essential reading for anyone serious abou...       5        False   \n",
       "1  [[0, This is a perfectly good book, but I star...       3        False   \n",
       "2  [[0, I had a hard time deciding between 2 and ...       2        False   \n",
       "3  [[0, I haven't read any books like this before...       3        False   \n",
       "4  [[0, I read this book for my english class, an...       2        False   \n",
       "\n",
       "   book_id                         review_id               title  \n",
       "0    29999  ad2bf9e7e72997ec053fe9d666a76240  The Maltese Falcon  \n",
       "1    29999  a7e8220cddf1ab786d9ba51614d4d092  The Maltese Falcon  \n",
       "2    29999  893c6d3dd7e6694bf59b83e93accfe98  The Maltese Falcon  \n",
       "3    29999  82f44972acd3a58f3520c9fd49e9e54b  The Maltese Falcon  \n",
       "4    29999  bc07a4b4d36d763228bb29e5f0097ad2  The Maltese Falcon  "
      ]
     },
     "execution_count": 29,
     "metadata": {},
     "output_type": "execute_result"
    }
   ],
   "source": [
    "rev.head()"
   ]
  },
  {
   "cell_type": "code",
   "execution_count": 30,
   "id": "01fc8784",
   "metadata": {},
   "outputs": [
    {
     "data": {
      "text/plain": [
       "'[[0, \\'Essential reading for anyone serious about mysteries or hard-boiled crime fiction.\\'], [0, \\'Hammett is the grandfather of the hard-bitten private detective.\\'], [0, \\'While his Continental Op was the prototype for this kind of protagonist, Sam Spade is at the root of this now-large family tree, and The Maltese Falcon is his iconic case.\\'], [0, \\'Expect sharp dialog, vivid characters and a voice that speaks with the tone of cigarettes and gin at three in the morning.\\'], [0, \"If you\\'ve seen John Huston\\'s 1941 film version of this story, you\\'ll be amazed how little had to be changed for the screen; Hammett\\'s prose, though of its time, is already cinematic.\"]]'"
      ]
     },
     "execution_count": 30,
     "metadata": {},
     "output_type": "execute_result"
    }
   ],
   "source": [
    "str(rev.review_sentences.values[0])"
   ]
  },
  {
   "cell_type": "code",
   "execution_count": 10,
   "id": "76dfc639",
   "metadata": {},
   "outputs": [
    {
     "data": {
      "text/html": [
       "<div>\n",
       "<style scoped>\n",
       "    .dataframe tbody tr th:only-of-type {\n",
       "        vertical-align: middle;\n",
       "    }\n",
       "\n",
       "    .dataframe tbody tr th {\n",
       "        vertical-align: top;\n",
       "    }\n",
       "\n",
       "    .dataframe thead th {\n",
       "        text-align: right;\n",
       "    }\n",
       "</style>\n",
       "<table border=\"1\" class=\"dataframe\">\n",
       "  <thead>\n",
       "    <tr style=\"text-align: right;\">\n",
       "      <th></th>\n",
       "      <th>sentence</th>\n",
       "      <th>has_spoiler</th>\n",
       "      <th>title</th>\n",
       "      <th>sent</th>\n",
       "    </tr>\n",
       "  </thead>\n",
       "  <tbody>\n",
       "    <tr>\n",
       "      <th>0</th>\n",
       "      <td>The Last Time We Say Goodbye [SEP] I envy Alex...</td>\n",
       "      <td>0</td>\n",
       "      <td>The Last Time We Say Goodbye</td>\n",
       "      <td>I envy Alexis Riggs for that.</td>\n",
       "    </tr>\n",
       "    <tr>\n",
       "      <th>1</th>\n",
       "      <td>Delirium (Delirium, #1) [SEP] Lena also had so...</td>\n",
       "      <td>0</td>\n",
       "      <td>Delirium (Delirium, #1)</td>\n",
       "      <td>Lena also had some fairly solid relationships ...</td>\n",
       "    </tr>\n",
       "    <tr>\n",
       "      <th>2</th>\n",
       "      <td>Throne of Glass (Throne of Glass, #1) [SEP] It...</td>\n",
       "      <td>0</td>\n",
       "      <td>Throne of Glass (Throne of Glass, #1)</td>\n",
       "      <td>It is believed that magic no longer exists.</td>\n",
       "    </tr>\n",
       "    <tr>\n",
       "      <th>3</th>\n",
       "      <td>Haunted (Women of the Otherworld, #5) [SEP] Th...</td>\n",
       "      <td>0</td>\n",
       "      <td>Haunted (Women of the Otherworld, #5)</td>\n",
       "      <td>They simply click.</td>\n",
       "    </tr>\n",
       "    <tr>\n",
       "      <th>4</th>\n",
       "      <td>The Missing Piece [SEP] Will the circle ever m...</td>\n",
       "      <td>0</td>\n",
       "      <td>The Missing Piece</td>\n",
       "      <td>Will the circle ever miss that piece it found ...</td>\n",
       "    </tr>\n",
       "  </tbody>\n",
       "</table>\n",
       "</div>"
      ],
      "text/plain": [
       "                                            sentence  has_spoiler  \\\n",
       "0  The Last Time We Say Goodbye [SEP] I envy Alex...            0   \n",
       "1  Delirium (Delirium, #1) [SEP] Lena also had so...            0   \n",
       "2  Throne of Glass (Throne of Glass, #1) [SEP] It...            0   \n",
       "3  Haunted (Women of the Otherworld, #5) [SEP] Th...            0   \n",
       "4  The Missing Piece [SEP] Will the circle ever m...            0   \n",
       "\n",
       "                                   title  \\\n",
       "0           The Last Time We Say Goodbye   \n",
       "1                Delirium (Delirium, #1)   \n",
       "2  Throne of Glass (Throne of Glass, #1)   \n",
       "3  Haunted (Women of the Otherworld, #5)   \n",
       "4                      The Missing Piece   \n",
       "\n",
       "                                                sent  \n",
       "0                      I envy Alexis Riggs for that.  \n",
       "1  Lena also had some fairly solid relationships ...  \n",
       "2        It is believed that magic no longer exists.  \n",
       "3                                 They simply click.  \n",
       "4  Will the circle ever miss that piece it found ...  "
      ]
     },
     "execution_count": 10,
     "metadata": {},
     "output_type": "execute_result"
    }
   ],
   "source": [
    "rev_test['title'] = rev_test.sentence.apply(lambda x: x.split(' [SEP] ')[0])\n",
    "rev_test['sent'] = rev_test.sentence.apply(lambda x: x.split(' [SEP] ')[1])\n",
    "rev_test.head()"
   ]
  },
  {
   "cell_type": "code",
   "execution_count": 31,
   "id": "4788d845",
   "metadata": {},
   "outputs": [
    {
     "ename": "AttributeError",
     "evalue": "'DataFrame' object has no attribute 'sent'",
     "output_type": "error",
     "traceback": [
      "\u001b[1;31m---------------------------------------------------------------------------\u001b[0m",
      "\u001b[1;31mAttributeError\u001b[0m                            Traceback (most recent call last)",
      "\u001b[1;32m~\\AppData\\Local\\Temp/ipykernel_10056/361852806.py\u001b[0m in \u001b[0;36m<module>\u001b[1;34m\u001b[0m\n\u001b[0;32m      1\u001b[0m \u001b[0mrev\u001b[0m\u001b[1;33m[\u001b[0m\u001b[1;34m'sentence'\u001b[0m\u001b[1;33m]\u001b[0m \u001b[1;33m=\u001b[0m \u001b[0mrev\u001b[0m\u001b[1;33m.\u001b[0m\u001b[0mreview_sentences\u001b[0m\u001b[1;33m.\u001b[0m\u001b[0mapply\u001b[0m\u001b[1;33m(\u001b[0m\u001b[1;32mlambda\u001b[0m \u001b[0mx\u001b[0m\u001b[1;33m:\u001b[0m \u001b[1;34m' '\u001b[0m\u001b[1;33m.\u001b[0m\u001b[0mjoin\u001b[0m\u001b[1;33m(\u001b[0m\u001b[1;33m[\u001b[0m\u001b[0ms\u001b[0m\u001b[1;33m[\u001b[0m\u001b[1;36m1\u001b[0m\u001b[1;33m]\u001b[0m \u001b[1;32mfor\u001b[0m \u001b[0ms\u001b[0m \u001b[1;32min\u001b[0m \u001b[0mx\u001b[0m\u001b[1;33m]\u001b[0m\u001b[1;33m)\u001b[0m\u001b[1;33m)\u001b[0m\u001b[1;33m\u001b[0m\u001b[1;33m\u001b[0m\u001b[0m\n\u001b[1;32m----> 2\u001b[1;33m \u001b[0mrev\u001b[0m\u001b[1;33m[\u001b[0m\u001b[0mrev\u001b[0m\u001b[1;33m.\u001b[0m\u001b[0msentence\u001b[0m\u001b[1;33m.\u001b[0m\u001b[0mstr\u001b[0m\u001b[1;33m.\u001b[0m\u001b[0mcontains\u001b[0m\u001b[1;33m(\u001b[0m\u001b[0mrev_test\u001b[0m\u001b[1;33m.\u001b[0m\u001b[0msent\u001b[0m\u001b[1;33m.\u001b[0m\u001b[0mvalues\u001b[0m\u001b[1;33m[\u001b[0m\u001b[1;36m0\u001b[0m\u001b[1;33m]\u001b[0m\u001b[1;33m)\u001b[0m\u001b[1;33m]\u001b[0m\u001b[1;33m\u001b[0m\u001b[1;33m\u001b[0m\u001b[0m\n\u001b[0m",
      "\u001b[1;32m~\\anaconda3\\lib\\site-packages\\pandas\\core\\generic.py\u001b[0m in \u001b[0;36m__getattr__\u001b[1;34m(self, name)\u001b[0m\n\u001b[0;32m   5485\u001b[0m         ):\n\u001b[0;32m   5486\u001b[0m             \u001b[1;32mreturn\u001b[0m \u001b[0mself\u001b[0m\u001b[1;33m[\u001b[0m\u001b[0mname\u001b[0m\u001b[1;33m]\u001b[0m\u001b[1;33m\u001b[0m\u001b[1;33m\u001b[0m\u001b[0m\n\u001b[1;32m-> 5487\u001b[1;33m         \u001b[1;32mreturn\u001b[0m \u001b[0mobject\u001b[0m\u001b[1;33m.\u001b[0m\u001b[0m__getattribute__\u001b[0m\u001b[1;33m(\u001b[0m\u001b[0mself\u001b[0m\u001b[1;33m,\u001b[0m \u001b[0mname\u001b[0m\u001b[1;33m)\u001b[0m\u001b[1;33m\u001b[0m\u001b[1;33m\u001b[0m\u001b[0m\n\u001b[0m\u001b[0;32m   5488\u001b[0m \u001b[1;33m\u001b[0m\u001b[0m\n\u001b[0;32m   5489\u001b[0m     \u001b[1;32mdef\u001b[0m \u001b[0m__setattr__\u001b[0m\u001b[1;33m(\u001b[0m\u001b[0mself\u001b[0m\u001b[1;33m,\u001b[0m \u001b[0mname\u001b[0m\u001b[1;33m:\u001b[0m \u001b[0mstr\u001b[0m\u001b[1;33m,\u001b[0m \u001b[0mvalue\u001b[0m\u001b[1;33m)\u001b[0m \u001b[1;33m->\u001b[0m \u001b[1;32mNone\u001b[0m\u001b[1;33m:\u001b[0m\u001b[1;33m\u001b[0m\u001b[1;33m\u001b[0m\u001b[0m\n",
      "\u001b[1;31mAttributeError\u001b[0m: 'DataFrame' object has no attribute 'sent'"
     ]
    }
   ],
   "source": [
    "rev['sentence'] = rev.review_sentences.apply(lambda x: ' '.join([s[1] for s in x]))"
   ]
  },
  {
   "cell_type": "code",
   "execution_count": 32,
   "id": "9f05fd9b",
   "metadata": {},
   "outputs": [
    {
     "data": {
      "text/plain": [
       "(18072, 5)"
      ]
     },
     "execution_count": 32,
     "metadata": {},
     "output_type": "execute_result"
    }
   ],
   "source": [
    "rev_test = rev_test.merge(rev[['sentence', 'review_id', 'title', 'review_sentences']], on='sentence', how='left')\n",
    "rev_test.shape"
   ]
  },
  {
   "cell_type": "code",
   "execution_count": 33,
   "id": "77652a97",
   "metadata": {},
   "outputs": [
    {
     "data": {
      "text/html": [
       "<div>\n",
       "<style scoped>\n",
       "    .dataframe tbody tr th:only-of-type {\n",
       "        vertical-align: middle;\n",
       "    }\n",
       "\n",
       "    .dataframe tbody tr th {\n",
       "        vertical-align: top;\n",
       "    }\n",
       "\n",
       "    .dataframe thead th {\n",
       "        text-align: right;\n",
       "    }\n",
       "</style>\n",
       "<table border=\"1\" class=\"dataframe\">\n",
       "  <thead>\n",
       "    <tr style=\"text-align: right;\">\n",
       "      <th></th>\n",
       "      <th>sentence</th>\n",
       "      <th>has_spoiler</th>\n",
       "      <th>review_id</th>\n",
       "      <th>title</th>\n",
       "      <th>review_sentences</th>\n",
       "    </tr>\n",
       "  </thead>\n",
       "  <tbody>\n",
       "    <tr>\n",
       "      <th>0</th>\n",
       "      <td>I was on a dystopia high once upon a time. Tha...</td>\n",
       "      <td>0</td>\n",
       "      <td>568238cfb89ae65a93ba4fe3d359bd23</td>\n",
       "      <td>Proxy (Proxy, #1)</td>\n",
       "      <td>[[0, I was on a dystopia high once upon a time...</td>\n",
       "    </tr>\n",
       "    <tr>\n",
       "      <th>1</th>\n",
       "      <td>I'm writing a review as I had a sudden desire ...</td>\n",
       "      <td>0</td>\n",
       "      <td>7b6ca39c3991cbd61e8341af92503530</td>\n",
       "      <td>The Lies of Locke Lamora (Gentleman Bastard, #1)</td>\n",
       "      <td>[[0, I'm writing a review as I had a sudden de...</td>\n",
       "    </tr>\n",
       "    <tr>\n",
       "      <th>2</th>\n",
       "      <td>Well this was certainly a wild ride! A Great R...</td>\n",
       "      <td>0</td>\n",
       "      <td>518c61992da036bfd4a4b8638dab25a2</td>\n",
       "      <td>A Great Reckoning (Chief Inspector Armand Gama...</td>\n",
       "      <td>[[0, Well this was certainly a wild ride!], [0...</td>\n",
       "    </tr>\n",
       "    <tr>\n",
       "      <th>3</th>\n",
       "      <td>Reread February 2016 for book club. Still disg...</td>\n",
       "      <td>1</td>\n",
       "      <td>8ff24f71cf40b7aaed2fea8920dc2462</td>\n",
       "      <td>You (You, #1)</td>\n",
       "      <td>[[0, Reread February 2016 for book club.], [0,...</td>\n",
       "    </tr>\n",
       "    <tr>\n",
       "      <th>4</th>\n",
       "      <td>Cora Carmack is a new author, to me. I recentl...</td>\n",
       "      <td>0</td>\n",
       "      <td>64eded3480171fe8259722b5acf9551e</td>\n",
       "      <td>All Lined Up (Rusk University, #1)</td>\n",
       "      <td>[[0, Cora Carmack is a new author, to me.], [0...</td>\n",
       "    </tr>\n",
       "  </tbody>\n",
       "</table>\n",
       "</div>"
      ],
      "text/plain": [
       "                                            sentence  has_spoiler  \\\n",
       "0  I was on a dystopia high once upon a time. Tha...            0   \n",
       "1  I'm writing a review as I had a sudden desire ...            0   \n",
       "2  Well this was certainly a wild ride! A Great R...            0   \n",
       "3  Reread February 2016 for book club. Still disg...            1   \n",
       "4  Cora Carmack is a new author, to me. I recentl...            0   \n",
       "\n",
       "                          review_id  \\\n",
       "0  568238cfb89ae65a93ba4fe3d359bd23   \n",
       "1  7b6ca39c3991cbd61e8341af92503530   \n",
       "2  518c61992da036bfd4a4b8638dab25a2   \n",
       "3  8ff24f71cf40b7aaed2fea8920dc2462   \n",
       "4  64eded3480171fe8259722b5acf9551e   \n",
       "\n",
       "                                               title  \\\n",
       "0                                  Proxy (Proxy, #1)   \n",
       "1   The Lies of Locke Lamora (Gentleman Bastard, #1)   \n",
       "2  A Great Reckoning (Chief Inspector Armand Gama...   \n",
       "3                                      You (You, #1)   \n",
       "4                 All Lined Up (Rusk University, #1)   \n",
       "\n",
       "                                    review_sentences  \n",
       "0  [[0, I was on a dystopia high once upon a time...  \n",
       "1  [[0, I'm writing a review as I had a sudden de...  \n",
       "2  [[0, Well this was certainly a wild ride!], [0...  \n",
       "3  [[0, Reread February 2016 for book club.], [0,...  \n",
       "4  [[0, Cora Carmack is a new author, to me.], [0...  "
      ]
     },
     "execution_count": 33,
     "metadata": {},
     "output_type": "execute_result"
    }
   ],
   "source": [
    "rev_test.head()"
   ]
  },
  {
   "cell_type": "code",
   "execution_count": 34,
   "id": "4556c0f7",
   "metadata": {},
   "outputs": [
    {
     "data": {
      "text/plain": [
       "14759"
      ]
     },
     "execution_count": 34,
     "metadata": {},
     "output_type": "execute_result"
    }
   ],
   "source": [
    "rev_test.review_id.nunique()"
   ]
  },
  {
   "cell_type": "code",
   "execution_count": 35,
   "id": "807bcbc1",
   "metadata": {},
   "outputs": [],
   "source": [
    "rev_test = rev_test.groupby('review_id').first().reset_index()"
   ]
  },
  {
   "cell_type": "code",
   "execution_count": 36,
   "id": "b4c701a5",
   "metadata": {},
   "outputs": [
    {
     "data": {
      "text/html": [
       "<div>\n",
       "<style scoped>\n",
       "    .dataframe tbody tr th:only-of-type {\n",
       "        vertical-align: middle;\n",
       "    }\n",
       "\n",
       "    .dataframe tbody tr th {\n",
       "        vertical-align: top;\n",
       "    }\n",
       "\n",
       "    .dataframe thead th {\n",
       "        text-align: right;\n",
       "    }\n",
       "</style>\n",
       "<table border=\"1\" class=\"dataframe\">\n",
       "  <thead>\n",
       "    <tr style=\"text-align: right;\">\n",
       "      <th></th>\n",
       "      <th>review_id</th>\n",
       "      <th>sentence</th>\n",
       "      <th>has_spoiler</th>\n",
       "      <th>title</th>\n",
       "      <th>review_sentences</th>\n",
       "    </tr>\n",
       "  </thead>\n",
       "  <tbody>\n",
       "    <tr>\n",
       "      <th>5</th>\n",
       "      <td>0019fcc7f7e6a726efcd4fa159219136</td>\n",
       "      <td>Review to come.</td>\n",
       "      <td>0</td>\n",
       "      <td>The Raven Boys (The Raven Cycle, #1)</td>\n",
       "      <td>[[0, Review to come.]]</td>\n",
       "    </tr>\n",
       "    <tr>\n",
       "      <th>48</th>\n",
       "      <td>00fdd3e56363d04170fb718af9c5b7e2</td>\n",
       "      <td>Review to come!</td>\n",
       "      <td>0</td>\n",
       "      <td>Awaken (Spiral of Bliss, #3)</td>\n",
       "      <td>[[0, Review to come!]]</td>\n",
       "    </tr>\n",
       "    <tr>\n",
       "      <th>54</th>\n",
       "      <td>011accca3a9aaf35a13edf907fd3d03f</td>\n",
       "      <td>Review to come.</td>\n",
       "      <td>0</td>\n",
       "      <td>P.S. I Like You</td>\n",
       "      <td>[[0, Review to come.]]</td>\n",
       "    </tr>\n",
       "    <tr>\n",
       "      <th>57</th>\n",
       "      <td>01268d4cc081ef14a08066174110ff7a</td>\n",
       "      <td>Review to come.</td>\n",
       "      <td>0</td>\n",
       "      <td>The Lost Heiress (Ladies of the Manor, #1)</td>\n",
       "      <td>[[0, Review to come.]]</td>\n",
       "    </tr>\n",
       "    <tr>\n",
       "      <th>85</th>\n",
       "      <td>01b8f4a3b78acf400bb2dcab060ecb57</td>\n",
       "      <td>Review to come</td>\n",
       "      <td>0</td>\n",
       "      <td>Seduction of a Highland Lass (McCabe Trilogy, #2)</td>\n",
       "      <td>[[0, Review to come]]</td>\n",
       "    </tr>\n",
       "    <tr>\n",
       "      <th>...</th>\n",
       "      <td>...</td>\n",
       "      <td>...</td>\n",
       "      <td>...</td>\n",
       "      <td>...</td>\n",
       "      <td>...</td>\n",
       "    </tr>\n",
       "    <tr>\n",
       "      <th>14680</th>\n",
       "      <td>fed1ff44b94cebbc1858aafa78aababb</td>\n",
       "      <td>Review coming soon.</td>\n",
       "      <td>0</td>\n",
       "      <td>Once Bitten, Twice Shy (Jaz Parks, #1)</td>\n",
       "      <td>[[0, Review coming soon.]]</td>\n",
       "    </tr>\n",
       "    <tr>\n",
       "      <th>14691</th>\n",
       "      <td>feef7403105f7944d998c9bca5a3c430</td>\n",
       "      <td>Review to come!</td>\n",
       "      <td>0</td>\n",
       "      <td>The Player</td>\n",
       "      <td>[[0, Review to come!]]</td>\n",
       "    </tr>\n",
       "    <tr>\n",
       "      <th>14692</th>\n",
       "      <td>fef67fecbbb7ce590253fc3457c5d9c7</td>\n",
       "      <td>Review to come.</td>\n",
       "      <td>0</td>\n",
       "      <td>I Breathe You</td>\n",
       "      <td>[[0, Review to come.]]</td>\n",
       "    </tr>\n",
       "    <tr>\n",
       "      <th>14720</th>\n",
       "      <td>ff63f812d638b72887c4404635cada8a</td>\n",
       "      <td>Review to come.</td>\n",
       "      <td>0</td>\n",
       "      <td>The Maze of Bones  (The 39 Clues, #1)</td>\n",
       "      <td>[[0, Review to come.]]</td>\n",
       "    </tr>\n",
       "    <tr>\n",
       "      <th>14751</th>\n",
       "      <td>ffe6fe75e627290d1e01f3f51045f6a5</td>\n",
       "      <td>Review to come.</td>\n",
       "      <td>0</td>\n",
       "      <td>Days of Blood &amp; Starlight (Daughter of Smoke &amp;...</td>\n",
       "      <td>[[0, Review to come.]]</td>\n",
       "    </tr>\n",
       "  </tbody>\n",
       "</table>\n",
       "<p>903 rows × 5 columns</p>\n",
       "</div>"
      ],
      "text/plain": [
       "                              review_id             sentence  has_spoiler  \\\n",
       "5      0019fcc7f7e6a726efcd4fa159219136      Review to come.            0   \n",
       "48     00fdd3e56363d04170fb718af9c5b7e2      Review to come!            0   \n",
       "54     011accca3a9aaf35a13edf907fd3d03f      Review to come.            0   \n",
       "57     01268d4cc081ef14a08066174110ff7a      Review to come.            0   \n",
       "85     01b8f4a3b78acf400bb2dcab060ecb57       Review to come            0   \n",
       "...                                 ...                  ...          ...   \n",
       "14680  fed1ff44b94cebbc1858aafa78aababb  Review coming soon.            0   \n",
       "14691  feef7403105f7944d998c9bca5a3c430      Review to come!            0   \n",
       "14692  fef67fecbbb7ce590253fc3457c5d9c7      Review to come.            0   \n",
       "14720  ff63f812d638b72887c4404635cada8a      Review to come.            0   \n",
       "14751  ffe6fe75e627290d1e01f3f51045f6a5      Review to come.            0   \n",
       "\n",
       "                                                   title  \\\n",
       "5                   The Raven Boys (The Raven Cycle, #1)   \n",
       "48                          Awaken (Spiral of Bliss, #3)   \n",
       "54                                       P.S. I Like You   \n",
       "57            The Lost Heiress (Ladies of the Manor, #1)   \n",
       "85     Seduction of a Highland Lass (McCabe Trilogy, #2)   \n",
       "...                                                  ...   \n",
       "14680             Once Bitten, Twice Shy (Jaz Parks, #1)   \n",
       "14691                                         The Player   \n",
       "14692                                      I Breathe You   \n",
       "14720              The Maze of Bones  (The 39 Clues, #1)   \n",
       "14751  Days of Blood & Starlight (Daughter of Smoke &...   \n",
       "\n",
       "                 review_sentences  \n",
       "5          [[0, Review to come.]]  \n",
       "48         [[0, Review to come!]]  \n",
       "54         [[0, Review to come.]]  \n",
       "57         [[0, Review to come.]]  \n",
       "85          [[0, Review to come]]  \n",
       "...                           ...  \n",
       "14680  [[0, Review coming soon.]]  \n",
       "14691      [[0, Review to come!]]  \n",
       "14692      [[0, Review to come.]]  \n",
       "14720      [[0, Review to come.]]  \n",
       "14751      [[0, Review to come.]]  \n",
       "\n",
       "[903 rows x 5 columns]"
      ]
     },
     "execution_count": 36,
     "metadata": {},
     "output_type": "execute_result"
    }
   ],
   "source": [
    "rev_test[rev_test.sentence.apply(len) < 20]"
   ]
  },
  {
   "cell_type": "code",
   "execution_count": 39,
   "id": "a653cb18",
   "metadata": {},
   "outputs": [
    {
     "data": {
      "application/vnd.jupyter.widget-view+json": {
       "model_id": "cbdc9a5c89d14d71b29ddf2b72e64eb4",
       "version_major": 2,
       "version_minor": 0
      },
      "text/plain": [
       "  0%|          | 0/14759 [00:00<?, ?it/s]"
      ]
     },
     "metadata": {},
     "output_type": "display_data"
    }
   ],
   "source": [
    "sent = []\n",
    "spoil = []\n",
    "rev_spoil = []\n",
    "rev_ids = []\n",
    "for i in tq.tqdm(range(len(rev_test))):\n",
    "    for j in range(len(rev_test.iloc[i]['review_sentences'])):\n",
    "        sent.append(rev_test.iloc[i].title + ' [SEP] ' + rev_test.iloc[i]['review_sentences'][j][1])   \n",
    "        spoil.append(rev_test.iloc[i]['review_sentences'][j][0])\n",
    "        rev_spoil.append(rev_test.iloc[i].has_spoiler)\n",
    "        rev_ids.append(rev_test.iloc[i].review_id)\n",
    "\n",
    "\n",
    "df = pd.DataFrame(list(zip(sent, spoil, rev_spoil, rev_ids)), \n",
    "               columns =['sentence', 'has_spoiler', 'rev_has_spoiler', 'review_id'])"
   ]
  },
  {
   "cell_type": "code",
   "execution_count": 40,
   "id": "692a679a",
   "metadata": {},
   "outputs": [
    {
     "data": {
      "text/html": [
       "<div>\n",
       "<style scoped>\n",
       "    .dataframe tbody tr th:only-of-type {\n",
       "        vertical-align: middle;\n",
       "    }\n",
       "\n",
       "    .dataframe tbody tr th {\n",
       "        vertical-align: top;\n",
       "    }\n",
       "\n",
       "    .dataframe thead th {\n",
       "        text-align: right;\n",
       "    }\n",
       "</style>\n",
       "<table border=\"1\" class=\"dataframe\">\n",
       "  <thead>\n",
       "    <tr style=\"text-align: right;\">\n",
       "      <th></th>\n",
       "      <th>sentence</th>\n",
       "      <th>has_spoiler</th>\n",
       "      <th>rev_has_spoiler</th>\n",
       "      <th>review_id</th>\n",
       "    </tr>\n",
       "  </thead>\n",
       "  <tbody>\n",
       "    <tr>\n",
       "      <th>0</th>\n",
       "      <td>Bird Box [SEP] I love the apocalyptic/post-apo...</td>\n",
       "      <td>0</td>\n",
       "      <td>0</td>\n",
       "      <td>000917af828f16428126427bee50d208</td>\n",
       "    </tr>\n",
       "    <tr>\n",
       "      <th>1</th>\n",
       "      <td>Bird Box [SEP] Not that these books aren't awe...</td>\n",
       "      <td>0</td>\n",
       "      <td>0</td>\n",
       "      <td>000917af828f16428126427bee50d208</td>\n",
       "    </tr>\n",
       "    <tr>\n",
       "      <th>2</th>\n",
       "      <td>Bird Box [SEP] This is the reason that despite...</td>\n",
       "      <td>0</td>\n",
       "      <td>0</td>\n",
       "      <td>000917af828f16428126427bee50d208</td>\n",
       "    </tr>\n",
       "    <tr>\n",
       "      <th>3</th>\n",
       "      <td>Bird Box [SEP] I could kick myself for my resi...</td>\n",
       "      <td>0</td>\n",
       "      <td>0</td>\n",
       "      <td>000917af828f16428126427bee50d208</td>\n",
       "    </tr>\n",
       "    <tr>\n",
       "      <th>4</th>\n",
       "      <td>Bird Box [SEP] First, there is nary a zombie o...</td>\n",
       "      <td>0</td>\n",
       "      <td>0</td>\n",
       "      <td>000917af828f16428126427bee50d208</td>\n",
       "    </tr>\n",
       "  </tbody>\n",
       "</table>\n",
       "</div>"
      ],
      "text/plain": [
       "                                            sentence  has_spoiler  \\\n",
       "0  Bird Box [SEP] I love the apocalyptic/post-apo...            0   \n",
       "1  Bird Box [SEP] Not that these books aren't awe...            0   \n",
       "2  Bird Box [SEP] This is the reason that despite...            0   \n",
       "3  Bird Box [SEP] I could kick myself for my resi...            0   \n",
       "4  Bird Box [SEP] First, there is nary a zombie o...            0   \n",
       "\n",
       "   rev_has_spoiler                         review_id  \n",
       "0                0  000917af828f16428126427bee50d208  \n",
       "1                0  000917af828f16428126427bee50d208  \n",
       "2                0  000917af828f16428126427bee50d208  \n",
       "3                0  000917af828f16428126427bee50d208  \n",
       "4                0  000917af828f16428126427bee50d208  "
      ]
     },
     "execution_count": 40,
     "metadata": {},
     "output_type": "execute_result"
    }
   ],
   "source": [
    "df.head()"
   ]
  },
  {
   "cell_type": "code",
   "execution_count": 41,
   "id": "440e2c12",
   "metadata": {},
   "outputs": [],
   "source": [
    "df.to_csv('data/sent_rev_test.csv', index=False)"
   ]
  },
  {
   "cell_type": "code",
   "execution_count": 71,
   "id": "11b19fd0",
   "metadata": {},
   "outputs": [
    {
     "data": {
      "text/html": [
       "<div>\n",
       "<style scoped>\n",
       "    .dataframe tbody tr th:only-of-type {\n",
       "        vertical-align: middle;\n",
       "    }\n",
       "\n",
       "    .dataframe tbody tr th {\n",
       "        vertical-align: top;\n",
       "    }\n",
       "\n",
       "    .dataframe thead th {\n",
       "        text-align: right;\n",
       "    }\n",
       "</style>\n",
       "<table border=\"1\" class=\"dataframe\">\n",
       "  <thead>\n",
       "    <tr style=\"text-align: right;\">\n",
       "      <th></th>\n",
       "      <th>sentence</th>\n",
       "      <th>pred</th>\n",
       "      <th>pred_prob</th>\n",
       "      <th>true_val</th>\n",
       "    </tr>\n",
       "  </thead>\n",
       "  <tbody>\n",
       "    <tr>\n",
       "      <th>0</th>\n",
       "      <td>Price of a Kiss (Forbidden Men, #1) [SEP] My m...</td>\n",
       "      <td>tensor([0.])</td>\n",
       "      <td>tensor([-7.0706])</td>\n",
       "      <td>tensor(0)</td>\n",
       "    </tr>\n",
       "    <tr>\n",
       "      <th>1</th>\n",
       "      <td>Transparent (Transparent, #1) [SEP] Before I b...</td>\n",
       "      <td>tensor([0.])</td>\n",
       "      <td>tensor([-7.4107])</td>\n",
       "      <td>tensor(0)</td>\n",
       "    </tr>\n",
       "    <tr>\n",
       "      <th>2</th>\n",
       "      <td>Of Fire and Stars [SEP] Despite wanting to dnf...</td>\n",
       "      <td>tensor([0.])</td>\n",
       "      <td>tensor([-7.8571])</td>\n",
       "      <td>tensor(0)</td>\n",
       "    </tr>\n",
       "    <tr>\n",
       "      <th>3</th>\n",
       "      <td>Looking for Alibrandi [SEP] She is brilliant.</td>\n",
       "      <td>tensor([0.])</td>\n",
       "      <td>tensor([-7.8387])</td>\n",
       "      <td>tensor(0)</td>\n",
       "    </tr>\n",
       "    <tr>\n",
       "      <th>4</th>\n",
       "      <td>Twisted (Tangled, #2) [SEP] Reviewed by Candac...</td>\n",
       "      <td>tensor([0.])</td>\n",
       "      <td>tensor([-7.8722])</td>\n",
       "      <td>tensor(0)</td>\n",
       "    </tr>\n",
       "  </tbody>\n",
       "</table>\n",
       "</div>"
      ],
      "text/plain": [
       "                                            sentence          pred  \\\n",
       "0  Price of a Kiss (Forbidden Men, #1) [SEP] My m...  tensor([0.])   \n",
       "1  Transparent (Transparent, #1) [SEP] Before I b...  tensor([0.])   \n",
       "2  Of Fire and Stars [SEP] Despite wanting to dnf...  tensor([0.])   \n",
       "3      Looking for Alibrandi [SEP] She is brilliant.  tensor([0.])   \n",
       "4  Twisted (Tangled, #2) [SEP] Reviewed by Candac...  tensor([0.])   \n",
       "\n",
       "           pred_prob   true_val  \n",
       "0  tensor([-7.0706])  tensor(0)  \n",
       "1  tensor([-7.4107])  tensor(0)  \n",
       "2  tensor([-7.8571])  tensor(0)  \n",
       "3  tensor([-7.8387])  tensor(0)  \n",
       "4  tensor([-7.8722])  tensor(0)  "
      ]
     },
     "execution_count": 71,
     "metadata": {},
     "output_type": "execute_result"
    }
   ],
   "source": [
    "res = pd.read_csv('data/sent_rev_res.csv')\n",
    "res.head()"
   ]
  },
  {
   "cell_type": "code",
   "execution_count": 72,
   "id": "c7767e22",
   "metadata": {},
   "outputs": [],
   "source": [
    "res['sent'] = res.sentence.apply(lambda x: x.split(' [SEP] ')[1])"
   ]
  },
  {
   "cell_type": "code",
   "execution_count": 45,
   "id": "6c578b1b",
   "metadata": {},
   "outputs": [],
   "source": [
    "df = pd.read_csv('data/sent_rev_test.csv')"
   ]
  },
  {
   "cell_type": "code",
   "execution_count": 49,
   "id": "f8e9d65f",
   "metadata": {},
   "outputs": [],
   "source": [
    "res = res.groupby('review_id').max()[['pred_probs']].reset_index()"
   ]
  },
  {
   "cell_type": "code",
   "execution_count": 48,
   "id": "a6ed8a02",
   "metadata": {},
   "outputs": [
    {
     "data": {
      "text/plain": [
       "(14759, 4)"
      ]
     },
     "execution_count": 48,
     "metadata": {},
     "output_type": "execute_result"
    }
   ],
   "source": [
    "df = df.groupby('review_id').first().reset_index()\n",
    "df.shape"
   ]
  },
  {
   "cell_type": "code",
   "execution_count": 51,
   "id": "9806e3c8",
   "metadata": {},
   "outputs": [
    {
     "data": {
      "text/plain": [
       "(14759, 3)"
      ]
     },
     "execution_count": 51,
     "metadata": {},
     "output_type": "execute_result"
    }
   ],
   "source": [
    "res_df = res.merge(df[['rev_has_spoiler', 'review_id']], on='review_id')\n",
    "res_df.shape"
   ]
  },
  {
   "cell_type": "code",
   "execution_count": 58,
   "id": "6d327459",
   "metadata": {},
   "outputs": [
    {
     "data": {
      "text/plain": [
       "0.5955073326009127"
      ]
     },
     "execution_count": 58,
     "metadata": {},
     "output_type": "execute_result"
    }
   ],
   "source": [
    "res_df.pred_probs = res_df.pred_probs.apply(lambda x: float(x.split('[')[1].split(']')[0]))\n",
    "roc_auc_score(res_df.rev_has_spoiler, res_df.pred_probs)"
   ]
  },
  {
   "cell_type": "code",
   "execution_count": 57,
   "id": "c127af31",
   "metadata": {},
   "outputs": [
    {
     "data": {
      "text/plain": [
       "0       -7.6263\n",
       "1       -7.5885\n",
       "2       -7.5982\n",
       "3       -7.6414\n",
       "4       -7.6446\n",
       "          ...  \n",
       "14754    5.2300\n",
       "14755   -7.6110\n",
       "14756   -7.6430\n",
       "14757   -7.6154\n",
       "14758   -7.5717\n",
       "Name: pred_probs, Length: 14759, dtype: float64"
      ]
     },
     "execution_count": 57,
     "metadata": {},
     "output_type": "execute_result"
    }
   ],
   "source": [
    "res_df.pred_probs.apply(lambda x: float(x.split('[')[1].split(']')[0]))"
   ]
  },
  {
   "cell_type": "code",
   "execution_count": 64,
   "id": "bfe10173",
   "metadata": {},
   "outputs": [
    {
     "data": {
      "text/plain": [
       "0    14740\n",
       "1       19\n",
       "Name: has_spoiler, dtype: int64"
      ]
     },
     "execution_count": 64,
     "metadata": {},
     "output_type": "execute_result"
    }
   ],
   "source": [
    "df.has_spoiler.value_counts()"
   ]
  },
  {
   "cell_type": "code",
   "execution_count": 65,
   "id": "42bde3cd",
   "metadata": {},
   "outputs": [
    {
     "data": {
      "text/html": [
       "<div>\n",
       "<style scoped>\n",
       "    .dataframe tbody tr th:only-of-type {\n",
       "        vertical-align: middle;\n",
       "    }\n",
       "\n",
       "    .dataframe tbody tr th {\n",
       "        vertical-align: top;\n",
       "    }\n",
       "\n",
       "    .dataframe thead th {\n",
       "        text-align: right;\n",
       "    }\n",
       "</style>\n",
       "<table border=\"1\" class=\"dataframe\">\n",
       "  <thead>\n",
       "    <tr style=\"text-align: right;\">\n",
       "      <th></th>\n",
       "      <th>review_id</th>\n",
       "      <th>pred_probs</th>\n",
       "      <th>rev_has_spoiler</th>\n",
       "    </tr>\n",
       "  </thead>\n",
       "  <tbody>\n",
       "    <tr>\n",
       "      <th>28</th>\n",
       "      <td>0092b9f658ff0fd63608187f0e597693</td>\n",
       "      <td>6.5255</td>\n",
       "      <td>0</td>\n",
       "    </tr>\n",
       "    <tr>\n",
       "      <th>43</th>\n",
       "      <td>00e019bf2bc069be5f63a2df82e750cd</td>\n",
       "      <td>6.0762</td>\n",
       "      <td>0</td>\n",
       "    </tr>\n",
       "    <tr>\n",
       "      <th>52</th>\n",
       "      <td>011925060855796cc7ac6e83af4e2395</td>\n",
       "      <td>6.9760</td>\n",
       "      <td>0</td>\n",
       "    </tr>\n",
       "    <tr>\n",
       "      <th>67</th>\n",
       "      <td>01468c4ad96be9e3e2bca18b1c692098</td>\n",
       "      <td>6.5228</td>\n",
       "      <td>0</td>\n",
       "    </tr>\n",
       "    <tr>\n",
       "      <th>87</th>\n",
       "      <td>01bc01ec655b964643ae1ba9e50a1e57</td>\n",
       "      <td>4.0730</td>\n",
       "      <td>0</td>\n",
       "    </tr>\n",
       "    <tr>\n",
       "      <th>...</th>\n",
       "      <td>...</td>\n",
       "      <td>...</td>\n",
       "      <td>...</td>\n",
       "    </tr>\n",
       "    <tr>\n",
       "      <th>14663</th>\n",
       "      <td>fe85debe595fd704bc510460cc502659</td>\n",
       "      <td>6.6077</td>\n",
       "      <td>1</td>\n",
       "    </tr>\n",
       "    <tr>\n",
       "      <th>14694</th>\n",
       "      <td>fef8b84474a91a9f9de893656d177932</td>\n",
       "      <td>1.3559</td>\n",
       "      <td>0</td>\n",
       "    </tr>\n",
       "    <tr>\n",
       "      <th>14718</th>\n",
       "      <td>ff60d984b2440f9558f5f99add705c37</td>\n",
       "      <td>1.1328</td>\n",
       "      <td>0</td>\n",
       "    </tr>\n",
       "    <tr>\n",
       "      <th>14724</th>\n",
       "      <td>ff6f8cf003cb923e5eabb6b249182d63</td>\n",
       "      <td>6.0234</td>\n",
       "      <td>0</td>\n",
       "    </tr>\n",
       "    <tr>\n",
       "      <th>14754</th>\n",
       "      <td>ffec772c826448e0c540f8b826634d34</td>\n",
       "      <td>5.2300</td>\n",
       "      <td>0</td>\n",
       "    </tr>\n",
       "  </tbody>\n",
       "</table>\n",
       "<p>941 rows × 3 columns</p>\n",
       "</div>"
      ],
      "text/plain": [
       "                              review_id  pred_probs  rev_has_spoiler\n",
       "28     0092b9f658ff0fd63608187f0e597693      6.5255                0\n",
       "43     00e019bf2bc069be5f63a2df82e750cd      6.0762                0\n",
       "52     011925060855796cc7ac6e83af4e2395      6.9760                0\n",
       "67     01468c4ad96be9e3e2bca18b1c692098      6.5228                0\n",
       "87     01bc01ec655b964643ae1ba9e50a1e57      4.0730                0\n",
       "...                                 ...         ...              ...\n",
       "14663  fe85debe595fd704bc510460cc502659      6.6077                1\n",
       "14694  fef8b84474a91a9f9de893656d177932      1.3559                0\n",
       "14718  ff60d984b2440f9558f5f99add705c37      1.1328                0\n",
       "14724  ff6f8cf003cb923e5eabb6b249182d63      6.0234                0\n",
       "14754  ffec772c826448e0c540f8b826634d34      5.2300                0\n",
       "\n",
       "[941 rows x 3 columns]"
      ]
     },
     "execution_count": 65,
     "metadata": {},
     "output_type": "execute_result"
    }
   ],
   "source": [
    "res_df[res_df.pred_probs >= 0]"
   ]
  },
  {
   "cell_type": "code",
   "execution_count": 66,
   "id": "bb339f92",
   "metadata": {},
   "outputs": [
    {
     "data": {
      "text/html": [
       "<div>\n",
       "<style scoped>\n",
       "    .dataframe tbody tr th:only-of-type {\n",
       "        vertical-align: middle;\n",
       "    }\n",
       "\n",
       "    .dataframe tbody tr th {\n",
       "        vertical-align: top;\n",
       "    }\n",
       "\n",
       "    .dataframe thead th {\n",
       "        text-align: right;\n",
       "    }\n",
       "</style>\n",
       "<table border=\"1\" class=\"dataframe\">\n",
       "  <thead>\n",
       "    <tr style=\"text-align: right;\">\n",
       "      <th></th>\n",
       "      <th>user_id</th>\n",
       "      <th>timestamp</th>\n",
       "      <th>review_sentences</th>\n",
       "      <th>rating</th>\n",
       "      <th>has_spoiler</th>\n",
       "      <th>book_id</th>\n",
       "      <th>review_id</th>\n",
       "      <th>title</th>\n",
       "    </tr>\n",
       "  </thead>\n",
       "  <tbody>\n",
       "    <tr>\n",
       "      <th>0</th>\n",
       "      <td>5b78fd996dd2af3e863bec412a410512</td>\n",
       "      <td>2012-01-02</td>\n",
       "      <td>[[0, Essential reading for anyone serious abou...</td>\n",
       "      <td>5</td>\n",
       "      <td>False</td>\n",
       "      <td>29999</td>\n",
       "      <td>ad2bf9e7e72997ec053fe9d666a76240</td>\n",
       "      <td>The Maltese Falcon</td>\n",
       "    </tr>\n",
       "    <tr>\n",
       "      <th>1</th>\n",
       "      <td>b492976229a8c400dac0f49e7fdbc089</td>\n",
       "      <td>2011-06-19</td>\n",
       "      <td>[[0, This is a perfectly good book, but I star...</td>\n",
       "      <td>3</td>\n",
       "      <td>False</td>\n",
       "      <td>29999</td>\n",
       "      <td>a7e8220cddf1ab786d9ba51614d4d092</td>\n",
       "      <td>The Maltese Falcon</td>\n",
       "    </tr>\n",
       "    <tr>\n",
       "      <th>2</th>\n",
       "      <td>8b29249b521466c99ce780b0dc664cd7</td>\n",
       "      <td>2016-09-14</td>\n",
       "      <td>[[0, I had a hard time deciding between 2 and ...</td>\n",
       "      <td>2</td>\n",
       "      <td>False</td>\n",
       "      <td>29999</td>\n",
       "      <td>893c6d3dd7e6694bf59b83e93accfe98</td>\n",
       "      <td>The Maltese Falcon</td>\n",
       "    </tr>\n",
       "    <tr>\n",
       "      <th>3</th>\n",
       "      <td>3b73ddb805671095f090c7d3b388b34e</td>\n",
       "      <td>2014-05-28</td>\n",
       "      <td>[[0, I haven't read any books like this before...</td>\n",
       "      <td>3</td>\n",
       "      <td>False</td>\n",
       "      <td>29999</td>\n",
       "      <td>82f44972acd3a58f3520c9fd49e9e54b</td>\n",
       "      <td>The Maltese Falcon</td>\n",
       "    </tr>\n",
       "    <tr>\n",
       "      <th>4</th>\n",
       "      <td>0c2d6326b42e940a8be9f4e3895e7841</td>\n",
       "      <td>2016-03-21</td>\n",
       "      <td>[[0, I read this book for my english class, an...</td>\n",
       "      <td>2</td>\n",
       "      <td>False</td>\n",
       "      <td>29999</td>\n",
       "      <td>bc07a4b4d36d763228bb29e5f0097ad2</td>\n",
       "      <td>The Maltese Falcon</td>\n",
       "    </tr>\n",
       "  </tbody>\n",
       "</table>\n",
       "</div>"
      ],
      "text/plain": [
       "                            user_id   timestamp  \\\n",
       "0  5b78fd996dd2af3e863bec412a410512  2012-01-02   \n",
       "1  b492976229a8c400dac0f49e7fdbc089  2011-06-19   \n",
       "2  8b29249b521466c99ce780b0dc664cd7  2016-09-14   \n",
       "3  3b73ddb805671095f090c7d3b388b34e  2014-05-28   \n",
       "4  0c2d6326b42e940a8be9f4e3895e7841  2016-03-21   \n",
       "\n",
       "                                    review_sentences  rating  has_spoiler  \\\n",
       "0  [[0, Essential reading for anyone serious abou...       5        False   \n",
       "1  [[0, This is a perfectly good book, but I star...       3        False   \n",
       "2  [[0, I had a hard time deciding between 2 and ...       2        False   \n",
       "3  [[0, I haven't read any books like this before...       3        False   \n",
       "4  [[0, I read this book for my english class, an...       2        False   \n",
       "\n",
       "   book_id                         review_id               title  \n",
       "0    29999  ad2bf9e7e72997ec053fe9d666a76240  The Maltese Falcon  \n",
       "1    29999  a7e8220cddf1ab786d9ba51614d4d092  The Maltese Falcon  \n",
       "2    29999  893c6d3dd7e6694bf59b83e93accfe98  The Maltese Falcon  \n",
       "3    29999  82f44972acd3a58f3520c9fd49e9e54b  The Maltese Falcon  \n",
       "4    29999  bc07a4b4d36d763228bb29e5f0097ad2  The Maltese Falcon  "
      ]
     },
     "execution_count": 66,
     "metadata": {},
     "output_type": "execute_result"
    }
   ],
   "source": [
    "gr = pd.read_pickle('csc2515-project-main/csc2515-project-main/data/goodreads.pkl')\n",
    "gr.head()"
   ]
  },
  {
   "cell_type": "code",
   "execution_count": 89,
   "id": "adca5ea5",
   "metadata": {},
   "outputs": [
    {
     "name": "stderr",
     "output_type": "stream",
     "text": [
      "C:\\Users\\wojtek\\AppData\\Local\\Temp/ipykernel_10056/2126032810.py:4: UserWarning: This pattern has match groups. To actually get the groups, use str.extract.\n",
      "  ids.append(gr[gr.rev_str.str.contains(row.sent)].index[0])\n",
      "C:\\Users\\wojtek\\anaconda3\\lib\\site-packages\\pandas\\core\\strings\\accessor.py:1153: FutureWarning: Possible set difference at position 11\n",
      "  if regex and re.compile(pat).groups:\n"
     ]
    },
    {
     "name": "stdout",
     "output_type": "stream",
     "text": [
      "[146799, 66448, 15997, 1655, 142586, 114805, 187469, 114549, 151216, 5162, 141355, 177751, 79176, 45010, 170251, 191812, 28562, 203783, 85245, 133733, 178589, 12243, 194650, 169973, 45259, 127070, 93971, 58411, 133937, 49526, 117562, 183370, 33760, 93620, 109989, 55535, 55086, 172380, 2783, 183431, 119365, 114435, 201588, 202842, 150529, 190317, 86002, 132835, 59102, 203826, 178989, 12722, 121772, 58624, 6527, 151475, 198934, 76872, 141354, 198439, 141279, 109318, 98439, 15006, 104856, 48569, 1029, 116946, 133739, 164960, 9932, 105135, 177165, 206329, 102269, 28565, 79657, 195999, 97715, 91593, 38991, 66937, 181235, 117790, 7867, 108612, 74, 198, 37529, 100401, 0, 28751, 101480, 10202, 145614, 108491, 10491, 37173, 16137, 118710, 188738, 138056, 149345, 132180, 195652, 80432, 183828, 11123, 96064, 25501, 49502, 192110, 359, 26060, 117898, 108847, 116752, 155289, 52624, 109149, 68207, 157620, 71554, 20861, 25371, 9759, 72087, 25370, 142063, 109319, 87282, 49519, 183467, 22052, 194977, 125180, 159686, 20046, 178765, 96872, 114528, 19, 102835, 21646, 142810, 36772, 2178, 5588, 94322, 188599, 85454, 57379, 169086, 84086, 503, 140655, 2815, 47220, 124399, 206863, 101439, 8363, 84419, 33592, 7371, 172295, 243, 77241, 147063, 103580, 74513, 201482, 188532, 93032, 28, 51864, 77626, 101514, 17927, 160950, 122652, 122575, 189824, 48140, 7868, 88326, 142045, 843, 116948, 134720, 61632, 129514, 158998, 199367, 81272, 114126, 54799, 113969, 45789, 32419, 106910, 1812, 1157, 192400, 114325, 47700, 184098, 181453, 47, 1791, 29420, 167559, 3978, 173974, 194053, 160560, 122052, 43525, 167262, 58658, 6680, 26719, 72, 12934, 76770, 184, 198984, 38664, 73477, 130719, 37169, 177478, 191711, 95129, 52662, 159369, 61385, 151731, 191597, 14735, 54596, 35361, 3000, 164139, 155289, 120356, 41133, 181978, 151475, 111529, 177534, 195061, 148636, 124838, 68797, 2227, 138856, 206739, 178989, 124341, 95905, 34454, 155100, 1968, 191574, 205178, 14099, 2502, 24581, 14735, 63031, 121703, 153878, 199216, 171468, 85841, 19116, 120044, 41442, 31, 22938, 65224, 23177, 97409, 205017, 70809, 6875, 90084, 18191, 130998, 163083, 121727, 383, 173346, 173097, 36574, 190843, 56905, 149656, 79515, 150667, 18748, 3586, 157914, 59260, 170973, 26063, 11108, 155444, 90683, 109771, 24903, 115281, 182586, 193212, 140253, 168107, 10816, 187304, 140647, 113438, 2, 71561, 91707, 165048, 70888, 80824, 67380, 66548, 163596, 8608, 39583, 187611, 35757, 84694, 89847, 163, 111281, 201814, 196441, 110983, 171091, 60607, 38207, 129, 162838, 87058, 61496, 179306, 3183, 23051, 83386, 90184, 177155, 155294, 101648, 145730, 22689, 30479, 15255, 63011, 156148, 176098, 168141, 128966, 173713, 125630, 123362, 133619, 48839, 52178, 80203, 121530, 189796, 41442, 15104, 50774, 199697, 121688, 131082, 95294, 122846, 79657, 164832, 168476, 46153, 98507, 30, 37589, 7868, 173646, 74178, 9277, 84189, 109987, 206698, 26949, 173976, 192147, 84421, 2504, 94611, 159518, 75938, 38810, 184917, 80502, 97213, 81619, 190066, 190871, 54476, 28, 204968, 145343, 159265, 7032, 197074, 15412, 66688, 1079, 114009, 163104, 133322, 204974, 144213, 204816, 182198, 171317, 1019, 194523, 127660, 18980, 178511, 120134, 44, 55906, 13458, 124073, 118025, 22690, 48015, 19, 100909, 649, 53477, 113710, 45295, 168972, 192400, 180801, 136103, 69172, 2160, 175408, 13662, 110979, 133491, 35809, 53019, 178349, 148129, 159455, 33460, 151833, 165133, 32498, 93614, 128844, 104692, 139295, 115, 95250, 78154, 75311, 6988, 44642, 135571, 148871, 94820, 172134, 112474, 27315, 35152, 117444, 173546, 147547, 206563, 155845, 174181, 179010, 9834, 31773, 13396, 196380, 118010, 43, 6982, 166454, 21329, 188107, 17237, 7347, 97564, 138204, 179690, 99696, 71030, 84364, 68158, 181453, 43724, 10199, 121231, 60362, 79069, 195376, 134940, 189490, 25705, 113985, 169474, 101665, 158788, 52363, 68445, 58436, 25513, 26584, 18250, 150703, 148509, 27, 124500, 112450, 63958, 8381, 148485, 1831, 96133, 71557, 155444, 126321, 176382, 92091, 183966, 14606, 83321, 136695, 26452, 20856, 177347, 59103, 119354, 4510, 170652, 86219, 21316, 95355, 190176, 140037, 201713, 43799, 32581, 3994, 152226, 44777, 47, 67390, 203814, 135359, 75313, 87340, 186202, 106908, 53198, 161564, 196792, 59101, 276, 39792, 104805, 197174, 108268, 85212, 121890, 80621, 8172, 165899, 45366, 17695, 14562, 99076, 156918, 200577, 12937, 201324, 148661, 160678, 57338, 60014, 182356, 197095, 117252, 103496, 36438, 156324, 188052, 23459, 83559, 181239, 59258, 42869, 62938, 117175, 111647, 53606, 10550, 139, 155444, 191416, 113150, 70341, 171, 36746, 113, 106236, 35709, 160622, 122352, 161040, 191664, 56210, 125532, 166139, 107251, 1690, 100674, 78717, 45166, 29231, 97350, 47705, 155691, 205701, 29832, 63131, 53606, 2950, 155692, 188913, 14252, 200821, 40386, 869, 62839, 150529, 182523, 623, 29, 773, 193199, 186657, 128966, 185307, 60531, 122714, 170073, 133195, 131346, 52366, 61922, 60841, 197862, 12261, 36591, 35808, 9025, 157323, 33874, 128764, 22654, 139889, 13160, 200955, 25032, 62483, 117899, 10441, 170810, 10947, 195113, 10243, 60326, 158821, 142879, 71780, 57680, 1606, 101894, 53184, 90878, 110168, 157106, 192374, 155495, 61579, 54793, 45434, 6295, 133777, 114012, 125454, 162, 205881, 4517, 148171, 128772, 6073, 149599, 122714, 73, 70138, 130652, 20101, 116765, 26250, 6981, 98795, 189557, 127758, 26864, 38340, 15438, 3506, 93032, 104277, 73704, 178667, 94765, 194978, 200152, 169436, 175054, 37165, 61386, 1972, 63114, 11104, 99944, 190396, 18243, 15104, 123114, 97715, 22690, 139123, 128401, 131747, 133304, 170623, 162639, 94351, 33976, 17239, 71018, 156148, 190289, 82280, 40563, 194725, 200050, 2211, 181078, 70248, 148265, 164188, 206553, 87547, 25450, 2493, 136765, 27139, 135360, 137475, 204088, 102177, 24077, 155052, 4516, 28, 88326, 33972, 121430, 12590, 97676, 117857, 13768, 71768, 14428, 77929, 108617, 47226, 51198, 197862, 89849, 196788, 49519, 2908, 114010, 133494, 192450, 141812, 25515, 124489, 1239, 131420, 75936, 5352, 127522, 2233, 15411, 60656, 59649, 23465, 161270, 62487, 16707, 173372, 13048, 83702, 18052, 139, 129404, 56278, 162647, 18780, 17922, 39053, 16072, 151128, 183125, 125928, 16695, 192523, 109310, 49504, 123909, 62835, 176031, 41140, 128, 148875, 90625, 2499, 193199, 18596, 145146, 149987, 43803, 23048, 29643, 128886, 170555, 139983, 2761, 4509, 207048, 65887, 111888, 82345, 156864, 93974, 76016, 137004, 205455, 207052, 122575, 156985, 62713, 43776, 59257, 123764, 69000, 87043, 120736, 69949, 41597, 102988, 6413, 81502, 164299, 184357, 136810, 71108, 67838, 39968, 104328, 35808, 151453, 170251, 21327, 83192, 37935, 43738, 46190, 116092, 61982, 43544, 148264, 112607, 61717, 166469, 12207, 54, 120550, 1978, 24112, 168120, 206514, 164413, 4518, 177159, 185838, 129540, 97296, 21806, 73216, 190317, 59866, 130525, 54790, 143902, 96241, 6136, 157673, 92824, 193502, 1291, 132559, 79138, 141930, 34, 42323, 86443, 3714, 74841, 99198, 105581, 56179, 123810, 186521, 84983, 131082, 190964, 133322, 1114, 170690, 115, 98437, 84278, 66870, 180205, 50375, 133151, 170470, 100388, 25317, 198926, 55503, 10193, 138298, 159377, 120779, 109082, 129306, 122964, 47, 84749, 190705, 119936, 60626, 116702, 126610, 148616, 134686, 180811, 89851, 15439, 7349, 96238, 199436, 80852, 138691, 184184, 21327, 70425, 49845, 75756, 38457, 33414, 69000, 190980, 145868, 74770, 146878, 11110, 33135, 113196, 16616, 47, 35811, 203140, 30045, 125352, 71151, 67186, 93971, 57450, 136987, 76903, 202975, 83560, 78609, 167393, 98567, 13734, 174554, 147517, 4649, 122106, 201996, 109701, 69786, 203522, 94351, 2329, 105997, 57379, 6198, 30, 99944, 62228, 125328, 123296, 75135, 18225, 126417, 17768, 151683, 97493, 191661, 66378, 527, 114329, 100073, 88224, 956, 34375, 48247, 27355, 40871, 61192, 53191, 55047, 73, 133841, 150204, 97699, 31776, 147203, 12591, 28975, 18920, 46801, 205161, 47, 29228, 9154, 141126, 71739, 128938, 19506, 109531, 93751, 1501, 5928, 14738, 136766, 155126, 22507, 21262, 14729, 41442, 103035, 152173, 57452, 6790, 96244, 153157, 109169, 87042, 2119, 201078, 150601, 162644, 869, 192015, 81472, 93394, 107233, 30091, 11369, 28389, 80710, 47654, 198986, 64181, 4688, 42248, 118749, 118185, 87340, 90083, 194828, 139817, 119852, 155922, 193415, 127121, 60650, 830, 45958, 138353, 123312, 162110, 180857, 198349, 127070, 115898, 31148, 176781, 119412, 150505, 136731, 30664, 64982, 16102, 172452, 145647, 84998, 114837, 138203, 78379, 115515, 127333, 18052, 62394, 131211, 103377, 105690, 127571, 4191, 811, 136306, 121370, 162192, 207005, 1932, 9143, 202498, 52922, 203364, 134250, 122652, 193463, 174329, 120279, 200521, 40895, 2291, 122209, 156209, 145445, 152530, 133325, 116701, 148, 47998, 74101, 42293, 141332, 61317, 151977, 187209, 73216, 15432, 200802, 98975, 70017, 196667, 148715, 79954, 15429, 36148, 191754, 1684, 22518, 77930, 176364, 206079, 43932, 3586, 159807, 142091, 70380, 174747, 174046, 137973, 29646, 85456, 92304, 122652, 45551, 145648, 72140, 181932, 27559, 39522, 112470, 47, 79227, 30113, 155137, 198854, 138007, 39, 190742, 118733, 75310, 2957, 48, 58624, 137004, 71988, 119810, 169163, 176050, 8368, 96779, 116393, 40871, 56266, 181492, 33459, 34359, 39182, 106791, 40313, 15908, 34128, 128840, 150078, 119236, 121388, 88925, 365, 19, 94615, 202453, 4517, 29417, 33133, 172406, 44745, 65540, 7821, 78514, 241, 76297, 22157, 180472, 8366, 181552, 74405, 206146, 82092, 188679, 64922, 151977, 135623, 99464, 117805, 118463, 1097, 68227, 3529, 184510, 73157, 123798, 132749, 3177, 186924, 113942, 64173, 206863, 36206, 192359, 106726, 190245, 25763, 159744, 116111, 162644, 38203, 55461, 167379, 131074, 224, 80055, 132472, 22272, 124322, 173840, 136703, 15440, 145493, 166179, 66190, 67792, 50462, 66807, 172681, 141461, 130882, 94348, 149940, 157152, 41898, 19661, 170113, 131074, 1721, 151261, 187111, 122771, 99279, 17920, 135715, 6757, 11104, 190021, 60951, 169, 120370, 195921, 205275, 94467, 21353, 11110, 30698, 63649, 125359, 74063, 34159, 135981, 66323, 68226, 63229, 23040, 27139, 192015, 82442, 170714, 3714, 67612, 79606, 53546, 55841, 194871, 183370, 145231, 173478, 186314, 93763, 162240, 186988, 97715, 139411, 179042, 8762, 66899, 121383, 70417, 179870, 113434, 21202, 183585, 66950, 13661, 44117, 102468, 133144, 29705, 30, 190626, 11562, 47464, 106793, 124825, 39167, 114595, 172441, 120028, 60747, 71169, 182786, 129052, 158886, 74, 39128, 1958, 460, 96070, 198754, 122772, 78903, 55503, 158151, 159634, 47704, 1614, 104805, 36543, 120423, 68025, 182431, 114549, 204143, 114094, 4663, 86171, 136103, 184184, 49521, 61142, 144031, 76796, 145443, 43525, 92514, 2563, 106495, 63685, 88755, 181591, 113, 18963, 90780, 163012, 136984, 49511, 156771, 30428, 156673, 85302, 18799, 142889, 68804, 29231, 40963, 92050, 159148, 177800, 195353, 94784, 20083, 76794, 34268, 40056, 107726, 84011, 179869, 14056, 127070, 114438, 185461, 97350, 190964, 18233, 7423, 8360, 199132, 170589, 86870, 45970, 155575, 26948, 57317, 75, 2074, 83493, 119852, 118354, 183261, 124918, 1392, 8160, 148091, 188045, 202270, 93914, 113942, 155153, 192090, 3948, 101393, 44117, 15438, 134112, 24095, 31775, 124341, 171195, 53013, 68, 34825, 175144, 17711, 64053, 161561, 86218, 30099, 206001, 167291, 80085, 121021, 130793, 24325, 93648, 1780, 262, 72564, 177983, 179690, 194977, 103211, 34265, 179473, 114286, 200376, 2195, 83277, 95521, 104537, 91801, 192497, 41906, 20377, 160293, 11753, 114654, 94489, 113779, 9848, 148079, 58649, 194496, 48268, 52920, 175715, 56320, 47, 125942, 160350, 11782, 162959, 27775, 156463, 22716, 3057, 31192, 63562, 126420, 125059, 65871, 139449, 192170, 4347, 86288, 64170, 114225, 43741, 183785, 175334, 4840, 70642, 53477, 164325, 148136, 102988, 71375, 48247, 170470, 127755, 5013, 47998, 107251, 188925, 136103, 54802, 27345, 52198, 36597, 125760, 107726, 162575, 100748, 104367, 8847, 78354, 99693, 65384, 51272, 11389, 156106, 153311, 260, 158939, 51282, 38391, 64527, 106663, 12261, 41161, 61547, 204112, 7902, 51718, 114820, 82408, 46802, 44472, 85052, 53558, 155694, 179559, 143745, 147655, 224, 920, 56311, 114286, 109035, 89210, 93068, 190496, 15214, 206727, 120528, 42524, 83318, 191194, 49515, 152882, 42244, 75509, 109570, 62401, 175255, 48938, 362, 61379, 2483, 12483, 454, 133132, 63684, 69709, 32581, 177599, 207048, 47701, 5424, 188644, 173713, 163230, 140748, 164856, 205161, 55506, 114835, 147328, 186393, 175238, 137872, 91599, 112474, 11541, 17724, 165798, 159281, 72909, 110955, 5824, 162010, 27819, 153898, 193573, 331, 69171, 39053, 31532, 44448, 7124, 29646, 181868, 72689, 137081, 135948, 112992, 59413, 33876, 99464, 74307, 61180, 192283, 67836, 78152, 109785, 122702, 223, 48247, 51977, 165931, 19598, 69835, 116702, 2908, 125318, 41914, 161672, 30073, 21327, 57316, 87770, 64922, 160652, 171987, 117444, 25450, 55648, 106908, 115687, 139568, 187469, 27134, 120150, 2111, 177472, 50546, 65744, 149367, 136609, 20100, 0, 124293, 31887, 162065, 202920, 148079, 71355, 137409, 119705, 149784, 62153, 161405, 2694, 76569, 66344, 55651, 777, 112204, 8590, 156673, 26311, 109375, 110915, 74874, 130241, 986, 146579, 1235, 155444, 35306, 71352, 168815, 31813, 178194, 134575, 42924, 28985, 49172, 32782, 64527, 47, 70651, 123296, 66969, 103590, 7466, 28798, 61497, 35026, 115272, 113438, 112286, 141357, 129299, 5158, 204623, 201952, 101009, 176097, 104369, 452, 154036, 128497, 2210, 132748, 179105, 70654, 129491, 63114, 176902, 132611, 85363, 93510, 31202, 119810, 36148, 121464, 19308, 145779, 10453, 118676, 114668, 84452, 42721, 271, 203168, 118237, 190980, 163832, 8490, 45164, 50122, 67533, 169229, 23844, 120644, 155534, 70232, 85841, 18749, 151154, 162559, 964, 192249, 138435, 117900, 11124, 18980, 30007, 90351, 18230, 199338, 195113, 6723, 37178, 183069, 98844, 97088, 81346, 102641, 138537, 17695, 186683, 68548, 66691, 180205, 81624, 116870, 82570, 35278, 161334, 13733, 168815, 104537, 156699, 148455, 129426, 62155, 103815, 20460, 4109, 156620, 145401, 132847, 203510, 101665, 41911, 74065, 209, 55940, 134153, 94617, 63649, 2512, 154392, 28260, 124886, 48, 128009, 91615, 21522, 59182, 848, 20094, 116114, 88127, 188052, 203024, 73, 41137, 27327, 15412, 38339, 113198, 127957, 180728, 94579, 5337, 168380, 96779, 86814, 133144, 182624, 11540, 0, 155692, 86679, 206348, 177868, 154073, 76773, 986, 171176, 68840, 69751, 185142, 8526, 143987, 175607, 201822, 104859, 24589, 125474, 8972, 40109, 152883, 16431, 171557, 193415, 59416, 206905, 40516, 18052, 103815, 70642, 8382, 43548, 20484, 106908, 196894, 187705, 23422, 75119, 50327, 48837, 169246, 74638, 196205, 162908, 94092, 57134, 184075, 50401, 126625, 108, 7316, 152661, 34268, 70494, 146784, 121741, 1837, 40115, 166785, 27953, 35709, 204351, 147547, 319, 62380, 62624, 69951, 47, 152914, 56202, 2062, 2507, 0, 171773, 54468, 92093, 35274, 205173, 38806, 194611, 203835, 92719, 132611, 110779, 147156, 190959, 70787, 115652, 56275, 37529, 44753, 8824, 106664, 69817, 2157, 168447, 163862, 527, 187997, 198233, 128288, 206525, 92020, 48141, 160639, 201050, 63960, 188599, 35818, 131751, 122330, 3422, 98216, 64179, 81873, 150599, 173785, 62195, 158809, 203316, 24117, 40324, 190351, 23177, 135640, 4509, 140819, 11122, 1958, 99501, 206626, 11542, 116668, 31252, 178516, 173046, 43776, 126255, 170871, 29826, 205, 149736, 140105, 74401, 109035, 10039, 62089, 12609, 137102, 182433, 52912, 78899, 203403, 176712, 86218, 166204, 61991, 150441, 164127, 15448, 330, 118000, 131339, 18985, 96869, 57183, 129508, 59909, 10770, 33760, 13490, 44105, 139988, 68363, 99158, 164507, 18801, 95488, 165366, 172821, 202091, 135124, 3041, 53012, 31578, 119279, 15445, 166249, 150022, 9601, 36339, 103465, 154761, 25129, 178480, 94289, 101083, 16623, 78609, 196593, 49501, 62491, 27092, 140105, 105089, 25965, 158484, 178627, 164868, 104436, 7831, 74689, 971, 6057, 205881, 5307, 149623, 124863, 109534, 167342, 36741, 116947, 18977, 191821, 49531, 190125, 95583, 41011, 6924, 131317, 84192, 202597, 41446, 3439, 113, 199658, 201588, 26064, 181430, 190585, 145792, 63769, 129109, 195308, 140254, 153005, 116344, 63790, 47, 80710, 8847, 76549, 52007, 58436, 61378, 12592, 21955, 185461, 157107, 24590, 12279, 110257, 57043, 145829, 44460, 148595, 173372, 40018, 13443, 206754, 135823, 51198, 195816, 47795, 79606, 122740, 136449, 124884, 84908, 116483, 193661, 28611, 12591, 177159, 508, 151967, 9756, 132149, 56076, 2484, 67370, 5418, 157152, 78152, 135789, 36047, 8950, 39208, 7864, 79227, 74690, 14063, 144418, 32760, 93350, 18156, 13809, 201192, 190843, 92518, 15576, 0, 129139, 30074, 55937, 61021, 192871, 54933, 35028, 125756, 163392, 19886, 89506, 497, 26933, 50371, 181603, 189910, 155025, 8169, 137594, 13205, 39, 175571, 202554, 154043, 52, 55393, 128273, 110578, 196293, 108110, 173372, 58354, 198264, 156944, 12592, 77244, 149276, 76908, 48999, 140991, 144927, 53475, 1196, 47, 113661, 48259, 139508, 171773, 169916, 48292, 92390, 33136, 139508, 202827, 31937, 20088, 166083, 45377, 154500, 183668, 87340, 25082, 75589, 14538, 136121, 162559, 188832, 174206, 1492, 116702, 191071, 136012, 158316, 127992, 134734, 114554, 105042, 70048, 11784, 6, 89649, 89133, 87282, 133032, 41285, 163460, 88755, 17511, 6453, 163374, 163282, 34825, 65381, 139988, 188108, 149427, 140819, 99839, 12546, 205141, 165675, 90029, 96846, 21807, 26309, 164115, 120240, 133700, 180454, 48278, 126420, 83493, 164197, 152475, 101660, 205173, 130259, 175964, 47, 184814, 190648, 17231, 70652, 173822, 70487, 174712, 34544, 152666, 1376, 127469, 3947, 405, 164134, 10500, 173741, 12941, 84752, 111458, 91560, 135628, 19120, 47556, 175767, 204449, 6413, 15459, 30068, 63131, 126610, 186401, 127354, 218, 172704, 29651, 199646, 2361, 99035, 39204, 77005, 112332, 124126, 35811, 164856, 52178, 10500, 161984, 167093, 199259, 159541, 156789, 46009, 31814, 65, 13212, 197862, 143032, 2509, 179740, 70489, 194944, 189777, 81620, 12287, 192134, 98795, 116430, 50890, 95649, 13665, 7315, 159826, 123776, 193118, 50421, 2262, 194960, 110166, 18663, 20484, 174544, 144174, 11790, 113446, 48247, 175191, 113851, 189804, 83958, 200207, 144213, 6078, 114286, 174576, 148873, 200159, 24845, 193661, 181535, 91615, 201203, 116115, 164076, 191381, 191393, 52286, 80056, 203701, 99143, 146988, 139342, 143422, 153693, 92719, 189489, 150441, 78740, 191491, 83321, 175902, 129068, 74421, 58717, 110257, 92752, 5515, 194062, 144619, 131433, 3528, 197305, 82744, 43548, 67885, 172936, 16164, 2485, 109318, 205830, 170713, 80033, 82866, 189464, 41799, 205384, 18230, 123378, 76793, 163221, 37178, 197428, 118095, 101544, 98635, 73387, 193199, 31256, 189334, 70654, 89190, 48288, 164832, 112151, 40112, 188738, 8177, 94258, 45718, 176902, 34538, 82960, 22157, 79516, 10199, 134940, 110938, 113, 70494, 191227, 121244, 125598, 146339, 36743, 86679, 276, 149108, 53198, 149355, 38086, 97086, 70262, 172699, 115947, 38791, 30535, 94467, 137251, 190871, 134818, 142722, 50607, 6413, 76871, 7348, 973, 57758, 64104, 497, 0, 122386, 60844, 206019, 9411, 71309, 129432, 10932, 162, 185734, 17237, 62209, 125328, 51732, 37172, 156489, 69456, 13413, 78908, 9278, 110781, 28977, 98359, 105789, 26864, 150776, 196518, 22159, 19119, 353, 77524, 104328, 163910, 94490, 193463, 198347, 139820, 51025, 174624, 20082, 4888, 89035, 55814, 52365, 874, 190125, 80827, 135121, 99017, 24996, 169125, 207272, 147694, 48839, 1875, 146370, 12213, 173783, 10499, 137593, 149480, 196593, 34960, 84033, 178601, 180822, 120958, 40820, 17228, 60365, 116430, 4687, 77929, 13475, 127333, 101737, 183125, 45434, 130624, 81472, 166594, 136811, 37810, 108113, 18220, 106979, 218, 20585, 5306, 70787, 14, 86803, 51997, 94914, 92989, 9154, 164718, 151577, 202370, 170251, 65540, 148, 2195, 98975, 40566, 144696, 40817, 22494, 172, 196972, 38201, 98429, 186289, 188276, 137850, 20101, 70491, 147377, 37, 154072, 144850, 17, 141894, 26667, 82874, 162110, 201550, 81072, 193118, 162228, 160387, 131589, 167105, 170707, 27134, 24593, 71766, 74101, 86288, 161270, 201502, 119663, 24435, 104537, 27131, 35449, 123643, 77839, 59685, 101102, 31773, 190843, 188738, 112630, 168480, 90862, 1332, 39806, 147284, 128764, 125738, 92091, 101647, 98054, 63386, 165, 9442, 5661, 164660, 170665, 37716, 407, 118153, 44746, 61631, 90307, 5352, 140761, 146986, 240, 144370, 176763, 26250, 183828, 80228, 7349, 168679, 32064, 87339, 37641, 3603, 176987, 96311, 190295, 19, 20103, 142188, 78130, 201762, 116870, 140653, 120511, 139007, 66448, 12214, 87609, 155137, 149655, 15427, 66460, 142390, 178796, 92050, 144890, 123937, 96103, 9844, 96240, 142837, 35816, 131647, 182198, 78555, 13865, 72636, 2071, 145799, 37534, 147152, 416, 51695, 199293, 85169, 24521, 17144, 39092, 43477, 144212, 187004, 163300, 79902, 194611, 4186, 164221, 167105, 119598, 1253, 67389, 3770, 192723, 121137, 12978, 67684, 202330, 175902, 6414, 127212, 193648, 150336, 51025, 62950, 97213, 161018, 24591, 160509, 114, 134253, 189131, 204243, 200262, 75168, 114124, 65386, 198681, 62483, 203262, 28, 93648, 18156, 43973, 65161, 17584, 99666, 171216, 5588, 184916, 82222, 192320, 157715, 15102, 184851, 124413, 71765, 192162, 184713, 17, 193118, 43724, 69750, 103309, 70809, 151615, 43223, 129666, 182522, 124026, 195753, 140099, 155694, 13666, 183175, 5313, 135948, 99506, 177909, 22884, 152173, 94896, 196441, 12379, 132302, 43554, 50003, 17373, 159634, 22267, 136, 27068, 86605, 122312, 48834, 155153, 93974, 128699, 91300, 190923, 129138, 96111, 86611, 134575, 91237, 145989, 94258, 326, 62401, 206061, 95389, 84564, 11386, 73, 45164, 98683, 203814, 117215, 3990, 121230, 105042, 85870, 1033, 368, 48251, 148597, 163903, 203395, 90780, 138170, 157240, 14428, 29647, 84011, 15006, 106926, 339, 70, 89715, 127673, 156200, 85198, 54790, 120441, 156625, 204201, 57759, 830, 170081, 110047, 87894, 130821, 154073, 118966, 147433, 54347, 43931, 94773, 184713, 140450, 14072, 54797, 35811, 103828, 60658, 16451, 66447, 117465, 23971, 57379, 103187, 1961, 115, 125330, 153393, 528, 86288, 40573, 82736, 89852, 28365, 89072, 43932, 17235, 144074, 17521, 179094, 183725, 376, 38587, 66841, 14061, 195249, 44822, 169879, 21252, 97536, 57758, 57578, 204733, 189567, 89852, 23695, 140756, 204854, 32362, 35813, 151188, 80566, 4708, 166563, 196205, 77628, 24111, 184931, 96904, 113, 102105, 12763, 119469, 116794, 173266, 119990, 29411, 92449, 78154, 195471, 148597, 131588, 114328, 166012, 146507, 190837, 192872, 196130, 121021, 29928, 204023, 202950, 190475, 129110, 24, 4640, 201519, 104075, 121969, 1152, 52981, 133271, 190483, 112801, 1029, 89846, 54175, 196158, 22053, 192283, 131495, 167559, 2, 29256, 14072, 109989, 136811, 6368, 115198, 164598, 103588, 201324, 38391, 147, 99505, 124225, 56076, 94416, 23462, 47998, 110955, 78256, 173741, 48279, 49478, 87199, 21177, 65160, 36593, 31582, 65543, 7867, 200899, 198828, 114286, 71167, 16047, 10778, 101566, 81348, 2631, 27185, 82345, 81472, 203983, 138503, 106910, 97087, 193421, 188810, 179002, 147952, 521, 25508, 38163, 106791, 139700, 196198, 130054, 60607, 39, 135968, 48015, 54180, 106295, 124034, 87155, 49477, 20372, 167386, 20484, 292, 95413, 202928, 84027, 18448, 187004, 189734, 5013, 44528, 28564, 77159, 160663, 164188, 70653, 16197, 161111, 6098, 53, 15444, 13210, 168595, 61983, 198101, 101629, 165495, 2157, 96784, 192134, 63611, 133144, 42383, 1237, 38610, 79973, 163924, 43737, 39208, 170589, 70234, 119962, 54501, 27359, 174181, 191574, 61865, 167276, 176187, 175626, 176251, 125708, 58230, 119, 157323, 136987, 112151, 136012, 103240, 40870, 182132, 164521, 197902, 13047, 95123, 24435, 191822, 30104, 142390, 32766, 368, 126881, 64649, 86443, 65291, 8490, 11, 143507, 190317, 1302, 53198, 163221, 4761, 4308, 2936, 97929, 52897, 58472, 19, 179669, 1314, 112427, 144302, 105042, 114598, 164428, 183370, 79719, 146515, 1959, 135872, 20485, 132899, 154531, 174940, 80877, 66378, 118465, 43738, 108612, 173812, 75936, 72061, 70809, 110610, 121141, 146579, 113, 159281, 168629, 76569, 85646, 136550, 149187, 172003, 144619, 96902, 165951, 88126, 83424, 35152, 177332, 12770, 66950, 80563, 8378, 42926, 19315, 4659, 109699, 20414, 4366, 342, 143451, 98852, 125168, 41, 95000, 162127, 187471, 97528, 13666, 28828, 29706, 6130, 161756, 57764, 54388, 64049, 93207, 60650, 115198, 70650, 68233, 33407, 2, 39086, 129142, 204430, 135951, 53603, 126178, 30103, 158986, 129855, 18962, 205007, 6843, 171091, 33460, 169073, 66412, 174464, 75008, 107251, 165826, 196223, 163231, 161666, 153797, 102726, 195404, 162, 67888, 102821, 189349, 2787, 161800, 165670, 124506, 131213, 194691, 145146, 81521, 123218, 102651, 127070, 189557, 132986, 201590, 12376, 162319, 30106, 11779, 194387, 186134, 140559, 81257, 120462, 111988, 32770, 50462, 158716, 133725, 41442, 102559, 97715, 126257, 180205, 34825, 122473, 188, 40106, 149838, 99666, 9841, 9154, 147123, 125564, 12384, 41295, 197863, 5220, 140255, 80228, 114623, 161364, 8891, 44105, 33220, 99110, 74135, 84418, 149936, 40016, 170073, 62485, 121312, 126216, 108089, 199871, 193862, 8928, 47532, 151814, 106471, 166388, 78740, 103588, 11753, 15250, 50485, 203311, 40949, 71775, 58972, 18097, 9442, 181501, 104746, 74876, 150343, 187615, 185923, 22051, 44443, 114585, 191917, 203522, 100909, 54575, 1262, 115314, 132749, 99280, 62006, 119279, 133777, 192093, 164813, 185608, 196867, 471, 109989, 129496, 65384, 202486, 126548, 48247, 110323, 205208, 26865, 47654, 2339, 69171, 3185, 47, 94615, 17179, 88925, 151196, 133602, 62485, 164462, 163582, 106048, 159679, 106824, 50609, 96485, 1588, 158941, 22512, 174747, 104805, 159518, 158807, 161017, 35036, 163428, 97213, 790, 122482, 94287, 117937, 16335, 76601, 164674, 118095, 5588, 136979, 25762, 149156, 195557, 200821, 87056, 18230, 70737, 124555, 81, 115197, 15006, 187264, 116568, 4954, 11546, 22154, 103790, 96111, 110977, 104367, 7057, 27348, 162, 116029, 183190, 131074, 118749, 64171, 217, 69751, 178404, 120356, 143031, 169215, 135952, 62153, 74690, 101083, 206315, 174492, 179870, 28, 199194, 9176, 91801, 1634, 143744, 173548, 154066, 30477, 28, 23180, 43808, 63847, 172681, 87544, 26557, 852, 82707, 69139, 121384, 33111, 119, 55841, 86288, 77877, 186694, 28295, 185565, 147203, 24120, 109205, 129403, 19347, 160544, 71775, 6370, 61411, 125352, 199487, 106052, 135640, 248, 19308, 187201, 113942, 45957, 77631, 18973, 179952, 116702, 58230, 13865, 163512, 30490, 55906, 167598, 160455, 7720, 57759, 94348, 13865, 20089, 79491, 24022, 179955, 365, 150709, 28, 27906, 108850, 122012, 184432, 106494, 114597, 100592, 159480, 15438, 137768, 148171, 11779, 52920, 66466, 84364, 135662, 58892, 49360, 142837, 346, 3990, 24043, 68760, 23111, 71302, 105536, 125061, 158221, 110780, 15417, 29409, 90683, 80034, 183209, 146298, 44747, 191132, 92047, 184343, 24444, 167100, 89692, 127212, 122330, 182586, 92390, 45167, 74135, 75479, 153482, 186924, 29256, 140432, 74055, 169267, 179530, 14561, 103588, 85757, 12513, 19952, 70809, 194150, 40563, 36844, 82746, 153539, 170589, 67683, 32071, 154580, 183570, 184150, 188018, 58358, 205701, 162227, 121200, 11140, 38339, 53616, 174129, 127674, 30994, 99490, 191568, 116304, 108729, 6209, 57378, 163817, 63270, 172156, 125763, 53787, 110166, 32765, 53012, 165950, 45261, 178984, 184184, 29416, 182036, 68756, 21250, 748, 182061, 159811, 39168, 8064, 23467, 143044, 39522, 102629, 87446, 132812, 179874, 113969, 153907, 61865, 125598, 94938, 44825, 10855, 164287, 81525, 203783, 144214, 18780, 192912, 36263, 2158, 161035, 112352, 94765, 193463, 93994, 166800, 205881, 54089, 124863, 53144, 23993, 30104, 153386, 43798, 38252, 36973, 206582, 12206, 175191, 201118, 82958, 65048, 4961, 192965, 42246, 157350, 119, 28985, 188822, 18667, 151195, 98430, 169360, 161364, 112700, 36912, 182577, 22501, 51737, 65540, 129110, 173644, 25501, 68174, 31512, 18097, 177660, 134124, 118195, 128932, 204224, 97445, 145735, 141309, 190099, 198472, 14735, 144031, 86239, 95649, 35451, 169, 7866, 199132, 18560, 203510, 189804, 53190, 92609, 170871, 86219, 65540, 72172, 78907, 154944, 197862, 43741, 50274, 29409, 57316, 130020, 131970, 18059, 65, 59647, 120148, 139448, 197248, 156907, 72442, 108086, 173056, 163524, 82736, 119810, 95003, 120574, 123218, 72561, 107249, 71082, 113443, 194757, 125359, 127758, 32584, 149065, 88244, 27292, 202862, 186461, 22272, 39979, 9849, 2391, 114286, 386, 66580, 150022, 51832, 78386, 96872, 206201, 127390, 118970, 175432, 185176, 62155, 4680, 85198, 7605, 107062, 161978, 181374, 139571, 128251, 195733, 138170, 38611, 196622, 132670, 116430, 33218, 26309, 113851, 88537, 139448, 8125, 69949, 83580, 198893, 37183, 135108, 180711, 169446, 136545, 76569, 55061, 104279, 204531, 4687, 161561, 134250, 18220, 9606, 67031, 179870, 5341, 164718, 164892, 252, 138503, 57845, 176224, 40377, 169094, 47, 206727, 46894, 118932, 155495, 166634, 76155, 99104, 898, 64655, 124967, 194871, 51732, 73703, 66276, 174609, 191491, 180822, 85163, 160713, 44820, 3257, 167997, 376, 84231, 139, 107663, 41902, 4840, 198325, 66870, 106595, 107011, 151019, 48260, 122571, 71988, 69404, 70426, 191369, 46010, 147573, 200159, 104281, 15095, 125532, 182053, 115729, 123873, 52202, 53200, 50273, 69997, 124293, 187736, 205682, 78494, 47, 57632, 121244, 131312, 4840, 16070, 12591, 184510, 41800, 184684, 33111, 62715, 165132, 139126, 20577, 3948, 107464, 198713, 151977, 31774, 50715, 79994, 16705, 165403, 108162, 86878, 60954, 123873, 36, 172835, 118053, 201219, 131426, 150310, 97356, 127992, 200089, 111567, 8061, 150599, 6198, 178227, 91598, 110725, 73869, 7, 62712, 25450, 138875, 43973, 107247, 195740, 53188, 87890, 125180, 190705, 157283, 31546, 148065, 190158, 172220, 9709, 110784, 134250, 52921, 187304, 144848, 148267, 147780, 28564, 46093, 26419, 149431, 188879, 113932, 82608, 30091, 23841, 92447, 39091, 189341, 118714, 125764, 18663, 82710, 88092, 192319, 5734, 60103, 115974, 27365, 101587, 44925, 188332, 4143, 42595, 22690, 54486, 110454, 148485, 57834, 169098, 46089, 55086, 132747, 93648, 4864, 137, 197975, 16164, 195245, 19921, 5293, 178455, 92627, 115293, 225952, 174390, 5243, 104745, 178816, 145193, 23923, 114193, 142468, 199467, 121137, 81626, 17162, 150667, 45138, 110313, 120118, 143947, 43736, 2136, 187593, 130157, 50122, 50003, 135740, 148821, 174194, 69787, 118714, 44953, 84275, 101648, 32362, 38772, 175025, 281, 23040, 58610, 7952, 121367, 48938, 100772, 13206, 62487, 173285, 48247, 58357, 64168, 88329, 179674, 108846, 14430, 121854, 839, 14070, 131218, 111160, 191568, 188332, 42732, 167827, 94258, 177599, 103465, 76569, 84418, 521, 93733, 175144, 56320, 125331, 51145, 26919, 119836, 164327, 124750, 150985, 199467, 183245, 136173, 134391, 126101, 234, 138969, 180801, 12553, 129052, 50372, 6680, 102991, 71988, 89746, 139449, 187929, 183729, 35361, 10191, 64572, 105723, 162, 44926, 88508, 54089, 132472, 114325, 11580, 149703, 63386, 8366, 110784, 112942, 22690, 49937, 33764, 136987, 6410, 146861, 201074, 171500, 76907, 117805, 46051, 38415, 124802, 113150, 137561, 207081, 122738, 169626, 171317, 144694, 38811, 51281, 66839, 52998, 105552, 187930, 134514, 14276, 98156, 98567, 126560, 197593, 180728, 120500, 215, 4178, 124556, 164145, 160832, 83963, 126420, 140277, 148531, 11765, 31452, 98146, 106295, 68444, 180190, 68174, 165820, 110784, 41105, 42806, 69951, 135109, 46354, 5687, 44117, 62199, 31203, 90352, 200082, 102217, 150023, 102127, 198374, 142390, 86186, 101262, 180475, 80057, 114969, 18220, 3730, 126692, 26067, 161564, 90116, 152937, 10, 154536, 15895, 63386, 38523, 69567, 12508, 2225, 20376, 191702, 29649, 46623, 81566, 30908, 84011, 160509, 159011, 77213, 141699, 128401, 201078, 44969, 28977, 192110, 112351, 23923, 103462, 107243, 25369, 176585, 159011, 77930, 170547, 198934, 67379, 163778, 28564, 203629, 166180, 245, 141355, 189490, 121383, 191754, 206069, 190843, 17855, 114224, 159369, 41600, 138856, 191754, 98848, 96244, 11541, 132183, 160602, 91296, 38993, 166800, 120575, 20484, 112849, 5352, 122480, 178723, 144213, 50777, 117615, 8065, 85761, 79138, 123248, 188108, 33140, 107242, 30781, 61386, 94088, 39439, 67181, 180938, 59651, 186414, 32763, 215, 53006, 57330, 146989, 179105, 17239, 105536, 69456, 57803, 88242, 203996, 187946, 62155, 36892, 33702, 40386, 105536, 57155, 129372, 154705, 186671, 196605, 119836, 100388, 179347, 35811, 134220, 162228, 6371, 58545, 94621, 2158, 82420, 190577, 162908, 166166, 53019, 101102, 1963, 69727, 93549, 97049, 73290, 110225, 15460, 8985, 127381, 135088, 30449, 169065, 203311, 148871, 137108, 78065, 142253, 58718, 99944, 343, 35153, 65055, 196293, 36769, 6845, 44745, 186924, 195816, 105988, 154043, 22513, 89193, 134576, 134908, 101001, 117856, 194978, 97354, 198030, 179753, 168041, 203427, 74178, 91967, 140756, 154334, 122714, 149900, 147547, 64813, 102105, 18250, 150565, 131420, 144391, 25512, 37956, 165611, 63032, 151933, 94479, 159686, 158073, 174535, 5936, 154500, 202920, 79054, 38422, 136011, 199615, 166611, 192400, 68030, 79517, 92896, 11110, 57718, 111575, 114511, 112801, 26306, 145271, 62365, 12934, 30716, 51955, 1265, 45969, 204199, 46380, 140003, 28025, 122653, 29199, 151188, 43979, 149870, 197862, 17724, 133659, 35439, 162575, 125057, 147185, 162543, 98724, 191369, 101559, 43544, 19822, 122543, 128473, 35765, 194890, 118398, 122714, 57715, 57376, 119720, 71170, 55648, 180478, 24605, 168189, 142146, 1684, 4689, 195649, 66840, 104391, 145925, 96157, 200682, 96907, 163768, 90625, 62088, 192497, 69245, 87235, 114969, 197862, 45799, 183076, 188100, 93994, 78039, 1309, 31774, 99194, 184792, 53620, 49937, 48278, 72, 149657, 130408, 176941, 33971, 170919, 64382, 206812, 205578, 33135, 199007, 123307, 43544, 19119, 109989, 196441, 159691, 178950, 110916, 97353, 3149, 103232, 59397, 0, 4770, 26978, 112606, 114193, 147972, 43131, 2, 130059, 147974, 136576, 19506, 47230, 168073, 59649, 101186, 40962, 135148, 491, 144005, 199293, 105042, 148455, 33968, 985, 24605, 70304, 25976, 121387, 8935, 156624, 98011, 95833, 123481, 35171, 150335, 172380, 202237, 6757, 195382, 5684, 270, 15258, 96907, 48241, 85052, 9602, 70723, 192428, 25956, 116566, 187068, 2489, 15216, 12178, 82072, 175642, 10493, 169358, 168025, 127806, 143391, 74, 8065, 121024, 180478, 54631, 5341, 50713, 49207, 204017, 76304, 100596, 56379, 61297, 158455, 179405, 49526, 127333, 56273, 160713, 99505, 58314, 163903, 2789, 139190, 180493, 47220, 146457, 72061, 145798, 122105, 596, 70091, 133053, 80, 109967, 167974, 180557, 4842, 63790, 30489, 24, 82278, 7030, 118502, 51013, 104761, 107846, 149799, 16178, 206630, 95008, 21326, 110977, 161364, 1693, 12217, 248, 41104, 80, 68025, 148740, 120893, 487, 31, 196501, 12580, 192162, 14, 88239, 114112, 197368, 186649, 99143, 199226, 47466, 165676, 154358, 163984, 138691, 26948, 177771, 15253, 137444, 20484, 23296, 160178, 107064, 107582, 65672, 32506, 58815, 79190, 12767, 88239, 135210, 197125, 126531, 218, 140054, 148760, 180474, 109732, 149065, 148615, 110218, 36554, 113, 86105, 12172, 119574, 202995, 180811, 193120, 118009, 20010, 201435, 11534, 55394, 149598, 144619, 8366, 190034, 163903, 25059, 46, 26429, 13237, 65380, 67380, 79176, 79599, 86218, 28, 59905, 10862, 867, 99610, 35451, 115, 2228, 199058, 105139, 147882, 16181, 126790, 104486, 166592, 123171, 79612, 172756, 166478, 89124, 54485, 7945, 116394, 81873, 66692, 134520, 3900, 20484, 42732, 41140, 62399, 136545, 191649, 110454, 148688, 78065, 121890, 104487, 24440, 194883, 69498, 61498, 168722, 133321, 159746, 48268, 118189, 52179, 52697, 40819, 144075, 138243, 108086, 76549, 200952, 145748, 190317, 68442, 166918, 5154, 115112, 82872, 101894, 101832, 109088, 102957, 131212, 166965, 118522, 190626, 89850, 29297, 196613, 10856, 172742, 102629, 44110, 773, 35335, 90604, 124284, 47829, 163903, 70084, 112203, 121141, 115667, 116241, 54, 17698, 82743, 84238, 60015, 181600, 63535, 50470, 96784, 8062, 53010, 76868, 162073, 101544, 45966, 36445, 139089, 14, 183361, 95213, 929, 103309, 56626, 131202, 18197, 36235, 41794, 195480, 86418, 125, 103306, 114365, 98740, 2497, 64990, 199958, 37157, 206029, 196650, 156486, 48284, 61873, 114743, 139125, 136811, 12383, 26948, 122542, 158821, 150418, 89501, 122695, 129256, 86171, 187998, 186214, 206739, 77055, 150288, 194867, 133551, 197095, 120826, 52006, 22654, 106028, 114537, 151977, 59234, 237, 172003, 34317, 97080, 54769, 72059, 203622, 17009, 170817, 68843, 144740, 66343, 192399, 54556, 67999, 125270, 126692, 11765, 96131, 174, 49911, 65744, 150317, 163760, 125639, 52654, 15451, 181534, 79619, 77273, 157500, 147933, 97614, 32529, 111646, 18220, 175767, 119279, 52875, 177882, 20100, 161681, 15414, 177877, 198252, 156359, 990, 19309, 34203, 40100, 197588, 191071, 121143, 160544, 0, 133299, 97664, 48001, 165559, 104759, 93647, 121947, 53574, 138353, 156907, 12, 196405, 44114, 165210, 81401, 168595, 110169, 30091, 23971, 167862, 2286, 154678, 97559, 0, 98325, 159123, 103158, 353, 122940, 184432, 20551, 30102, 97300, 98551, 869, 217, 205208, 119496, 96779, 51050, 24597, 164421, 47, 104761, 120824, 99143, 101894, 23179, 187738, 197902, 18765, 102128, 157839, 70787, 94785, 9440, 205755, 33587, 52367, 22156, 121238, 50700, 163606, 110578, 55941, 16069, 71780, 3643, 168209, 27539, 135788, 141653, 128886, 101588, 115518, 205956, 121244, 169702, 81503, 194709, 191765, 191702, 10441, 149345, 38993, 94268, 8581, 3586, 168024, 42721, 43738, 179167, 121531, 151454, 197801, 5673, 114225, 122739, 17729, 122528, 103585, 196293, 114668, 20918, 95610, 4674, 23176, 43550, 28832, 171141, 145349, 78256, 30780, 4506, 78740, 38675, 49515, 143286, 127333, 12, 206667, 1608, 47688, 13658, 115519, 175053, 165210, 204430, 88331, 66851, 23111, 197911, 986, 37165, 155294, 38534, 101648, 121854, 162345, 126588, 2324, 79660, 138353, 83527, 58603, 189616, 72413, 120324, 91653, 175139, 5690, 133778, 162497, 49060, 76092, 165225, 158716, 72414, 107813, 71556, 69950, 73231, 113850, 165675, 64987, 125760, 13845, 182053, 193118, 25517, 157310, 201996, 172330, 11784, 17007, 203151, 22156, 142837, 8797, 112205, 106855, 179204, 196386, 25082, 66969, 46, 135643, 4522, 192564, 102225, 52877, 21805, 99198, 96430, 157849, 40386, 44453, 178404, 77213, 88532, 137355, 96905, 192415, 9845, 118306, 86219, 207235, 173662, 72693, 166843, 135499, 24554, 143045, 30664, 3834, 70425, 58477, 89507, 143000, 65, 125270, 62156, 203394, 58323, 27351, 123873, 111456, 31117, 89853, 201996, 192283, 147544, 164813, 68842, 192727, 1684, 62998, 115238, 147, 16876, 87661, 95914, 894, 206146, 192623, 126, 189472, 163482, 117024, 155376, 17585, 191471, 9851, 75163, 139190, 39587, 15447, 70412, 30053, 162192, 126862, 95905, 92962, 162228, 163582, 149339, 62401, 106824, 142152, 85052, 52896, 185877, 181301, 167998, 134321, 133658, 82184, 113851, 4885, 19672, 3328, 30760, 109701, 118237, 192162, 19684, 191664, 194915, 192239, 82080, 3765, 134484, 160339, 113420, 32528, 30576, 88127, 81078, 122543, 162768, 178, 844, 176781, 119598, 148091, 206194, 182061, 81016, 89032, 70655, 15443, 10813, 96551, 162373, 96130, 63, 80547, 124072, 178989, 124579, 140675, 34528, 156623, 113410, 140819, 177882, 69747, 2517, 143507, 120153, 53172, 114623, 54805, 90309, 113832, 119366, 186924, 3555, 8807, 170707, 30073, 149600, 164139, 1184, 37714, 170872, 146, 79517, 37696, 855, 1684, 19925, 3569, 130940, 65752, 39803, 66275, 77839, 182786, 86876, 124035, 64450, 48241, 120118, 148558, 35020, 199697, 123776, 70262, 179094, 188599, 7347, 201435, 891, 162918, 8473, 183120, 163985, 48245, 9841, 4696, 703, 700, 207380, 149245, 59635, 59760, 144619, 49004, 165784, 20855, 139568, 120200, 53475, 123539, 53614, 180849, 45792, 3012, 35026, 167241, 139126, 44753, 71772, 192319, 271, 86466, 199958, 26948, 190940, 112151, 497, 24659, 143, 52178, 124377, 150565, 63960, 76506, 115897, 88330, 113434, 1008, 39522, 205897, 35027, 95916, 8942, 6775, 132404, 203175, 87224, 172451, 53621, 152874, 80505, 146400, 164831, 191657, 106666, 102560, 142339, 186731, 97528, 174328, 108455, 26415, 206177, 7347, 50485, 167403, 34205, 60749, 8369, 169612, 141310, 62712, 139446, 46093, 83385, 155923, 149245, 207048, 58613, 38087, 122387, 24442, 113, 53020, 125638, 186857, 142436, 158221, 104757, 85304, 153184, 49307, 164979, 9833, 1237, 112727, 832, 74032, 169335, 129491, 131433, 108, 103674, 25520, 25721, 19857, 192483, 2195, 131049, 80877, 49524, 55071, 17225, 31776, 85841, 5673, 148, 202137, 2684, 178809, 18859, 150961, 64024, 178944, 152399, 50220, 171891, 40894, 2241, 122641, 24602, 112884, 58314, 3179, 53202, 42520, 47, 155541, 62933, 37714, 41247, 59648, 7071, 84997, 73514, 138353, 163922, 72688, 96111, 47, 119, 138353, 96748, 65883, 22192, 66950, 51840, 118195, 12591, 112675, 113071, 65055, 102030, 61864, 15438, 124035, 153524, 49911, 106908, 159115, 127070, 159191, 142085, 79928, 137501, 80681, 118010, 170665, 190552, 202975, 6681, 163880, 110257, 11797, 20918, 142688, 147, 47, 162369, 72170, 174289, 58022, 36841, 39792, 37154, 14738, 55271, 16973, 36332, 170764, 29327, 22712, 206913, 70657, 16217, 99697, 174544, 189334, 96171, 95474, 159288, 45084, 82855, 107249, 129401, 73, 132749, 121854, 97701, 472, 23841, 53019, 155986, 206272, 47930, 152915, 122660, 164563, 96065, 70383, 199697, 205450, 34420, 79999, 158340, 115254, 192400, 26605, 53558, 193463, 32052, 61922, 1728, 170873, 182132, 127997, 151933, 187867, 56902, 183101, 33592, 134528, 27814, 34455, 164868, 183209, 179128, 6378, 47, 2742, 174989, 156986, 162838, 161666, 169461, 1730, 117715, 196871, 185236, 97409, 92304, 68584, 54478, 44121, 49933, 105134, 179348, 42872, 189084, 72410, 4506, 113150, 38610, 159541, 203829, 30441, 142886, 32526, 203896, 112957, 150685, 173785, 76282, 118714, 173842, 125330, 17851, 123482, 182344, 205138, 61923, 84672, 28, 206965, 53015, 197847, 23451, 194611, 137076, 142514, 38810, 24554, 62800, 56525, 19121, 106942, 205307, 92304, 145231, 31258, 188169, 96560, 128706, 19, 192396, 92091, 30104, 170713, 34373, 83590, 68775, 19, 128428, 160103, 187867, 128401, 138081, 1861, 157240, 175979, 74876, 84735, 111734, 173688, 87453, 41909, 149599, 197095, 15436, 144696, 32759, 65384, 149936, 39601, 27115, 172076, 165724, 62229, 97058, 137215, 29416, 138434, 194062, 135383, 167343, 1144, 18060, 31202, 163, 185661, 72500, 2631, 131589, 111278, 62908, 165947, 129308, 12977, 96783, 57379, 171195, 134934, 97088, 14539, 39588, 195753, 744, 84030, 146517, 28563, 203364, 170113, 82607, 149960, 80930, 80565, 31, 74690, 54093, 106908, 145798, 102833, 86679, 139555, 17008, 152693, 22501, 108270, 58023, 112606, 10196, 20843, 103388, 41909, 197863, 103306, 4808, 141283, 101001, 42187, 114365, 183668, 16703, 30626, 80084, 187264, 147545, 74836, 7722, 99107, 27352, 172653, 187428, 65385, 176712, 8846, 107663, 122438, 18974, 116669, 77929, 53563, 46085, 201741, 169216, 106232, 48140, 119, 189925, 138353, 19506, 168041, 157921, 37935, 78048, 326, 84997, 104805, 191754, 19124, 187004, 148724, 44486, 34543, 15077, 156465, 68174, 8849, 42104, 33948, 22501, 81251, 125042, 145349, 136932, 50485, 180857, 136338, 75313, 188588, 104073, 72909, 186134, 157106, 69747, 162228, 192315, 28985, 80057, 116988, 116947, 118195, 22233, 52615, 156265, 194202, 123307, 1211, 138969, 61317, 127533, 191224, 68670, 163230, 147547, 26301, 87770, 203364, 177347, 176207, 76569, 78048, 146740, 114668, 41285, 94041, 106942, 72062, 98576, 190852, 60014, 71030, 88127, 86605, 17734, 171689, 62365, 51584, 32254, 170707, 69244, 109787, 89394, 14060, 20534, 53792, 116765, 46063, 164325, 53187, 182692, 187602, 56477, 8363, 158887, 30088, 141883, 27067, 108113, 90684, 93647, 149135, 206001, 124784, 190843, 37171, 86605, 145717, 124399, 54787, 1265, 50486, 193463, 56277, 14554, 1221, 3943, 6978, 17856, 12205, 102477, 23048, 103823, 49517, 67034, 33135, 119836, 154174, 44821, 94785, 167598, 10504, 20456, 76057, 174535, 132265, 159564, 94503, 112801, 135968, 27937, 84231, 7128, 44114, 44822, 21805, 107624, 134050, 95474, 40386, 116701, 106947, 41916, 205000, 166514, 90778, 57847, 163524, 162559, 80563, 201713, 17695, 33592, 26864, 137682, 25373, 32529, 201435, 147694, 86443, 59415, 153887, 17, 74609, 5832, 105046, 74874, 2289, 9833, 199010, 167221, 48981, 95000, 76981, 63387, 127212, 202453, 169125, 142090, 109469, 10740, 52897, 196241, 160257, 15195, 20484, 164428, 153159, 27813, 76600, 122332, 195981, 89194, 174126, 1144, 45720, 81584, 128932, 152441, 6026, 163596, 93370, 52178, 2155, 74, 82544, 204974, 64414, 24604, 140991, 4618, 103942, 116436, 68756, 133781, 21953, 163413, 84, 3579, 127381, 122540, 112050, 39204, 61068, 28539, 130, 62934, 192633, 42867, 36362, 163768, 41907, 49200, 31893, 133610, 200821, 96132, 112780, 84424, 9441, 70759, 21442, 199123, 3596, 98438, 72798, 204587, 95583, 149141, 179152, 139568, 137108, 123083, 159142, 130524, 130999, 111458, 112606, 201219, 203663, 35032, 203104, 35026, 10849, 67570, 69750, 82374, 10939, 16160, 99840, 56638, 64977, 4686, 203285, 98227, 46620, 32497, 46382, 15034, 108110, 47235, 186367, 183209, 241, 19119, 52364, 105998, 43798, 135088, 94818, 96708, 35758, 140654, 165942, 44809, 178990, 54507, 160233, 141538, 47557, 149481, 17237, 346, 56474, 97999, 19310, 96899, 101230, 58651, 96907, 118299, 61818, 24597, 168885, 60102, 172121, 45969, 141262, 182995, 18097, 98589, 106310, 43, 161561, 31982, 179567, 105739, 33071, 199149, 13666, 97350, 188229, 189755, 102329, 61317, 44820, 129138, 52001, 13845, 67321, 126683, 109966, 18610, 62397, 194274, 150598, 82529, 130978, 2477, 136103, 119595, 138597, 43131, 18560, 93622, 153157, 44125, 120215, 185536, 86772, 47, 123382, 119, 36580, 72, 95966, 138353, 339, 157762, 15252, 28317, 205602, 77165, 36442, 142146, 111594, 60020, 174637, 15396, 96064, 162559, 187050, 78609, 24023, 205513, 55619, 6329, 145647, 171087, 155927, 206146, 105998, 165006, 67570, 151, 189407, 144074, 166279, 93372, 105738, 160339, 166965, 120200, 175297, 14428, 75311, 136502, 62802, 76140, 148663, 152661, 150369, 57758, 37535, 205602, 33589, 201176, 3994, 195113, 62483, 69949, 132746, 116949, 138805, 2210, 163386, 122940, 104281, 2143, 95519, 207151, 112949, 131213, 70262, 58749, 167387, 9851, 42118, 40386, 1287, 81272, 118185, 16590, 87286, 124328, 31035, 5, 104745, 88214, 150215, 108954, 87159, 194987, 203007, 94085, 62485, 61873, 207235, 92689, 27630, 40986, 30099, 189824, 192219, 30532, 127515, 155534, 63060, 9840, 205920, 47883, 138632, 154186, 5154, 127894, 84410, 60069, 24001, 178185, 56211, 117776, 17584, 101544, 121377, 16707, 98274, 121388, 78039, 205459, 146985, 79589, 205602, 126844, 82743, 391, 73615, 86803, 4521, 148485, 139079, 189604, 116241, 25059, 146339, 104682, 24435, 39579, 37183, 177728, 33135, 180850, 1455, 26909, 77925, 81171, 100674, 138, 63510, 164521, 118711, 40109, 15432, 162516, 64053, 86812, 116765, 2274, 184210, 30746, 91754, 117897, 150599, 167915, 93648, 128886, 152173, 188895, 128023, 131202, 123307, 2953, 161427, 119598, 21249, 27315, 145996, 54260, 81472, 82962, 183208, 156606, 1793, 27141, 33969, 185536, 155223, 144738, 4024, 122650, 96171, 30906, 201902, 7863, 134677, 121137, 86119, 42867, 82738, 170817, 9831, 33696, 199700, 110043, 185632, 29651, 14326, 3177, 206685, 60596, 6828, 200262, 26948, 117615, 33135, 41595, 63510, 62155, 109259, 25524, 176050, 37883, 28260, 166180, 115825, 50513, 4209, 204515, 123114, 151933, 189176, 89850, 114536, 191568, 152064, 201836, 53154, 177910, 7438, 162345, 59435, 94617, 163012, 61674, 152573, 22718, 205346, 168041, 136212, 97916, 118732, 119936, 168718, 106910, 546, 811, 98325, 70425, 38458, 143570, 113440, 196310, 84457, 37884, 47793, 75312, 162056, 201590, 55072, 163230, 130864, 134391, 192871, 6381, 200082, 132985, 11752, 106925, 70787, 126560, 109675, 189755, 41253, 27961, 48939, 22273, 119465, 182696, 158316, 152109, 49517, 163012, 207010, 163426, 3851, 82608, 148540, 20485, 61195, 25682, 175952, 163903, 98052, 13659, 131426, 62156, 15438, 1896, 35423, 173095, 61921, 127439, 67380, 198341, 153048, 98572, 96872, 14404, 165614, 144618, 164979, 820, 201836, 71084, 16695, 17230, 65890, 39442, 132353, 34584, 18748, 206626, 35356, 41246, 152516, 132110, 111458, 33762, 151033, 4677, 154378, 18230, 66580, 50325, 20415, 151683, 66209, 130940, 157921, 94772, 13666, 178859, 105723, 142837, 14063, 67611, 4840, 109310, 149784, 109989, 106310, 49519, 162050, 109701, 56323, 174089, 41445, 272, 129167, 201176, 122684, 145349, 70572, 85456, 92080, 117876, 21331, 126088, 192249, 42539, 33227, 177332, 164303, 79453, 197911, 93206, 70887, 23468, 199799, 72479, 207368, 17699, 652, 2484, 202167, 20539, 23862, 118677, 11104, 194995, 188246, 15006, 111948, 121996, 152573, 5684, 20552, 96111, 123296, 49937, 99697, 9099, 101002, 14729, 171721, 21246, 42269, 123957, 184772, 189616, 25170, 28443, 201176, 169, 47158, 69030, 98795, 176547, 126825, 113374, 71062, 163582, 135124, 38525, 117400, 16146, 174, 140450, 9862, 8062, 71560, 869, 92094, 45471, 155223, 27561, 157500, 110166, 188242, 186890, 81586, 170251, 61066, 74690, 194294, 147972, 121525, 200590, 96134, 169428, 154378, 10859, 58161, 55621, 184792, 10502, 106413, 162639, 81614, 126560, 199996, 15895, 94266, 74609, 39579, 115936, 129875, 20552, 139448, 46931, 142673, 49999, 20484, 195404, 106518, 203381, 80505, 15171, 193437, 79657, 70016, 3900, 177327, 159628, 181552, 165943, 192876, 2, 140359, 9, 17162, 22050, 166488, 103734, 20376, 6410, 157173, 138494, 18230, 12212, 46878, 139701, 18221, 178074, 133777, 187111, 105552, 169436, 189572, 32590, 171228, 197792, 114990, 167221, 72329, 14326, 83068, 166388, 43932, 93914, 206635, 603, 128252, 131202, 55533, 122352, 138536, 2563, 75756, 138243, 99944, 204364, 3488, 158484, 51039, 83710, 112204, 192090, 148140, 147185, 158716, 104807, 13266, 5345, 121530, 181215, 203843, 161578, 111948, 7183, 45, 167963, 89846, 135579, 46619, 147933, 190483, 127199, 159237, 22223, 117238, 192283, 153387, 74145, 173713, 81072, 113442, 27945, 191158, 94765, 164198, 3996, 194867, 133600, 188599, 46619, 143285, 92099, 52876, 160339, 58613, 95285, 62233, 98274, 140936, 179143, 46934, 194523, 202400, 93549, 35808, 28793, 145798, 168462, 35818, 163392, 45014, 115825, 144619, 79761, 3804, 5306, 193612, 200152, 175906, 6718, 62093, 161868, 103110, 33948, 894, 126848, 489, 88512, 66273, 163301, 90822, 60658, 7277, 19488, 866, 184876, 151149, 33221, 5155, 120640, 12381, 197785, 120826, 73492, 145058, 47, 3997, 199293, 149656, 99921, 95394, 205060, 200298, 40871, 9710, 82051, 63126, 197996, 64179, 206177, 80548, 82736, 146252, 86444, 40577, 66897, 146457, 113442, 40106, 186451, 292, 147882, 95296, 181015, 118619, 45, 56302, 40559, 29829, 21254, 46009, 186367, 206759, 106908, 171228, 37182, 125180, 156359, 206949, 128913, 28090, 119719, 40385, 199049, 195707, 100375, 203384, 152677, 100938, 88769, 140991, 3183, 83063, 180867, 155024, 113372, 64141, 88755, 9841, 1144, 156028, 177197, 855, 89516, 35025, 43100, 181596, 143902, 137235, 127070, 172267, 487, 119365, 37053, 129549, 138433, 96360, 107863, 149442, 112995, 179869, 204865, 292, 102550, 201792, 175963, 58893, 83, 33963, 24022, 5924, 179555, 103735, 160544, 114656, 71167, 109675, 123911, 110, 121387, 115615, 203151, 77524, 97080, 121194, 9831, 72909, 101893, 101169, 12295, 199836, 73703, 26720, 113753, 54796, 80547, 58545, 32740, 34743, 61742, 159679, 23456, 4496, 96068, 82743, 118480, 94821, 178086, 51955, 192162, 2846, 46356, 54787, 109035, 46380, 74421, 12205, 172653, 72498, 119126, 82746, 102329, 169094, 67682, 80502, 123382, 869, 147189, 25963, 151300, 103823, 125610, 99502, 204164, 105581, 124328, 31258, 146660, 116393, 139031, 150090, 139817, 94467, 201512, 152530, 90604, 203646, 16874, 96845, 18095, 30068, 144360, 116692, 81978, 130434, 202270, 42265, 189777, 136494, 28154, 6255, 94351, 101439, 140583, 703, 121565, 59410, 72561, 200821, 198264, 92089, 3997, 80852, 124500, 35324, 184432, 145730, 155380, 112884, 116000, 182344, 17210, 96485, 106825, 188945, 146077, 43313, 171572, 196158, 60951, 156697, 50371, 30089, 31037, 170810, 85245, 192276, 45377, 171449, 125, 91136, 403, 59178, 63668, 26309, 59893, 241, 152165, 79162, 34316, 47, 110594, 121969, 79591, 83318, 168579, 67385, 39525, 965, 109701, 3765, 63597, 73555, 48779, 90309, 115764, 194871, 55850, 160730, 133303, 137682, 44574, 42571, 168026, 24605, 44885, 891, 869, 364, 30104, 132812, 25369, 140756, 132953, 88925, 152219, 43804, 51583, 120474, 180261, 18220, 168027, 177238, 174309, 34544, 130269, 66253, 10425, 51271, 168571, 93393, 46073, 155250, 66328, 184342, 196650, 90739, 155250, 136912, 186857, 20, 128505, 155294, 108015, 153157, 155692, 104, 77213, 63678, 30110, 162065, 25859, 122964, 201008, 38616, 2687, 43802, 193294, 163720, 71064, 86334, 199132, 13978, 11752, 132746, 65542, 185482, 126825, 72798, 101648, 47530, 81325, 139983, 101568, 115254, 175864, 167393, 30814, 82222, 106539, 16147, 182506, 22686, 116670, 180904, 2509, 67838, 143506, 149623, 65996, 11113, 157037, 132399, 11782, 70985, 30663, 120280, 23864, 6774, 147185, 68774, 33136, 81624, 186858, 106910, 94784, 19661, 70293, 183236, 67, 111575, 23048, 202933, 10425, 171696, 26557, 61742, 31773, 31044, 158807, 120367, 142090, 127515, 184664, 70646, 58717, 18610, 135883, 166632, 189066, 156698, 105789, 120173, 87235, 56320, 164325, 194867, 65785, 113072, 1187, 33781, 116208, 167221, 50526, 181745, 109035, 50485, 292, 134391, 42451, 5587, 179874, 3404, 98796, 118619, 521, 158807, 167276, 143000, 39793, 85001, 132109, 112593, 148785, 161355, 112427, 46380, 22161, 115, 38950, 116566, 144971, 181492, 97350, 189989, 57450, 179869, 123935, 198332, 79208, 128886, 52007, 1271, 174996, 187969, 23458, 46380, 139374, 25767, 112593, 113372, 62933, 110465, 17224, 126986, 192162, 145996, 17623, 14528, 101343, 170872, 130525, 176172, 29, 51296, 149656, 22272, 97298, 10500, 54787, 65687, 1060, 109701, 121354, 36844, 51289, 13047, 26058, 182695, 57680, 73, 23121, 104389, 185677, 74638, 175053, 3177, 191056, 78387, 152757, 107552, 115186, 108695, 175194, 94287, 46009, 31773, 9150, 61386, 135775, 137102, 15448, 137372, 119077, 34263, 136993, 193266, 55537, 191978, 68670, 55940, 127082, 31546, 54177, 146294, 120825, 23852, 106310, 59102, 72231, 119544, 34280, 43, 94613, 126737, 47, 132027, 178353, 136812, 106932, 56213, 164598, 141654, 191711, 34950, 102436, 73869, 73445, 80681, 88510, 32588, 47, 143942, 170166, 1372, 48260, 104247, 7767, 70425, 160095, 135980, 149187, 178118, 38952, 90626, 190980, 70573, 104075, 205287, 190705, 196570, 42180, 119474, 3569, 173741, 9154, 147107, 203168, 101185, 184264, 172441, 69747, 94896, 103588, 140131, 170755, 11539, 94612, 152120, 104, 185142, 133663, 63957, 150376, 20087, 70091, 129167, 71429, 44747, 262, 58815, 126255, 2157, 62, 171772, 112607, 155693, 188796, 153885, 197312, 559, 128382, 98264, 33534, 204160, 23176, 56570, 52268, 173816, 48008, 61181, 159634, 78740, 49502, 10454, 132352, 194666, 177829, 193182, 158310, 94416, 122575, 122652, 985, 25171, 59684, 55655, 171135, 99279, 150599, 144326, 49358, 24599, 10855, 167974, 147547, 78387, 207151, 61316, 197428, 37585, 190246, 80852, 168661, 28154, 121969, 6409, 99158, 40380, 129638, 148867, 142723, 84958, 66540, 166229, 148616, 186119, 121021, 32362, 78902, 70233, 147284, 36600, 88512, 175937, 171696, 41797, 97445, 105552, 109009, 186604, 39795, 99666, 106056, 153196, 44721, 137003, 19889, 139126, 57, 28, 51024, 136398, 193648, 101800, 102733, 164327, 39801, 3246, 90185, 120978, 143795, 142837, 108110, 79091, 22687, 199123, 487, 206182, 177771, 100380, 179485, 86219, 95326, 141693, 175864, 105042, 124, 191134, 121430, 22513, 80566, 123172, 42868, 89072, 77628, 151571, 38813, 1245, 2884, 750, 155223, 109310, 74037, 165776, 81624, 114670, 131647, 42121, 98156, 42939, 103464, 487, 96902, 147854, 54787, 72060, 12512, 276, 186988, 91615, 88326, 154641, 114437, 171969, 6978, 155428, 12287, 117188, 105850, 194616, 35359, 17585, 51100, 73290, 201078, 119, 496, 182255, 185692, 29837, 4522, 122853, 68444, 192624, 144694, 186133, 110784, 33851, 4625, 144437, 70488, 149657, 224, 156519, 87610, 74913, 63389, 3213, 85758, 37, 107678, 41440, 113, 133322, 100184, 148558, 3009, 110784, 866, 12508, 1262, 74063, 8940, 41793, 48, 12978, 117444, 70888, 43109, 1332, 106232, 21317, 165704, 1080, 152734, 182138, 96070, 26060, 167276, 7716, 124378, 126737, 203132, 773, 93386, 43627, 68797, 196003, 6008, 124825, 126417, 112189, 167700, 67034, 81348, 31935, 31791, 17662, 202975, 57523, 1695, 118732, 46622, 187094, 158736, 72691, 167013, 38142, 207075, 163083, 46351, 167035, 114371, 203843, 112759, 184, 162507, 180428, 18845, 97213, 11784, 848, 36908, 44354, 18242, 184509, 54, 177915, 143345, 200887, 75756, 71985, 140583, 30532, 108205, 41134, 140030, 93054, 11542, 168120, 10856, 206579, 96157, 149245, 198029, 118875, 72174, 117776, 166843, 128, 53574, 95413, 88127, 28259, 106494, 202400, 168447, 109989, 2509, 135028, 104082, 107431, 12509, 104281, 28975, 18780, 136810, 49004, 8878, 160663, 25250, 178528, 151977, 177868, 176869, 67256, 53196, 97715, 203646, 28443, 145925, 199132, 68797, 199408, 143795, 154938, 24603, 149163, 126087, 162940, 75518, 94192, 78152, 119366, 5518, 129967, 3810, 751, 50374, 105998, 30814, 163375, 203946, 94618, 95413, 177660, 190871, 88696, 162639, 5687, 161436, 176869, 177877, 195663, 96845, 9841, 189, 186499, 43972, 186260, 206177, 15420, 118617, 28150, 125532, 204711, 187076, 95000, 161666, 95916, 177237, 78607, 155839, 96064, 97085, 199658, 18780, 49517, 8375, 19857, 91042, 153387, 10904, 65886, 163600, 186307, 35818, 121727, 246, 23272, 171449, 24023, 174181, 72414, 35710, 105782, 69833, 23923, 146691, 106310, 10199, 134475, 83957, 58411, 0, 73157, 119368, 69263, 47654, 142339, 95690, 91150, 138353, 156785, 180904, 168971, 113711, 115326, 8169, 198713, 170073, 93915, 161436, 188679, 146799, 43736, 153189, 1969, 188925, 42926, 196601, 117486, 6084, 42293, 197593, 190892, 22687, 47, 35709, 175408, 155165, 43364, 102835, 15432, 96639, 78607, 60111, 1692, 202540, 204192, 189253, 202862, 166129, 130408, 94289, 74, 133743, 11376, 175902, 30994, 39797, 6916, 182282, 115198, 171744, 39807, 122740, 87042, 67999, 12585, 178309, 139568, 115743, 86288, 119297, 114082, 9462, 37586, 79517, 76793, 71779, 194003, 4640, 69571, 106539, 164099, 163910, 46241, 35813, 181407, 158504, 142340, 9144, 128098, 17695, 30663, 176207, 68365, 86680, 130269, 48141, 117566, 170357, 175419, 115204, 104546, 188045, 50007, 206886, 82743, 11767, 150684, 208, 142514, 174031, 191243, 107663, 76569, 48279, 135360, 154537, 168380, 173546, 45662, 180428, 57317, 185295, 143507, 155100, 4149, 178796, 65, 62401, 167471, 162319, 106518, 47, 180954, 58892, 5188, 196949, 79283, 173906, 134732, 162, 45285, 131058, 93204, 128838, 195245, 165936, 34270, 61591, 53193, 24435, 182692, 44213, 50614, 176987, 60951, 43, 191780, 94268, 43977, 146875, 157350, 77081, 153699, 50410, 51198, 149273, 147203, 196078, 70650, 106494, 92304, 180263, 107863, 27035, 119977, 1244, 8362, 40563, 137201, 62096, 55906, 95123, 108455, 85446, 197074, 31777, 145058, 31513, 23177, 194933, 117034, 59913, 207346, 129806, 119412, 135885, 41915, 121899, 81080, 96872, 144434, 51296, 72909, 189376, 11791, 25718, 192255, 1717, 145954, 7632, 120027, 176309, 149656, 150667, 376, 122139, 109315, 152882, 1865, 188, 107011, 85603, 93208, 10513, 89073, 174936, 86675, 29647, 11438, 70138, 43776, 77054, 14559, 3039, 186009, 38791, 196306, 39587, 162929, 50372, 16181, 184695, 147854, 169771, 472, 119223, 52697, 144696, 1211, 165543, 1249, 8940, 40570, 186367, 117790, 175727, 102254, 109733, 132505, 146726, 206305, 122593, 90633, 70091, 65, 2383, 130058, 32497, 137076, 83061, 152211, 114328, 201713, 38391, 48293, 140388, 122543, 106854, 106028, 47230, 123538, 49479, 162639, 163322, 164832, 29647, 126417, 202969, 56902, 26067, 31041, 35820, 124885, 121022, 138657, 120826, 144619, 158027, 31256, 110045, 131825, 93647, 129, 136895, 110454, 30104, 339, 100051, 20103, 108270, 1965, 115514, 147882, 112962, 27097, 189490, 23771, 136990, 139762, 85053, 154070, 162227, 91887, 3327, 81614, 62097, 72209, 4289, 63827, 75, 50697, 31808, 56272, 83710, 50470, 72410, 155730, 34243, 134933, 167276, 188913, 187780, 39797, 111785, 43808, 28259, 148513, 83321, 149080, 77524, 18780, 146959, 148136, 135785, 183853, 118523, 9440, 181407, 63114, 171141, 65887, 97423, 152666, 191056, 18780, 97688, 147547, 138, 191661, 11673, 47013, 176309, 123296, 204974, 61196, 183227, 45561, 120777, 113194, 18972, 82544, 5586, 182624, 206626, 138353, 81810, 31773, 191965, 33361, 86814, 26949, 115342, 8929, 175626, 69834, 138200, 87489, 47955, 46931, 86561, 137355, 203701, 126844, 53621, 100429, 43, 118713, 129666, 93580, 156698, 73233, 163719, 10424, 28092, 199342, 50462, 39749, 39588, 169094, 4518, 166133, 178953, 85603, 119553, 86679, 170554, 58610, 45472, 207368, 46247, 186230, 206201, 54630, 94760, 202400, 133303, 141700, 48242, 148615, 179105, 73, 159235, 53792, 5589, 143085, 59234, 86605, 164413, 202121, 86288, 154904, 195643, 6670, 8098, 72209, 29645, 181239, 158587, 169826, 139030, 52287, 3630, 40072, 95353, 132748, 87687, 141845, 115293, 16610, 80055, 36543, 123252, 122940, 112759, 13978, 16695, 70292, 197792, 149359, 191711, 82280, 27363, 17585, 129582, 89184, 7466, 201403, 81404, 89753, 29366, 113, 195404, 127082, 80853, 8, 119139, 1185, 28799, 39591, 177727, 78239, 205117, 63960, 192276, 181395, 31042, 194353, 66464, 130940, 80852, 127054, 166469, 203446, 73757, 70572, 90822, 61317, 93648, 155295, 17693, 193469, 182522, 44121, 47232, 166249, 58227, 85161, 167985, 745, 155924, 106854, 71247, 166785, 198926, 172226, 101832, 702, 180474, 34825, 66688, 130408, 21213, 179204, 204733, 42869, 63570, 196788, 8843, 167974, 85573, 118010, 196015, 44968, 170872, 192090, 126, 161114, 187338, 15570, 173785, 86682, 90525, 71083, 168682, 152937, 90783, 33135, 123377, 202585, 206707, 177299, 187530, 189380, 148597, 138433, 199226, 3714, 71063, 40056, 24554, 59182, 79973, 191335, 134521, 141811, 120516, 166469, 62156, 26544, 57847, 117566, 20484, 60650, 24120, 13976, 4223, 120511, 195981, 99035, 201225, 37952, 202281, 2917, 73615, 186260, 18197, 28443, 16269, 14324, 160264, 183361, 27139, 33588, 51147, 148079, 99017, 862, 205290, 100401, 164504, 61923, 68030, 192415, 116946, 184357, 38610, 100380, 133673, 42118, 87218, 124243, 51732, 134124, 62859, 42540, 81492, 85245, 132352, 19674, 41137, 167122, 176156, 120148, 106789, 115, 89471, 178954, 141693, 14060, 108528, 92093, 102988, 119075, 48281, 80637, 160633, 9190, 125764, 135643, 169245, 55061, 179674, 19673, 52160, 92317, 131024, 207368, 181535, 90343, 163910, 140756, 194294, 140388, 78387, 100195, 33072, 114, 200153, 40384, 116701, 166002, 205271, 898, 190490, 174580, 15438, 164875, 206493, 11928, 128966, 61378, 132643, 12770, 23840, 87446, 31256, 129431, 165783, 11389, 114193, 202804, 166594, 73233, 69380, 145883, 129401, 134049, 191702, 117789, 3596, 4517, 182805, 142723, 142436, 66871, 146508, 27176, 145829, 94615, 165899, 106052, 9176, 72, 90342, 169, 1960, 125475, 11183, 145989, 45676, 2693, 141356, 108089, 181806, 50470, 971, 196862, 154938, 119496, 206201, 203646, 67088, 40871, 176416, 190066, 7438, 57758, 45366, 33971, 174183, 27961, 7032, 162490, 198656, 113194, 7175, 148178, 115204, 102615, 49059, 164853, 109787, 0, 192040, 113, 63685, 1081, 48837, 122772, 2195, 76184, 745, 146574, 149986, 134156, 86187, 147973, 116869, 190729, 198374, 171, 80538, 204906, 131751, 4506, 144392, 144131, 84468, 21250, 114487, 10485, 78064, 35032, 106496, 191137, 0, 63683, 112606, 187469, 44313, 89588, 20509, 39522, 89184, 59561, 122940, 47, 60951, 80567, 126498, 185546, 96024, 158754, 143744, 119937, 177868, 162939, 147694, 188442, 37585, 197862, 93091, 45713, 104719, 85906, 159073, 10896, 195556, 183691, 151053, 23177, 114536, 53200, 31251, 71557, 182132, 121969, 41905, 188647, 26604, 47181, 95326, 74171, 96239, 67378, 4642, 8075, 164867, 103123, 53195, 45164, 3213, 91042, 42894, 26948, 42321, 94319, 203873, 45, 77054, 92317, 177469, 161270, 104081, 162639, 79801, 98591, 93888, 21562, 53558, 184108, 50607, 113832, 20088, 34075, 119579, 190932, 49503, 148858, 424, 166594, 179269, 201846, 86239, 126498, 166965, 150376, 13203, 110379, 168466, 140105, 64731, 196518, 1943, 190289, 86679, 63950, 150703, 117176, 26301, 163012, 183209, 150418, 100051, 42869, 13982, 42869, 54621, 100375, 235, 125454, 45797, 135577, 107472, 74609, 94473, 158821, 498, 200345, 205602, 55270, 54093, 48777, 120153, 81171, 81349, 21560, 878, 144213, 84578, 4520, 526, 147971, 186739, 63565, 29646, 158013, 163144, 32526, 190164, 15411, 112427, 132847, 156698, 166627, 38371, 192959, 86803, 117007, 102413, 197593, 186671, 29643, 169882, 187877, 72479, 821, 17699, 75055, 139170, 162929, 42322, 52875, 205271, 106910, 5673, 132970, 14328, 86037, 74965, 93204, 175902, 84999, 137812, 36844, 168778, 102992, 150150, 29829, 5294, 169, 7371, 188879, 142687, 57454, 206537, 199625, 158274, 164831, 40895, 191334, 146581, 125687, 8167, 121020, 58378, 21953, 68842, 164714, 54763, 185287, 194012, 125128, 189407, 141021, 204112, 73006, 1193, 153710, 119988, 87746, 132, 169173, 71447, 117175, 95009, 19117, 104601, 54092, 172051, 121603, 183668, 43808, 118237, 15095, 194533, 202167, 39805, 118398, 73039, 105444, 112904, 99614, 37954, 11145, 669, 199394, 126947, 123, 33592, 96779, 21213, 10631, 82080, 79647, 175244, 148759, 18238, 126853, 164813, 36599, 101083, 162876, 189567, 12217, 15451, 39441, 171141, 239, 18972, 27607, 37685, 206913, 8397, 201968, 157240, 125760, 139188, 39168, 109266, 74874, 194626, 161017, 136810, 2487, 175964, 63569, 123866, 125059, 7277, 247, 2, 84743, 193354, 203384, 1117, 51198, 171317, 105444, 48258, 93764, 139700, 106930, 160560, 78739, 69504, 178818, 499, 89847, 0, 177331, 6057, 63851, 7319, 174940, 116065, 52997, 11791, 22690, 150202, 111231, 192624, 47045, 164304, 174743, 67381, 139449, 107464, 104488, 186702, 182571, 164413, 151908, 27068, 97704, 120143, 33766, 85002, 113, 84999, 22687, 157240, 2482, 73871, 198225, 132137, 16695, 13870, 23050, 112473, 36578, 867, 82222, 162646, 197699, 108835, 60101, 109570, 56724, 28388, 163910, 186409, 158267, 68515, 36733, 155810, 184432, 194645, 60696, 16620, 168429, 97402, 192746, 147152, 84191, 152691, 66810, 180828, 31813, 193922, 83615, 76092, 33761, 11543, 69948, 15411, 103462, 141002, 58808, 45797, 52178, 576, 1247, 43313, 190837, 90739, 67319, 14505, 44642, 152172, 116671, 134475, 39801, 126844, 54632, 96024, 3611, 188981, 121425, 86379, 120550, 161436, 149940, 201508, 160770, 148785, 114829, 88998, 8499, 40396, 52007, 65, 82345, 96069, 3161, 152484, 90523, 73657, 21955, 1033, 51051, 37154, 76569, 66679, 164559, 186237, 43691, 109699, 152936, 157305, 22711, 133279, 167425, 128722, 90882, 134527, 175139, 115516, 70412, 42733, 194387, 89032, 69055, 161480, 84743, 123276, 94615, 58593, 168587, 120118, 103245, 69923, 3804, 136955, 171743, 116333, 186221, 702, 179690, 195447, 45693, 471, 28366, 123311, 155444, 94765, 86501, 97297, 121302, 152757, 4742, 174390, 147714, 69948, 166249, 172936, 127256, 5761, 25964, 154580, 94467, 8065, 130433, 6085, 171688, 135029, 77241, 20909, 183209, 186221, 172380, 73807, 153335, 31258, 126845, 159565, 165354, 164582, 166469, 14, 141654, 128174, 136811, 160115, 98690, 9754, 182836, 194417, 83615, 50374, 25171, 128342, 185870, 96560, 74712, 138597, 96065, 123, 94622, 27724, 41602, 78908, 145976, 145057, 406, 137235, 2688, 106310, 1687, 235, 155296, 207005, 100345, 191491, 66344, 47235, 41440, 151196, 99302, 156147, 157806, 121729, 196087, 183370, 862, 163104, 159878, 34534, 38204, 40950, 31775, 61818, 7182, 137711, 122652, 2143, 66851, 26060, 71055, 16360, 68521, 8342, 184138, 48278, 137446, 1237, 51025, 117613, 71561, 97079, 51864, 84011, 143583, 92094, 25414, 161111, 174629, 45377, 6885, 202319, 9856, 19117, 89847, 107254, 144931, 73040, 49497, 78901, 9841, 107243, 130408, 91801, 148868, 134483, 188912, 129167, 30102, 83062, 89847, 144074, 8360, 2118, 300, 71554, 117805, 152643, 58813, 37714, 62710, 13650, 19311, 143507, 4996, 93802, 133491, 190461, 153887, 191249, 49845, 162273, 58017, 206272, 326, 31808, 152142, 30091, 102834, 104601, 127648, 48940, 176224, 45466, 161717, 144795, 99245, 55086, 596, 102267, 179238, 140840, 177079, 126, 166013, 164708, 152964, 154678, 184713, 113150, 190742, 191945, 84457, 15438, 190405, 94427, 123252, 118952, 31, 127671, 18975, 81257, 200821, 151150, 9848, 95413, 194370, 131572, 28633, 134818, 122575, 113194, 97354, 10502, 62094, 113442, 11337, 180454, 138875, 178309, 101753, 118970, 63684, 106271, 59234, 193922, 130259, 95666, 239, 41131, 17231, 203609, 31251, 127755, 1537, 203510, 161561, 44471, 42121, 196869, 87453, 103941, 69206, 76328, 149657, 56688, 171689, 191574, 52001, 28, 149657, 472, 199226, 176424, 59913, 97293, 164116, 29420, 177327, 12771, 20, 678, 206072, 93296, 34, 91416, 119977, 12384, 149165, 175481, 46770, 172406, 203913, 175397, 62800, 69380, 150078, 16708, 19660, 130857, 150602, 158109, 192633, 138805, 116343, 92306, 106052, 31980, 23462, 31435, 6982, 192273, 55086, 73758, 185283, 174844, 495, 76304, 151736, 18972, 137909, 144360, 159694, 66269, 29199, 171141, 164145, 21250, 45, 1978, 43, 59785, 47, 166880, 146511, 192580, 175595, 129967, 7951, 142889, 35817, 141357, 788, 129426, 89184, 72798, 145343, 13806, 33139, 176585, 5361, 77340, 37076, 148210, 149130, 77928, 111074, 131664, 37534, 3177, 106301, 99944, 169125, 40056, 44121, 81622, 199058, 13201, 153157, 65, 118619, 131544, 163012, 116715, 172121, 82459, 51913, 77165, 7319, 120280, 69948, 160714, 14, 6009, 28411, 168041, 103914, 123121, 80505, 292, 125760, 111813, 90160, 44486, 118620, 192876, 136353, 106487, 162840, 52920, 115314, 41285, 96872, 14561, 200376, 2138, 241, 2739, 33480, 42871, 50238, 43314, 2, 42872, 129, 39168, 83575, 203946, 155608, 61968, 6550, 108205, 25678, 191726, 106272, 4679, 193886, 107643, 14528, 94093, 101800, 73512, 191917, 15411, 153071, 45720, 145798, 28933, 41792, 183587, 188680, 113, 15006, 833, 195481, 153018, 49515, 142329, 205830, 62365, 114286, 110907, 201985, 120367, 124009, 139572, 138433, 98156, 176085, 35709, 77628, 138537, 175473, 80034, 130411, 70084, 186836, 115652, 2953, 33413, 151218, 167491, 122330, 122940, 113698, 57757, 208, 129168, 162, 101320, 130203, 139374, 125687, 9856, 159628, 56272, 98278, 133080, 51737, 190862, 200821, 41442, 199072, 164814, 459, 78740, 148172, 8794, 0, 100673, 8375, 101102, 0, 23697, 182522, 14067, 27, 5928, 104860, 6718, 95, 102991, 106855, 0, 56302, 110978, 101040, 60840, 84030, 96133, 78705, 154943, 26309, 132847, 49060, 20912, 179930, 107813, 50330, 9839, 8928, 18748, 122331, 98683, 154376, 157922, 78354, 78152, 192134, 159237, 97350, 24257, 195412, 187602, 3810, 2785, 61314, 71381, 74832, 101102, 44120, 169246, 77347, 200057, 162319, 142092, 8177, 70491, 3996, 202933, 188, 100409, 113446, 9860, 36428, 10441, 22157, 160483, 203285, 42494, 198611, 175907, 140653, 140991, 200159, 32772, 195770, 191865, 193386, 72689, 24435, 9861, 10199, 144641, 93648, 102991, 138597, 75763, 196233, 5014, 98001, 65386, 161334, 130586, 17625, 1211, 147972, 19309, 64572, 199781, 59648, 51114, 28833, 106539, 194533, 157839, 190614, 112464, 60102, 3, 62933, 138803, 58651, 217372, 124886, 138856, 130259, 48244, 13220, 195324, 95660, 0, 2158, 14554, 181603, 26557, 40056, 194478, 62485, 147563, 85760, 194626, 142837, 121445, 125630, 120825, 38950, 27134, 150965, 205920, 97350, 68030, 147391, 179366, 8841, 182624, 178807, 53006, 171193, 67381, 17622, 148695, 152937, 149141, 4983, 113569, 200598, 177332, 58324, 147328, 5509, 195663, 105581, 42539, 198191, 127997, 114644, 1242, 47223, 112606, 136704, 196223, 205701, 173194, 133196, 67533, 198109, 191568, 70491, 171091, 21579, 26250, 172441, 116333, 170764, 40871, 16873, 52897, 27937, 943, 137227, 49531, 103733, 99400, 146691, 150395, 105042, 176723, 101697, 187264, 57338, 75122, 199010, 121602, 130157, 63856, 132183, 82529, 86986, 154993, 103999, 38204, 138056, 5281, 92566, 63129, 94753, 28092, 6982, 51025, 165537, 105723, 180485, 29419, 172704, 76579, 12261, 0, 96455, 65606, 28, 180655, 147933, 97257, 165561, 158807, 18663, 109065, 117006, 167861, 74403, 12206, 149599, 30474, 97403, 138633, 4986, 69093, 94088, 3994, 84033, 149657, 24903, 169184, 42444, 25450, 114585, 209, 70759, 106932, 32777, 100375, 131078, 44820, 93299, 126845, 167115, 169267, 88707, 10915, 206626, 174089, 126692, 75173, 159033, 3994, 90682, 188816, 127469, 94941, 78880, 73040, 9374, 114012, 107226, 128097, 38791, 73555, 85302, 27068, 76603, 137236, 173176, 103377, 52286, 25764, 164978, 201952, 58323, 103718, 168661, 121143, 28, 163374, 873, 184814, 31776, 179051, 139544, 108086, 95521, 173, 32583, 190034, 42869, 3374, 196614, 12508, 187266, 78130, 206626, 86105, 55051, 160846, 92449, 185337, 192374, 59048, 13661, 36180, 194856, 121200, 66225, 99280, 122593, 115313, 151005, 43, 133053, 41905, 113, 139628, 76317, 65381, 112606, 61818, 168858, 87687, 0, 78033, 85232, 80, 185277, 201902, 140099, 34825, 101990, 203781, 70652, 103737, 101587, 126076, 126669, 156293, 143282, 129654, 143243, 86033, 101640, 94614, 118153, 156620, 161268, 19, 131074, 39068, 170793, 137501, 87894, 454, 72093, 167694, 95394, 56524, 153077, 18972, 5684, 154071, 2943, 48999, 185084, 149868, 101959, 142085, 57844, 31202, 164881, 133751, 106979, 94777, 198101, 44777, 123935, 42121, 85361, 140452, 137554, 122332, 66255, 191809, 121482, 186665, 168767, 39168, 147691, 79138, 117215, 699, 7673, 50127, 198423, 94896, 156606, 108, 131420, 4968, 196473, 1249, 3994, 89667, 121898, 123090, 15412, 152560, 52003, 139, 106, 159896, 193112, 194834, 148661, 139027, 174933, 79973, 164830, 33639, 59254, 185870, 48837, 142325, 181905, 145034, 22833, 150310, 189850, 114313, 54790, 197174, 115652, 70642, 77244, 21318, 50370, 106854, 104720, 28743, 55253, 198452, 198861, 23843, 11542, 21806, 106142, 91615, 97350, 194616, 116869, 151568, 166995, 103445, 8932, 44653, 26008, 32059, 6977, 19682, 204640, 89184, 185838, 29832, 205324, 94820, 80034, 65892, 177915, 107, 184150, 124603, 40072, 13999, 166252, 178420, 15437, 124543, 137215, 193573, 144132, 152757, 108114, 4487, 127756, 161984, 115635, 85304, 190843, 40106, 95355, 172380, 44105, 173346, 161697, 82736, 66950, 24435, 54632, 44820, 172745, 27358, 202585, 82420, 148870, 62934, 9440, 173963, 98430, 151617, 144326, 115947, 114007, 106425, 181868, 170714, 81078, 78388, 137843, 195324, 30112, 201024, 109569, 82608, 150089, 108589, 11754, 128497, 163582, 155691, 77337, 156907, 3039, 32529, 30441, 4696, 149245, 150711, 94818, 98052, 81620, 32059, 6068, 111575, 142339, 101219, 132559, 105571, 187502, 176417, 79719, 54507, 125932, 85444, 110783, 12770, 130719, 131647, 12632, 203613, 108676, 662, 155693, 9375, 154904, 35036, 149793, 37623, 177660, 97702, 128, 180647, 12657, 153048, 177073, 43, 198934, 89253, 100388, 113754, 147394, 66224, 129341, 147855, 125687, 76184, 103737, 146424, 28806, 28389, 128251, 5690, 23176, 132172, 0, 113572, 104367, 956, 74428, 181636, 176251, 104587, 147280, 30665, 144213, 26060, 28989, 34825, 182132, 54796, 93915, 6680, 86037, 202732, 158412, 142585, 144352, 103183, 100239, 57043, 124923, 46804, 117564, 184510, 91878, 187313, 155494, 54417, 161418, 28751, 22687, 88770, 87746, 168024, 37168, 21805, 49497, 110168, 27566, 16047, 117564, 4643, 47653, 147643, 116765, 3594, 161717, 94785, 2378, 84576, 0, 132643, 139508, 13574, 99914, 86104, 26419, 32329, 147605, 178601, 79994, 24599, 7941, 147781, 192843, 171317, 53019, 205539, 4696, 122473, 169229, 36443, 190457, 72500, 145016, 181887, 181079, 142514, 92306, 125942, 104546, 185608, 43459, 31980, 118354, 74898, 188679, 41285, 189489, 39522, 64176, 2517, 41909, 2499, 146517, 66756, 58892, 139983, 130408, 10855, 169882, 155692, 113568, 76903, 187840, 3934, 160258, 121665, 67837, 4071, 170243, 162273, 130434, 129371, 24913, 79164, 23040, 98362, 133027, 16695, 93649, 665, 33975, 60102, 105045, 63503, 68031, 187839, 75121, 122721, 79618, 193463, 57844, 139983, 70737, 11047, 207332, 197674, 62229, 75036, 107064, 156489, 27899, 78238, 172262, 115100, 5673, 137409, 18985, 185598, 138435, 64651, 138055, 35362, 98589, 123798, 2007, 151188, 107863, 151453, 77015, 174792, 139190, 152172, 202215, 138, 86381, 97456, 140797, 166002, 77930, 141475, 54, 71989, 35622, 63680, 116065, 157597, 55086, 40871, 61743, 161937, 43932, 2739, 193292, 130241, 188488, 38608, 29830, 10552, 195061, 101632, 110977, 137850, 13569, 95, 99839, 167985, 63668, 31247, 120143, 7940, 130057, 152165, 27364, 36445, 89849, 151977, 201555, 180535, 59182, 94038, 5591, 28386, 156489, 6410, 106700, 51954, 111943, 103157, 125598, 190164, 5056, 135366, 23468, 55947, 190386, 40109, 58323, 128171, 744, 82737, 86420, 126548, 122540, 121242, 110045, 122815, 17694, 167276, 205593, 46101, 48284, 108850, 1714, 47, 93550, 45258, 102329, 46934, 109, 175268, 102629, 49938, 91782, 143902, 942, 85880, 68291, 8610, 53621, 148531, 189917, 71109, 31, 6792, 116192, 139573, 77596, 81079, 156298, 207005, 101185, 19542, 93512, 133451, 66258, 195553, 95413, 94612, 7720, 47467, 101990, 147278, 8, 51076, 81186, 30994, 1787, 155845, 206320, 20865, 28420, 53574, 1958, 154334, 41118, 78901, 31251, 170764, 127070, 126017, 189689, 120117, 157323, 45717, 168587, 37954, 159455, 1238, 139892, 92989, 62348, 28831, 34431, 18749, 198538, 172362, 129372, 128497, 15246, 76871, 18225, 31937, 89192, 122940, 29419, 125333, 157236, 42214, 43802, 38456, 88535, 23451, 163263, 194552, 128401, 159407, 151033, 154151, 121950, 17210, 57183, 188109, 156028, 124009, 75589, 149185, 25721, 114437, 181091, 48012, 7385, 42122, 144391, 23699, 116000, 38522, 126588, 80900, 41296, 198060, 199127, 180263, 33766, 70786, 58161, 104745, 33407, 146391, 122012, 23178, 103734, 168048, 128937, 142585, 89849, 126610, 92092, 47, 24602, 9508, 125565, 154070, 193911, 161436, 123869, 3990, 178848, 59178, 66950, 36, 117444, 61378, 203829, 131023, 33231, 137115, 94624, 26260, 8363, 184432, 128429, 65883, 206900, 108498, 179473, 153805, 120042, 205, 36567, 12513, 167472, 158057, 92091, 16262, 138, 144498, 81017, 26443, 79219, 49505, 124293, 194535, 153700, 137445, 93803, 191664, 10199, 90684, 4464, 166563, 201078, 93207, 86219, 205458, 139988, 175191, 94192, 54799, 122940, 198810, 177915, 127624, 125122, 25754, 167115, 170810, 115652, 198656, 793, 85053, 136811, 38525, 203850, 41799, 53201, 127535, 326, 138351, 587, 141540, 34328, 107232, 203394, 184695, 124733, 23040, 128886, 105690, 83615, 23120, 193446, 74261, 185683, 176782, 190843, 186890, 33214, 5360, 88, 112151, 36841, 47, 101796, 203175, 147141, 63683, 156049, 10194, 37585, 85573, 126853, 2807, 135016, 108663, 175334, 160508, 36543, 59102, 168398, 166133, 131871, 164194, 32072, 193386, 201203, 54090, 17853, 63849, 148112, 47, 171795, 93913, 85595, 26668, 125159, 70138, 96070, 23066, 37076, 21248, 95610, 197431, 127522, 68756, 412, 10856, 136122, 158055, 106144, 63229, 144132, 151154, 67884, 14734, 126417, 102833, 46242, 122209, 177727, 175850, 18242, 128428, 15413, 66160, 179820, 97999, 103462, 46625, 22687, 21332, 108089, 99501, 146579, 292, 121388, 191056, 103227, 190317, 182423, 25964, 84647, 76334, 205208, 157305, 49, 830, 116701, 121194, 104601, 165898, 20547, 103585, 156606, 61573, 188242, 172878, 137596, 185895, 30490, 52359, 108954, 106909, 113434, 64162, 109531, 203471, 186046, 10186, 35439, 59650, 148031, 28977, 198810, 95276, 140445, 119495, 82280, 56902, 20100, 182041, 196048, 26429, 88127, 186260, 108730, 59651, 83587, 192580, 202077, 140990, 119, 59566, 170589, 158587, 2157, 108847, 142688, 205690, 171319, 105042, 56625, 33967, 32501, 16160, 60748, 40573, 102478, 165993, 114007, 169187, 8370, 119469, 157468, 35032, 74063, 86812, 30533, 37951, 109701, 112941, 102128, 189824, 151725, 101566, 14324, 149276, 62482, 142585, 68, 146691, 1180, 80319, 75163, 98035, 203403, 119394, 13805, 182294, 67999, 75160, 6080, 37533, 73144, 197702, 151933, 88330, 196233, 3946, 30993, 97401, 121388, 38523, 112204, 15439, 115766, 45288, 105089, 113, 116759, 179143, 155541, 5000, 149599, 91598, 15447, 43797, 156148, 204436, 190295, 205830, 50701, 31456, 165389, 133935, 183728, 145830, 185191, 135029, 180213, 99666, 14528, 138632, 596, 104590, 1112, 43547, 126560, 190940, 143746, 130054, 94084, 155691, 91598, 15438, 172267, 147842, 203833, 185191, 50126, 47, 196163, 101264, 102468, 149598, 19562, 124284, 142837, 861, 120459, 32763, 181535, 36543, 60648, 193208, 196520, 117176, 83317, 177829, 125564, 158140, 64166, 88998, 195190, 132670, 103734, 84864, 156324, 166621, 13943, 3643, 10473, 33963, 12506, 31775, 163910, 26308, 84265, 128774, 7995, 127914, 4641, 161717, 142514, 203783, 47, 40871, 43739, 98950, 59648, 43736, 2138, 198363, 113, 92988, 21327, 26557, 189081, 181934, 163832, 88540, 181453, 143279, 52875, 32564, 190742, 82408, 205533, 107663, 33762, 200, 181868, 28016, 79606, 163596, 179826, 142837, 126420, 136011, 63347, 173372, 69750, 31045, 186230, 36263, 67612, 123869, 79284, 83590, 125708, 98146, 95788, 196717, 102329, 188332, 172109, 155047, 161017, 15215, 203311, 36435, 43313, 69923, 11784, 18242, 917, 132174, 4203, 58750, 71560, 209, 23175, 67176, 90351, 2158, 154536, 83182, 174126, 10515, 120966, 180366, 148558, 869, 17007, 206553, 158938, 194709, 66297, 62800, 1183, 156674, 133659, 166133, 112905, 138353, 60840, 66950, 166584, 40056, 96459, 139631, 127082, 12508, 194828, 12379, 102128, 125756, 125763, 24581, 151979, 167276, 83559, 203873, 65232, 99666, 130192, 188276, 75353, 149838, 92689, 12199, 158338, 116977, 180738, 19, 68534, 192977, 189822, 75064, 103122, 159541, 105551, 105723, 104917, 92449, 129112, 112158, 175007, 47705, 70138, 107242, 44953, 74608, 108270, 178118, 100081, 15427, 187736, 145401, 339, 33963, 85659, 96678, 130054, 109376, 171274, 95661, 106931, 122714, 99244, 180655, 36745, 243, 37585, 189366, 67536, 97356, 55656, 121143, 20376, 173346, 116869, 169626, 86101, 31252, 35361, 9861, 91886, 61111, 137371, 145924, 108695, 26544, 110465, 50505, 89588, 94938, 48243, 40328, 158028, 11123, 78237, 71276, 56, 2716, 122940, 146869, 192303, 112050, 14539, 114537, 32059, 28833, 76569, 81525, 165947, 235, 155520, 192232, 163319, 96784, 116765, 40112, 85933, 171449, 103735, 125372, 138503, 97213, 185625, 82459, 100750, 154537, 58815, 130259, 70015, 21958, 171445, 121732, 25767, 127070, 56565, 136009, 166702, 16160, 141448, 147251, 155541, 162242, 107624, 183120, 63228, 736, 108079, 65, 54796, 89681, 81, 82570, 32052, 148715, 66344, 168447, 149009, 89192, 1689, 178723, 135184, 12591, 62156, 27918, 110465, 81517, 92304, 31258, 58895, 52922, 86679, 22687, 26479, 139753, 60657, 82799, 72062, 642, 69261, 12591, 111759, 5157, 169523, 148715, 52290, 3900, 15412, 90342, 273, 166488, 185338, 116705, 145401, 129875, 172422, 76569, 63958, 114369, 86088, 164194, 175921, 46354, 42118, 103232, 111914, 85516, 20089, 130587, 179484, 64990, 105845, 184695, 121605, 24435, 96782, 7202, 199293, 489, 148267, 144952, 71169, 179941, 5000, 122814, 110781, 204754, 11754, 61072, 183729, 10512, 146944, 16071, 7205, 91801, 191780, 0, 113442, 183208, 29830, 189824, 157622, 86288, 164617, 69747, 29409, 103185, 180185, 201435, 199153, 82613, 169057, 30087, 131513, 132643, 73872, 126986, 28613, 152242, 115801, 205138, 47, 37561, 34128, 94821, 2, 59180, 207223, 189178, 62487, 115, 150961, 183828, 186233, 90683, 191056, 67792, 20083, 31442, 125762, 26350, 116393, 129508, 145651, 29826, 99697, 97704, 20918, 6982, 146796, 186237, 19661, 29832, 54796, 38032, 116701, 155374, 16047, 47704, 145745, 46312, 92900, 71339, 192273, 147546, 13272, 9440, 109035, 196862, 26429, 98325, 113446, 164674, 130259, 163301, 201050, 5696, 72822, 200609, 43974, 130719, 98227, 106, 58893, 42293, 172460, 41015, 376, 187727, 201762, 83710, 164188, 85361, 144931, 137679, 0, 34870, 193092, 201769, 6876, 82376, 14317, 104601, 22512, 169051, 114437, 84113, 26720, 14606, 96677, 69709, 123378, 2712, 144619, 20109, 125, 46193, 181177, 56075, 200708, 77596, 79517, 86481, 125060, 31516, 174609, 25636, 19886, 86443, 153576, 14554, 137448, 187080, 200, 0, 54804, 0, 154043, 11106, 51698, 151814, 179269, 12934, 184994, 134579, 103178, 33948, 61497, 30661, 27163, 39806, 106309, 48252, 139792, 174882, 43132, 90739, 73212, 97291, 17769, 89667, 1245, 16071, 185191, 78154, 106304, 155575, 18224, 364, 110978, 198138, 180711, 180373, 1755, 9411, 155495, 180493, 92989, 44117, 166167, 79961, 3453, 20469, 103236, 166206, 15432, 170357, 167915, 116444, 69261, 700, 79973, 93005, 135715, 133538, 198934, 120550, 185142, 201846, 175053, 27904, 921, 144212, 89184, 176488, 153693, 69000, 139507, 41804, 140131, 14664, 19886, 4509, 197699, 19505, 21805, 70759, 130719, 176588, 191434, 81046, 811, 183243, 186443, 64051, 205036, 166204, 39060, 67178, 41442, 127671, 170817, 98683, 108270, 19, 86597, 926, 158484, 80547, 489, 67175, 63569, 135597, 11379, 70426, 165958, 13661, 116333, 140811, 23177, 33968, 181113, 811, 27566, 159309, 153159, 98634, 191857, 199958, 18800, 62098, 125759, 86443, 79137, 45167, 15251, 124414, 56627, 159455, 170625, 28388, 77840, 197255, 36445, 74086, 45, 96679, 31934, 113932, 66870, 13661, 171696, 31, 49525, 2635, 24605, 205974, 20080, 3652, 176013, 133645, 176969, 69709, 12384, 138857, 113984, 126548, 158072, 31737, 65289, 58475, 34420, 16327, 67179, 21520, 6409, 162073, 245, 182811, 79272, 95610, 186214, 15250, 67808, 184365, 79054, 165783, 132472, 129856, 187266, 37148, 140253, 42, 124603, 82279, 30104, 158808, 143792, 85905, 189955, 50003, 164649, 41245, 186643, 21317, 107704, 61745, 144619, 151454, 65890, 35623, 77072, 19, 172262, 189777, 149903, 112282, 147643, 191822, 88127, 125928, 28307, 32778, 202842, 147854, 18177, 98131, 50122, 103464, 187852, 81583, 192162, 37, 110000, 37571, 179202, 154016, 122696, 145058, 109989, 52592, 156465, 122714, 144075, 148760, 141810, 123776, 21329, 12288, 8170, 99401, 113569, 123816, 3529, 4841, 16158, 170584, 182198, 150114, 79219, 188109, 65049, 51282, 64436, 49202, 25566, 92689, 129849, 140388, 13569, 320, 96312, 65883, 160178, 153005, 65289, 59585, 82083, 160158, 86605, 114668, 64414, 71165, 139568, 38610, 161894, 150090, 95003, 189226, 164221, 53473, 125371, 47, 62666, 162378, 199991, 35278, 82374, 158939, 122767, 68775, 202121, 166204, 117959, 86219, 200206, 194786, 190457, 148688, 158795, 172521, 35808, 78130, 81078, 78555, 46011, 200314, 125318, 141697, 51271, 175500, 90748, 1176, 30526, 140550, 48247, 76583, 1926, 93648, 98227, 11145, 14554, 33878, 133271, 189572, 120826, 188818, 150082, 158151, 120666, 8174, 105135, 97656, 136665, 178345, 37585, 164042, 186499, 127533, 144326, 55071, 179113, 123966, 123761, 205117, 898, 138857, 120280, 41907, 47, 38810, 190584, 151211, 107918, 65046, 164895, 71399, 47, 169969, 119956, 15251, 128175, 182577, 173976, 136494, 7948, 123957, 169780, 119719, 115237, 105351, 153159, 27566, 5536, 39801, 144740, 52704, 131154, 164718, 56474, 83958, 5006, 2525, 122696, 74609, 144214, 206182, 98594, 9933, 81, 25767, 12205, 75592, 108113, 136309, 172157, 195061, 11652, 6982, 155127, 79616, 145556, 204805, 143808, 85245, 96639, 153487, 30474, 25762, 193922, 141332, 154334, 3579, 97350, 62195, 7174, 169969, 81073, 17769, 134392, 36776, 22917, 148265, 2200, 163582, 168587, 5673, 196078, 202043, 160217, 135028, 7652, 21316, 29199, 96903, 174996, 175144, 143826, 52, 71561, 199902, 925, 93302, 168718, 18230, 196949, 167777, 9844, 191142, 28308, 93647, 146293, 74913, 151123, 19517, 55040, 928, 134735, 163523, 152691, 177716, 123311, 55648, 43805, 11784, 56899, 94940, 180263, 107929, 79072, 19575, 97, 41606, 155838, 169523, 114010, 149065, 30663, 56526, 54787, 2274, 113434, 83569, 105988, 50712, 47234, 147657, 15006, 160244, 160416, 164327, 195872, 182022, 168765, 7116, 96677, 141930, 21327, 76016, 15411, 26597, 185639, 144890, 174181, 192147, 130259, 42803, 170589, 17768, 154333, 181934, 179010, 167985, 124417, 167276, 16104, 26713, 93370, 141021, 199717, 152226, 205036, 112189, 138197, 117024, 168587, 811, 192283, 118749, 106030, 192093, 161334, 14561, 173687, 19128, 172312, 69710, 19, 72140, 124571, 42087, 205701, 106174, 112941, 194003, 149163, 127755, 112464, 125352, 17928, 27113, 156049, 38518, 166260, 205881, 38087, 101848, 29425, 16429, 62229, 45720, 77932, 105571, 104277, 179559, 169059, 146944, 29, 188414, 170764, 30, 125, 92305, 125564, 39, 9278, 3996, 107254, 104279, 4209, 54623, 51295, 126845, 199049, 67587, 159455, 68670, 23451, 176882, 104761, 127200, 64, 20484, 191574, 30100, 65224, 4963, 60843, 128006, 168815, 53853, 160652, 91598, 190892, 40870, 15461, 192977, 136011, 54788, 105740, 88925, 24110, 183209, 99401, 211, 175053, 168025, 131572, 112801, 110042, 193648, 29646, 22507, 202554, 56570, 31, 182695, 193463, 22060, 22686, 155691, 30350, 206689, 3942, 65744, 177197, 50697, 158795, 11521, 59743, 86772, 51199, 11542, 33368, 152642, 89846, 15449, 170362, 59100, 113442, 5929, 184509, 94777, 149925, 101697, 141357, 112204, 9440, 5282, 15012, 102329, 184510, 165951, 63849, 773, 62394, 30102, 202461, 139568, 205141, 47, 49517, 159531, 487, 193463, 42925, 197453, 48146, 46354, 138353, 23459, 125598, 170871, 186162, 113572, 44968, 188607, 14726, 521, 137076, 148119, 17230, 15006, 191871, 12592, 190552, 148586, 186988, 202453, 117368, 22060, 170625, 114668, 184715, 152677, 205179, 97081, 190457, 85342, 114597, 138597, 190457, 21807, 864, 204515, 99017, 39086, 62006, 32526, 133079, 96901, 109169, 35624, 88194, 109310, 187233, 137076, 9431, 70652, 78423, 14731, 7873, 45801, 108110, 41293, 58475, 22942, 107014, 131212, 165191, 203403, 86869, 160931, 166514, 133777, 43527, 145996, 139989, 53189, 161653, 164287, 18962, 147495, 79261, 527, 67385, 134732, 16695, 38610, 149065, 4596, 14430, 36553, 196788, 31980, 199901, 119553, 285, 70147, 150441, 51296, 11541, 47234, 113, 189796, 187929, 133303, 132183, 100401, 58230, 191057, 158571, 28090, 141002, 2332, 108612, 46352, 114805, 63216, 200574, 224, 123, 97402, 8379, 19126, 92449, 33411, 135716, 36776, 106495, 151293, 110784, 148867, 51196, 181279, 202385, 789, 139311, 152109, 95966, 166627, 29828, 93648, 28388, 9191, 155822, 84751, 154992, 163386, 135980, 64053, 187599, 215, 132520, 201288, 81493, 18246, 1979, 318, 114668, 126953, 29684, 185142, 167950, 5352, 105134, 52706, 59410, 130259, 203370, 58230, 182061, 134049, 179869, 186134, 2785, 57135, 79966, 184068, 174329, 35622, 108062, 161717, 5584, 181311, 73757, 61143, 68842, 405, 21728, 26864, 178, 128501, 178480, 135980, 18799, 71769, 401, 40386, 4220, 143575, 132137, 44820, 107704, 199361, 146985, 7653, 176781, 56901, 114684, 139095, 5005, 85603, 31545, 74961, 178185, 58629, 87461, 159142, 186134, 158334, 61924, 126845, 38812, 19308, 51996, 125961, 198471, 39088, 123799, 175393, 131356, 118933, 125239, 5352, 109699, 73703, 61632, 36891, 55940, 23458, 94820, 14738, 121267, 49933, 61386, 178353, 2877, 132505, 85047, 205974, 168398, 176547, 86449, 190967, 142514, 18145, 191158, 72876, 109733, 2651, 151979, 100343, 92749, 131202, 116765, 170251, 192605, 7285, 105133, 90709, 62348, 187266, 148597, 5687, 114528, 18225, 144408, 95, 149599, 76468, 52269, 127536, 130524, 182282, 96872, 109035, 137596, 117503, 11544, 5347, 1181, 192396, 24903, 126216, 89589, 171135, 102030, 74401, 172702, 88925, 114642, 128932, 597, 182138, 116483, 43197, 68419, 132547, 121303, 125901, 144561, 182624, 1025, 55656, 61675, 124034, 101893, 206871, 205556, 177857, 88769, 90486, 247, 4516, 65752, 18197, 198101, 110578, 65876, 179669, 119988, 193922, 126947, 156625, 3039, 54787, 121230, 14947, 63386, 140544, 122940, 92752, 104601, 153629, 39089, 146507, 85603, 138325, 187407, 111074, 10856, 109792, 87894, 81051, 110166, 98594, 51954, 93647, 45290, 117444, 128499, 98066, 175334, 1971, 168718, 45366, 199375, 92719, 4946, 156209, 13664, 53013, 140384, 205161, 187998, 85446, 167185, 142837, 205701, 39801, 124579, 8381, 119080, 111458, 75313, 190475, 38811, 190410, 116066, 190396, 32782, 161570, 117252, 3179, 163292, 83049, 26250, 11218, 167946, 168587, 39092, 76090, 196650, 203906, 30009, 160931, 183924, 201539, 40962, 39202, 136, 199293, 187264, 170242, 2936, 191661, 173372, 29651, 41285, 6982, 127668, 1730, 164875, 121969, 73216, 181535, 39350, 163322, 165754, 164127, 43726, 28090, 165422, 179567, 181431, 153159, 105589, 206626, 103588, 201295, 34203, 17769, 104281, 195176, 36147, 58815, 125059, 72411, 4464, 171585, 137102, 55051, 47688, 52897, 205997, 71561, 160265, 184748, 88326, 57700, 193644, 17919, 116793, 125707, 187674, 15455, 28799, 119396, 157963, 158571, 89393, 132110, 38792, 97438, 156121, 27962, 22161, 93068, 183028, 157324, 19886, 103734, 6329, 161645, 197088, 66793, 159548, 111152, 122449, 5338, 39349, 195663, 27961, 105137, 206146, 28831, 177299, 149187, 57808, 177299, 168873, 169523, 148405, 105853, 148485, 174902, 119977, 160243, 173098, 143792, 94825, 92901, 44746, 107011, 114536, 120734, 192400, 131372, 98422, 147, 119670, 82962, 38521, 38523, 46380, 144174, 18177, 170469, 110454, 67792, 97302, 39069, 30535, 41897, 60892, 7, 148178, 144436, 36182, 23697, 54623, 131736, 27092, 200365, 123689, 24580, 12602, 28743, 131339, 59907, 114533, 170810, 130408, 37182, 147203, 2807, 141332, 107726, 16992, 162648, 75936, 680, 149784, 2639, 87487, 82746, 29826, 487, 87544, 99018, 52620, 134672, 155300, 132137, 70, 6757, 49502, 183361, 176763, 16711, 2085, 8362, 5614, 50404, 185863, 65744, 51279, 28, 186409, 172452, 157622, 98439, 80502, 165798, 90647, 202370, 173176, 90268, 50359, 200287, 7818, 163816, 138681, 129450, 184772, 140991, 10189, 9844, 61136, 125372, 84908, 167595, 110983, 37161, 5778, 69787, 192400, 65879, 167963, 163519, 198754, 113442, 156771, 11779, 36148, 123392, 103815, 67570, 67178, 136729, 72561, 23064, 3848, 144212, 101588, 16708, 169973, 126668, 156463, 28152, 45164, 202270, 7940, 66246, 168262, 43313, 4840, 198841, 178420, 188192, 66466, 111854, 120044, 138503, 3714, 239, 559, 20376, 29711, 191521, 126848, 121950, 174556, 181395, 63509, 72410, 168873, 138531, 74032, 81016, 102835, 145029, 154065, 151363, 78248, 111594, 160527, 116430, 103815, 86087, 199369, 170073, 144302, 164327, 200899, 123816, 50375, 11118, 86219, 130241, 171449, 164235, 115198, 194523, 34528, 165543, 185035, 199646, 38619, 33702, 23355, 113831, 120657, 85573, 144909, 101696, 27568, 172702, 140742, 159686, 101848, 67570, 123909, 188242, 27363, 96486, 192775, 188242, 86155, 56627, 25510, 2287, 120828, 141612, 138, 48991, 117530, 108612, 10351, 165783, 120777, 43738, 183725, 8170, 190682, 19506, 108205, 138170, 29710, 56904, 3374, 111948, 60586, 126417, 122642, 101832, 63790, 47930, 45260, 125532, 161578, 122849, 105128, 13416, 36591, 10856, 122695, 181535, 205450, 147974, 172453, 143745, 81072, 171795, 151833, 76908, 196293, 169187, 128932, 122560, 72909, 164960, 42867, 71708, 118442, 53188, 181521, 146507, 189352, 141431, 198029, 178749, 23699, 203913, 67838, 160350, 159487, 24435, 125, 115634, 158915, 98849, 171303, 9690, 199293, 114298, 90647, 32759, 37159, 3166, 5, 24111, 1029, 205320, 128953, 187701, 113276, 23451, 125359, 2957, 148688, 30089, 193292, 44777, 83195, 28308, 96906, 88326, 66275, 141355, 98637, 38167, 70651, 81046, 140131, 204140, 168730, 89072, 25414, 192623, 68287, 74657, 181453, 162, 158337, 135948, 125901, 37158, 88111, 69374, 92662, 183635, 1859, 198139, 65161, 173082, 84906, 141332, 201582, 207242, 66583, 62485, 57316, 175053, 7395, 9466, 20205, 34825, 175238, 190245, 80824, 137560, 18225, 114648, 58892, 89065, 64179, 10201, 190614, 37712, 20908, 47792, 130408, 148531, 99501, 18623, 139007, 112949, 85442, 68670, 9848, 194315, 125475, 17920, 47198, 123873, 59914, 18095, 206001, 54634, 97715, 192315, 102269, 169267, 148616, 186009, 184814, 191393, 197609, 177599, 198332, 6791, 205888, 178353, 29423, 188647, 16103, 34543, 194496, 45290, 130624, 122386, 157037, 189816, 126854, 173962, 36237, 141930, 138353, 204658, 1874, 182196, 56311, 157152, 2, 62231, 100401, 183209, 147329, 17766, 151967, 183124, 205036, 144391, 34103, 168209, 555, 194478, 162073, 100388, 44822, 3057, 74446, 117387, 201234, 75508, 139, 29428, 120550, 39796, 2999, 19117, 104719, 38808, 113851, 20462, 124733, 30093, 166388, 655, 3914, 175408, 202920, 176156, 138056, 170810, 142341, 89191, 133781, 201219, 156324, 158543, 30292, 30102, 194315, 188816, 192156, 16103, 93205, 188488, 119727, 4503, 4596, 42269, 489, 50124, 117564, 69837, 84190, 83441, 331, 96902, 199436, 189755, 134252, 2610, 68702, 46011, 9849, 146400, 162575, 104537, 193208, 205138, 168107, 10493, 194629, 19129, 139089, 96065, 862, 154558, 103734, 3015, 53620, 36146, 191357, 49363, 100208, 162226, 147489, 143074, 148358, 108962, 57680, 163522, 39335, 153397, 108847, 57679, 103245, 52366, 43804, 94941, 72909, 67184, 129638, 179042, 188276, 9154, 153751, 141355, 127673, 189616, 162073, 51025, 171795, 89851, 139369, 4520, 76137, 102988, 62233, 86146, 13650, 5305, 144437, 52705, 110046, 70759, 52563, 5161, 201539, 53523, 27953, 77067, 65, 112158, 17608, 43932, 107015, 7345, 19315, 78740, 4618, 169098, 105690, 44654, 93032, 164327, 48778, 16216, 116541, 103674, 155126, 168778, 109675, 2151, 67034, 156049, 76795, 172970, 79796, 26909, 113851, 830, 118710, 119720, 172704, 66933, 12770, 136810, 87912, 183924, 145123, 12206, 57337, 130413, 29417, 107882, 106925, 86034, 191664, 180849, 69750, 101832, 73160, 108847, 201497, 165801, 112200, 120153, 145798, 94416, 205460, 13901, 33139, 454, 198139, 22716, 181868, 139820, 47225, 89753, 141612, 126617, 86377, 146515, 168587, 96240, 10039, 156028, 159628, 201590, 183474, 205271, 16451, 112801, 81401, 61818, 56474, 192461, 65224, 190522, 13809, 66688, 82509, 158339, 118153, 127894, 162559, 14063, 118189, 120575, 100595, 1124, 172157, 986, 50272, 112349, 148597, 104857, 163582, 4081, 108170, 122716, 49524, 17923, 59410, 201822, 12978, 139792, 36772, 145797, 129875, 7466, 102821, 1571, 89182, 5306, 698, 82544, 135507, 192374, 191491, 24591, 186766, 181875, 125708, 142839, 25062, 3945, 162929, 158455, 5343, 171135, 14676, 157283, 13665, 169184, 167785, 46623, 165537, 158000, 27962, 96024, 45162, 30341, 73729, 52178, 161578, 113440, 745, 136012, 10466, 182687, 36, 120118, 28742, 36042, 30603, 151835, 153899, 95583, 140277, 171228, 77742, 31808, 177233, 178841, 177116, 82508, 5030, 1684, 162320, 51887, 93549, 83424, 152103, 131589, 86811, 150532, 37, 123911, 44753, 8358, 33639, 16483, 60709, 89394, 67611, 12590, 19953, 5313, 9851, 101832, 20457, 146885, 63513, 207210, 59819, 12766, 172725, 44746, 112905, 1813, 65547, 195382, 148509, 78039, 135211, 94772, 49528, 193528, 203364, 44821, 67034, 31668, 77487, 183474, 53187, 177727, 122438, 83958, 43, 41444, 28146, 201938, 21327, 162373, 22267, 8, 132398, 191338, 10441, 166488, 172752, 128966, 148724, 187969, 53, 184733, 130924, 74759, 47230, 168587, 74304, 120826, 40065, 162228, 198810, 140291, 28294, 186006, 82544, 77159, 32756, 167489, 90681, 91753, 158795, 81784, 157806, 838, 48250, 144214, 144740, 127199, 105133, 7724, 85637, 147328, 78683, 1994, 134732, 137689, 126417, 142268, 40962, 205997, 158276, 132282, 203395, 144391, 202422, 33361, 61180, 45398, 148010, 180938, 26986, 172330, 68366, 149900, 179059, 20909, 150239, 54185, 152173, 37159, 35035, 59911, 186739, 31771, 10852, 28990, 21328, 6073, 78387, 171317, 192682, 80685, 200971, 70138, 106972, 144214, 155561, 133891, 170357, 99156, 14528, 48981, 9841, 112464, 184978, 166469, 96748, 93648, 39805, 53563, 67808, 50513, 0, 194650, 25415, 18197, 126845, 27824, 199700, 108114, 39979, 54796, 73445, 85929, 576, 161040, 28563, 199487, 182132, 130719, 137931, 40065, 202043, 148858, 206061, 109532, 127634, 65052, 94289, 86146, 12978, 192255, 155296, 96552, 91803, 137739, 139125, 67182, 196345, 96, 59235, 66461, 7718, 182425, 137682, 13666, 148615, 45550, 61011, 179943, 91801, 42721, 138353, 4842, 105690, 23923, 67302, 11104, 121767, 200821, 59649, 1166, 62824, 1263, 181128, 138008, 108089, 143031, 1207, 28806, 36443, 64601, 203381, 37528, 12642, 204430, 201295, 51076, 139753, 201497, 6329, 15104, 146517, 183184, 161111, 53188, 103243, 150441, 153899, 117260, 106210, 114536, 41606, 115669, 45970, 8859, 89184, 46770, 31582, 38252, 74574, 124132, 94490, 9462, 169267, 82420, 121445, 150061, 102834, 156210, 142339, 6827, 130, 20101, 43313, 132847, 94612, 151154, 172835, 89853, 125540, 147203, 64603, 12796, 100094, 147316, 20526, 191661, 28, 94041, 190529, 41012, 49497, 35173, 182891, 33068, 95004, 142269, 45377, 54631, 168262, 150242, 699, 186919, 69172, 124751, 93648, 189227, 121143, 191664, 60596, 163832, 142278, 170420, 71775, 183120, 147694, 81789, 8883, 150418, 58815, 3179, 129856, 5299, 72565, 98279, 35278, 51076, 114106, 78740, 36843, 119365, 41596, 186443, 18230, 6893, 96240, 157914, 497, 181823, 70483, 71766, 134391, 184974, 199153, 27314, 32583, 130059, 132847, 156023, 853, 161933, 197095, 41016, 2751, 203364, 18801, 97687, 162580, 156385, 194190, 95276, 203646, 191132, 51267, 26864, 131572, 31532, 19130, 126182, 161681, 170690, 177599, 76140, 10509, 53782, 16164, 131339, 141447, 70654, 49363, 155102, 71782, 61630, 187779, 172400, 36404, 163606, 527, 48839, 20911, 138574, 112071, 69000, 159073, 113692, 203175, 145493, 106021, 82570, 150114, 192156, 112630, 135662, 25764, 166153, 108847, 5161, 182523, 154073, 28319, 207052, 101264, 151683, 73, 106625, 154232, 78039, 76966, 88239, 81258, 96904, 50123, 137115, 110629, 793, 59260, 26989, 53854, 62483, 162194, 118749, 178954, 13943, 99155, 326, 206604, 34909, 110892, 180185, 61379, 74874, 19308, 94467, 137446, 186924, 158339, 136354, 103243, 149272, 181136, 72061]\n"
     ]
    }
   ],
   "source": [
    "ids = []\n",
    "for ix, row in res.iterrows():\n",
    "    try:\n",
    "        ids.append(gr[gr.rev_str.str.contains(row.sent)].index[0])\n",
    "    except:\n",
    "        pass\n",
    "\n",
    "print(ids)"
   ]
  },
  {
   "cell_type": "code",
   "execution_count": 78,
   "id": "52e572b8",
   "metadata": {},
   "outputs": [],
   "source": [
    "gr['rev_str'] = gr.review_sentences.apply(str)"
   ]
  },
  {
   "cell_type": "code",
   "execution_count": 84,
   "id": "7a5b82fd",
   "metadata": {},
   "outputs": [
    {
     "data": {
      "text/plain": [
       "'[[0, \\'Essential reading for anyone serious about mysteries or hard-boiled crime fiction.\\'], [0, \\'Hammett is the grandfather of the hard-bitten private detective.\\'], [0, \\'While his Continental Op was the prototype for this kind of protagonist, Sam Spade is at the root of this now-large family tree, and The Maltese Falcon is his iconic case.\\'], [0, \\'Expect sharp dialog, vivid characters and a voice that speaks with the tone of cigarettes and gin at three in the morning.\\'], [0, \"If you\\'ve seen John Huston\\'s 1941 film version of this story, you\\'ll be amazed how little had to be changed for the screen; Hammett\\'s prose, though of its time, is already cinematic.\"]]'"
      ]
     },
     "execution_count": 84,
     "metadata": {},
     "output_type": "execute_result"
    }
   ],
   "source": [
    "gr.rev_str.iloc[0]"
   ]
  },
  {
   "cell_type": "code",
   "execution_count": 90,
   "id": "eb63e857",
   "metadata": {},
   "outputs": [
    {
     "data": {
      "text/plain": [
       "13801"
      ]
     },
     "execution_count": 90,
     "metadata": {},
     "output_type": "execute_result"
    }
   ],
   "source": [
    "len(ids)"
   ]
  },
  {
   "cell_type": "code",
   "execution_count": 91,
   "id": "a43ffac7",
   "metadata": {},
   "outputs": [],
   "source": [
    "gr = gr[gr.index.isin(ids)]"
   ]
  },
  {
   "cell_type": "code",
   "execution_count": 92,
   "id": "b6d4bec6",
   "metadata": {},
   "outputs": [
    {
     "data": {
      "text/plain": [
       "(8844, 9)"
      ]
     },
     "execution_count": 92,
     "metadata": {},
     "output_type": "execute_result"
    }
   ],
   "source": [
    "gr.shape"
   ]
  },
  {
   "cell_type": "code",
   "execution_count": 94,
   "id": "c543ec81",
   "metadata": {},
   "outputs": [
    {
     "data": {
      "text/plain": [
       "False    7901\n",
       "True      943\n",
       "Name: has_spoiler, dtype: int64"
      ]
     },
     "execution_count": 94,
     "metadata": {},
     "output_type": "execute_result"
    }
   ],
   "source": [
    "gr.has_spoiler.value_counts()"
   ]
  },
  {
   "cell_type": "code",
   "execution_count": 108,
   "id": "44aeda42",
   "metadata": {},
   "outputs": [
    {
     "name": "stdout",
     "output_type": "stream",
     "text": [
      "0\n"
     ]
    },
    {
     "name": "stderr",
     "output_type": "stream",
     "text": [
      "C:\\Users\\wojtek\\AppData\\Local\\Temp/ipykernel_10056/2207956618.py:6: UserWarning: This pattern has match groups. To actually get the groups, use str.extract.\n",
      "  mrow = gr[gr.rev_str.str.contains(row.sent)]\n"
     ]
    },
    {
     "name": "stdout",
     "output_type": "stream",
     "text": [
      "100\n",
      "200\n",
      "300\n",
      "400\n",
      "500\n",
      "600\n",
      "700\n",
      "800\n",
      "900\n",
      "1000\n",
      "1100\n"
     ]
    },
    {
     "name": "stderr",
     "output_type": "stream",
     "text": [
      "C:\\Users\\wojtek\\anaconda3\\lib\\site-packages\\pandas\\core\\strings\\accessor.py:1153: FutureWarning: Possible set difference at position 11\n",
      "  if regex and re.compile(pat).groups:\n"
     ]
    },
    {
     "name": "stdout",
     "output_type": "stream",
     "text": [
      "1200\n",
      "1300\n",
      "1400\n",
      "1500\n",
      "1600\n",
      "1700\n",
      "1800\n",
      "1900\n",
      "2000\n",
      "2100\n",
      "2200\n",
      "2300\n",
      "2400\n",
      "2500\n",
      "2600\n",
      "2700\n",
      "2800\n",
      "2900\n",
      "3000\n",
      "3100\n",
      "3200\n",
      "3300\n",
      "3400\n",
      "3500\n",
      "3600\n",
      "3700\n",
      "3800\n",
      "3900\n",
      "4000\n",
      "4100\n",
      "4200\n",
      "4300\n",
      "4400\n",
      "4500\n",
      "4600\n",
      "4700\n",
      "4800\n",
      "4900\n",
      "5000\n",
      "5100\n",
      "5200\n",
      "5300\n",
      "5400\n",
      "5500\n",
      "5600\n",
      "5700\n",
      "5800\n",
      "5900\n",
      "6000\n",
      "6100\n",
      "6200\n",
      "6300\n",
      "6400\n",
      "6500\n",
      "6600\n",
      "6700\n",
      "6800\n",
      "6900\n",
      "7000\n",
      "7100\n",
      "7200\n",
      "7300\n",
      "7400\n",
      "7500\n",
      "7600\n",
      "7700\n",
      "7800\n",
      "7900\n",
      "8000\n",
      "8100\n",
      "8200\n",
      "8300\n",
      "8400\n",
      "8500\n",
      "8600\n",
      "8700\n",
      "8800\n",
      "8900\n",
      "9000\n",
      "9100\n",
      "9200\n",
      "9300\n",
      "9400\n",
      "9500\n",
      "9600\n",
      "9700\n",
      "9800\n",
      "9900\n",
      "10000\n",
      "10100\n",
      "10200\n",
      "10300\n",
      "10400\n",
      "10500\n",
      "10600\n",
      "10700\n",
      "10800\n",
      "10900\n",
      "11000\n",
      "11100\n",
      "11200\n",
      "11300\n",
      "11400\n",
      "11500\n",
      "11600\n",
      "11700\n",
      "11800\n",
      "11900\n",
      "12000\n",
      "12100\n",
      "12200\n",
      "12300\n",
      "12400\n",
      "12500\n",
      "12600\n",
      "12700\n",
      "12800\n",
      "12900\n",
      "13000\n",
      "13100\n",
      "13200\n",
      "13300\n",
      "13400\n",
      "13500\n",
      "13600\n",
      "13700\n",
      "13800\n",
      "13900\n",
      "14000\n",
      "14100\n",
      "14200\n",
      "14300\n",
      "14400\n",
      "14500\n",
      "14600\n",
      "14700\n",
      "14800\n",
      "14900\n",
      "15000\n"
     ]
    }
   ],
   "source": [
    "probs = []\n",
    "true_vals = []\n",
    "revs = []\n",
    "for ix, row in res.iterrows():\n",
    "    try:\n",
    "        mrow = gr[gr.rev_str.str.contains(row.sent)]\n",
    "        true_vals.append(int(mrow.has_spoiler.values[0]))\n",
    "        revs.append(mrow.review_id.values[0])\n",
    "        probs.append(float(row.pred_prob.split('[')[1].split(']')[0]))\n",
    "    except:\n",
    "        pass\n",
    "    if ix % 100 == 0:\n",
    "        print(ix)"
   ]
  },
  {
   "cell_type": "code",
   "execution_count": 110,
   "id": "2ce794ad",
   "metadata": {},
   "outputs": [
    {
     "data": {
      "text/html": [
       "<div>\n",
       "<style scoped>\n",
       "    .dataframe tbody tr th:only-of-type {\n",
       "        vertical-align: middle;\n",
       "    }\n",
       "\n",
       "    .dataframe tbody tr th {\n",
       "        vertical-align: top;\n",
       "    }\n",
       "\n",
       "    .dataframe thead th {\n",
       "        text-align: right;\n",
       "    }\n",
       "</style>\n",
       "<table border=\"1\" class=\"dataframe\">\n",
       "  <thead>\n",
       "    <tr style=\"text-align: right;\">\n",
       "      <th></th>\n",
       "      <th>has_spoiler</th>\n",
       "      <th>rev</th>\n",
       "      <th>prob</th>\n",
       "    </tr>\n",
       "  </thead>\n",
       "  <tbody>\n",
       "    <tr>\n",
       "      <th>0</th>\n",
       "      <td>0</td>\n",
       "      <td>b22fb34039e0e561a053f498fd7dc899</td>\n",
       "      <td>-7.0706</td>\n",
       "    </tr>\n",
       "    <tr>\n",
       "      <th>1</th>\n",
       "      <td>0</td>\n",
       "      <td>64fb993f1958f22a3590fde09ddc0b04</td>\n",
       "      <td>-7.4107</td>\n",
       "    </tr>\n",
       "    <tr>\n",
       "      <th>2</th>\n",
       "      <td>0</td>\n",
       "      <td>d879f0562dd2fe7ac7afc2d6c8184b24</td>\n",
       "      <td>-7.8571</td>\n",
       "    </tr>\n",
       "    <tr>\n",
       "      <th>3</th>\n",
       "      <td>0</td>\n",
       "      <td>3dac84e029f7e361301ed2985f51f6bd</td>\n",
       "      <td>-7.8387</td>\n",
       "    </tr>\n",
       "    <tr>\n",
       "      <th>4</th>\n",
       "      <td>0</td>\n",
       "      <td>54a6f62a3c920f74d37a3b0a16d8f5cf</td>\n",
       "      <td>-7.8722</td>\n",
       "    </tr>\n",
       "  </tbody>\n",
       "</table>\n",
       "</div>"
      ],
      "text/plain": [
       "   has_spoiler                               rev    prob\n",
       "0            0  b22fb34039e0e561a053f498fd7dc899 -7.0706\n",
       "1            0  64fb993f1958f22a3590fde09ddc0b04 -7.4107\n",
       "2            0  d879f0562dd2fe7ac7afc2d6c8184b24 -7.8571\n",
       "3            0  3dac84e029f7e361301ed2985f51f6bd -7.8387\n",
       "4            0  54a6f62a3c920f74d37a3b0a16d8f5cf -7.8722"
      ]
     },
     "execution_count": 110,
     "metadata": {},
     "output_type": "execute_result"
    }
   ],
   "source": [
    "df = pd.DataFrame(list(zip(true_vals, revs, probs)), \n",
    "               columns =['has_spoiler', 'rev', 'prob'])\n",
    "\n",
    "df.head()"
   ]
  },
  {
   "cell_type": "code",
   "execution_count": 111,
   "id": "2c06aa98",
   "metadata": {},
   "outputs": [
    {
     "data": {
      "text/html": [
       "<div>\n",
       "<style scoped>\n",
       "    .dataframe tbody tr th:only-of-type {\n",
       "        vertical-align: middle;\n",
       "    }\n",
       "\n",
       "    .dataframe tbody tr th {\n",
       "        vertical-align: top;\n",
       "    }\n",
       "\n",
       "    .dataframe thead th {\n",
       "        text-align: right;\n",
       "    }\n",
       "</style>\n",
       "<table border=\"1\" class=\"dataframe\">\n",
       "  <thead>\n",
       "    <tr style=\"text-align: right;\">\n",
       "      <th></th>\n",
       "      <th>has_spoiler</th>\n",
       "      <th>prob</th>\n",
       "    </tr>\n",
       "    <tr>\n",
       "      <th>rev</th>\n",
       "      <th></th>\n",
       "      <th></th>\n",
       "    </tr>\n",
       "  </thead>\n",
       "  <tbody>\n",
       "    <tr>\n",
       "      <th>0004e3df1979375be29181845d5c2773</th>\n",
       "      <td>0</td>\n",
       "      <td>-7.8367</td>\n",
       "    </tr>\n",
       "    <tr>\n",
       "      <th>00050bd196fa8c8d8b17864926c1e9aa</th>\n",
       "      <td>0</td>\n",
       "      <td>-6.5049</td>\n",
       "    </tr>\n",
       "    <tr>\n",
       "      <th>0007c4c78fa3b36ae722c7f813d573f2</th>\n",
       "      <td>0</td>\n",
       "      <td>-5.2573</td>\n",
       "    </tr>\n",
       "    <tr>\n",
       "      <th>000f9b17e8dfc8da12c4c4c81377ee6d</th>\n",
       "      <td>0</td>\n",
       "      <td>-7.3083</td>\n",
       "    </tr>\n",
       "    <tr>\n",
       "      <th>001de285e465ac926844f11aeb09db91</th>\n",
       "      <td>1</td>\n",
       "      <td>-5.1494</td>\n",
       "    </tr>\n",
       "    <tr>\n",
       "      <th>...</th>\n",
       "      <td>...</td>\n",
       "      <td>...</td>\n",
       "    </tr>\n",
       "    <tr>\n",
       "      <th>ffcc6a95c2680f6e23cff3847739f45d</th>\n",
       "      <td>0</td>\n",
       "      <td>-7.8904</td>\n",
       "    </tr>\n",
       "    <tr>\n",
       "      <th>ffd9b7f2cf49afb1d52ad178817bbd50</th>\n",
       "      <td>1</td>\n",
       "      <td>-1.8805</td>\n",
       "    </tr>\n",
       "    <tr>\n",
       "      <th>ffe53894804ddd9f5d5bc747b885b3a2</th>\n",
       "      <td>0</td>\n",
       "      <td>-4.4201</td>\n",
       "    </tr>\n",
       "    <tr>\n",
       "      <th>ffee497d52fc633d791050e9c2ca389c</th>\n",
       "      <td>0</td>\n",
       "      <td>-7.6895</td>\n",
       "    </tr>\n",
       "    <tr>\n",
       "      <th>fff87ffa8cd6224b27ca7a6081ff291f</th>\n",
       "      <td>1</td>\n",
       "      <td>-7.6418</td>\n",
       "    </tr>\n",
       "  </tbody>\n",
       "</table>\n",
       "<p>8844 rows × 2 columns</p>\n",
       "</div>"
      ],
      "text/plain": [
       "                                  has_spoiler    prob\n",
       "rev                                                  \n",
       "0004e3df1979375be29181845d5c2773            0 -7.8367\n",
       "00050bd196fa8c8d8b17864926c1e9aa            0 -6.5049\n",
       "0007c4c78fa3b36ae722c7f813d573f2            0 -5.2573\n",
       "000f9b17e8dfc8da12c4c4c81377ee6d            0 -7.3083\n",
       "001de285e465ac926844f11aeb09db91            1 -5.1494\n",
       "...                                       ...     ...\n",
       "ffcc6a95c2680f6e23cff3847739f45d            0 -7.8904\n",
       "ffd9b7f2cf49afb1d52ad178817bbd50            1 -1.8805\n",
       "ffe53894804ddd9f5d5bc747b885b3a2            0 -4.4201\n",
       "ffee497d52fc633d791050e9c2ca389c            0 -7.6895\n",
       "fff87ffa8cd6224b27ca7a6081ff291f            1 -7.6418\n",
       "\n",
       "[8844 rows x 2 columns]"
      ]
     },
     "execution_count": 111,
     "metadata": {},
     "output_type": "execute_result"
    }
   ],
   "source": [
    "gr_df = df.groupby('rev').max()\n",
    "gr_df"
   ]
  },
  {
   "cell_type": "code",
   "execution_count": 112,
   "id": "7568f3c4",
   "metadata": {},
   "outputs": [
    {
     "data": {
      "text/plain": [
       "0.760689647859923"
      ]
     },
     "execution_count": 112,
     "metadata": {},
     "output_type": "execute_result"
    }
   ],
   "source": [
    "roc_auc_score(gr_df.has_spoiler, gr_df.prob)"
   ]
  },
  {
   "cell_type": "code",
   "execution_count": 114,
   "id": "d74f8e78",
   "metadata": {},
   "outputs": [
    {
     "data": {
      "text/plain": [
       "0    7901\n",
       "1     943\n",
       "Name: has_spoiler, dtype: int64"
      ]
     },
     "execution_count": 114,
     "metadata": {},
     "output_type": "execute_result"
    }
   ],
   "source": [
    "gr_df.has_spoiler.value_counts()"
   ]
  },
  {
   "cell_type": "code",
   "execution_count": 115,
   "id": "de20c58d",
   "metadata": {},
   "outputs": [
    {
     "data": {
      "text/html": [
       "<div>\n",
       "<style scoped>\n",
       "    .dataframe tbody tr th:only-of-type {\n",
       "        vertical-align: middle;\n",
       "    }\n",
       "\n",
       "    .dataframe tbody tr th {\n",
       "        vertical-align: top;\n",
       "    }\n",
       "\n",
       "    .dataframe thead th {\n",
       "        text-align: right;\n",
       "    }\n",
       "</style>\n",
       "<table border=\"1\" class=\"dataframe\">\n",
       "  <thead>\n",
       "    <tr style=\"text-align: right;\">\n",
       "      <th></th>\n",
       "      <th>has_spoiler</th>\n",
       "      <th>prob</th>\n",
       "    </tr>\n",
       "    <tr>\n",
       "      <th>rev</th>\n",
       "      <th></th>\n",
       "      <th></th>\n",
       "    </tr>\n",
       "  </thead>\n",
       "  <tbody>\n",
       "    <tr>\n",
       "      <th>009783e8133ab0b4783172c451d66a3f</th>\n",
       "      <td>1</td>\n",
       "      <td>3.0063</td>\n",
       "    </tr>\n",
       "    <tr>\n",
       "      <th>0231a329c277654fa179a97455628a97</th>\n",
       "      <td>0</td>\n",
       "      <td>3.1073</td>\n",
       "    </tr>\n",
       "    <tr>\n",
       "      <th>030c8a6820065f4c68e70327ea9b3df2</th>\n",
       "      <td>1</td>\n",
       "      <td>3.3629</td>\n",
       "    </tr>\n",
       "    <tr>\n",
       "      <th>03c815a082ebfd4a3a9a75eec5954714</th>\n",
       "      <td>1</td>\n",
       "      <td>3.4777</td>\n",
       "    </tr>\n",
       "    <tr>\n",
       "      <th>046964f237e07fc5bd5643cadf687453</th>\n",
       "      <td>1</td>\n",
       "      <td>3.1913</td>\n",
       "    </tr>\n",
       "    <tr>\n",
       "      <th>...</th>\n",
       "      <td>...</td>\n",
       "      <td>...</td>\n",
       "    </tr>\n",
       "    <tr>\n",
       "      <th>f6e2c4498b05865ae38402b3fcdf90cf</th>\n",
       "      <td>1</td>\n",
       "      <td>1.6505</td>\n",
       "    </tr>\n",
       "    <tr>\n",
       "      <th>f70d2650191349769029cba86fc10350</th>\n",
       "      <td>1</td>\n",
       "      <td>3.1758</td>\n",
       "    </tr>\n",
       "    <tr>\n",
       "      <th>f7964967a2b90f67e0fc8d75c22eedc2</th>\n",
       "      <td>1</td>\n",
       "      <td>0.1532</td>\n",
       "    </tr>\n",
       "    <tr>\n",
       "      <th>f8cd7aeed32c5ae0f9ed0a0b705784a1</th>\n",
       "      <td>1</td>\n",
       "      <td>2.6720</td>\n",
       "    </tr>\n",
       "    <tr>\n",
       "      <th>fa24d4ac8986f9a7ac81d5cb75519bdf</th>\n",
       "      <td>1</td>\n",
       "      <td>2.8331</td>\n",
       "    </tr>\n",
       "  </tbody>\n",
       "</table>\n",
       "<p>180 rows × 2 columns</p>\n",
       "</div>"
      ],
      "text/plain": [
       "                                  has_spoiler    prob\n",
       "rev                                                  \n",
       "009783e8133ab0b4783172c451d66a3f            1  3.0063\n",
       "0231a329c277654fa179a97455628a97            0  3.1073\n",
       "030c8a6820065f4c68e70327ea9b3df2            1  3.3629\n",
       "03c815a082ebfd4a3a9a75eec5954714            1  3.4777\n",
       "046964f237e07fc5bd5643cadf687453            1  3.1913\n",
       "...                                       ...     ...\n",
       "f6e2c4498b05865ae38402b3fcdf90cf            1  1.6505\n",
       "f70d2650191349769029cba86fc10350            1  3.1758\n",
       "f7964967a2b90f67e0fc8d75c22eedc2            1  0.1532\n",
       "f8cd7aeed32c5ae0f9ed0a0b705784a1            1  2.6720\n",
       "fa24d4ac8986f9a7ac81d5cb75519bdf            1  2.8331\n",
       "\n",
       "[180 rows x 2 columns]"
      ]
     },
     "execution_count": 115,
     "metadata": {},
     "output_type": "execute_result"
    }
   ],
   "source": [
    "gr_df[gr_df.prob >= 0]"
   ]
  },
  {
   "cell_type": "code",
   "execution_count": null,
   "id": "c9ccf2e7",
   "metadata": {},
   "outputs": [],
   "source": []
  }
 ],
 "metadata": {
  "kernelspec": {
   "display_name": "Python 3 (ipykernel)",
   "language": "python",
   "name": "python3"
  },
  "language_info": {
   "codemirror_mode": {
    "name": "ipython",
    "version": 3
   },
   "file_extension": ".py",
   "mimetype": "text/x-python",
   "name": "python",
   "nbconvert_exporter": "python",
   "pygments_lexer": "ipython3",
   "version": "3.8.10"
  }
 },
 "nbformat": 4,
 "nbformat_minor": 5
}
