{
 "cells": [
  {
   "cell_type": "code",
   "execution_count": 94,
   "id": "f3d9f037",
   "metadata": {},
   "outputs": [],
   "source": [
    "import pandas as pd\n",
    "import numpy as np\n",
    "from sklearn.feature_extraction.text import CountVectorizer, TfidfTransformer\n",
    "from sklearn.naive_bayes import MultinomialNB\n",
    "from sklearn.model_selection import train_test_split\n",
    "from sklearn.metrics import roc_auc_score\n",
    "import tqdm.notebook as tq"
   ]
  },
  {
   "cell_type": "markdown",
   "id": "e71a1976",
   "metadata": {},
   "source": [
    "# Adding book title to each review"
   ]
  },
  {
   "cell_type": "code",
   "execution_count": 3,
   "id": "4e20341a",
   "metadata": {},
   "outputs": [
    {
     "data": {
      "text/plain": [
       "((275607, 7), (2360655, 3))"
      ]
     },
     "execution_count": 3,
     "metadata": {},
     "output_type": "execute_result"
    }
   ],
   "source": [
    "rev = pd.read_pickle('csc2515-project-main/csc2515-project-main/data/goodreads.pkl')\n",
    "books = pd.read_csv('csc2515-project-main/csc2515-project-main/data/goodreads_book_info.csv')\n",
    "\n",
    "rev.shape, books.shape"
   ]
  },
  {
   "cell_type": "code",
   "execution_count": 4,
   "id": "a402d6f9",
   "metadata": {},
   "outputs": [
    {
     "data": {
      "text/html": [
       "<div>\n",
       "<style scoped>\n",
       "    .dataframe tbody tr th:only-of-type {\n",
       "        vertical-align: middle;\n",
       "    }\n",
       "\n",
       "    .dataframe tbody tr th {\n",
       "        vertical-align: top;\n",
       "    }\n",
       "\n",
       "    .dataframe thead th {\n",
       "        text-align: right;\n",
       "    }\n",
       "</style>\n",
       "<table border=\"1\" class=\"dataframe\">\n",
       "  <thead>\n",
       "    <tr style=\"text-align: right;\">\n",
       "      <th></th>\n",
       "      <th>user_id</th>\n",
       "      <th>timestamp</th>\n",
       "      <th>review_sentences</th>\n",
       "      <th>rating</th>\n",
       "      <th>has_spoiler</th>\n",
       "      <th>book_id</th>\n",
       "      <th>review_id</th>\n",
       "    </tr>\n",
       "  </thead>\n",
       "  <tbody>\n",
       "    <tr>\n",
       "      <th>0</th>\n",
       "      <td>5b78fd996dd2af3e863bec412a410512</td>\n",
       "      <td>2012-01-02</td>\n",
       "      <td>[[0, Essential reading for anyone serious abou...</td>\n",
       "      <td>5</td>\n",
       "      <td>False</td>\n",
       "      <td>29999</td>\n",
       "      <td>ad2bf9e7e72997ec053fe9d666a76240</td>\n",
       "    </tr>\n",
       "    <tr>\n",
       "      <th>1</th>\n",
       "      <td>e21627c07b1c16a64b1d55afb0801cd3</td>\n",
       "      <td>2015-12-22</td>\n",
       "      <td>[[0, Very informative.], [0, I feel like this ...</td>\n",
       "      <td>3</td>\n",
       "      <td>False</td>\n",
       "      <td>6882274</td>\n",
       "      <td>a0ce4c9e8a6e644d90851330494615e4</td>\n",
       "    </tr>\n",
       "    <tr>\n",
       "      <th>2</th>\n",
       "      <td>40272245ceb3404a973ab053f636dcf8</td>\n",
       "      <td>2016-02-29</td>\n",
       "      <td>[[0, Really 4.4 stars - but goodreads only let...</td>\n",
       "      <td>4</td>\n",
       "      <td>False</td>\n",
       "      <td>17565845</td>\n",
       "      <td>78c8562226c80c7b7ca89afffa2c17dc</td>\n",
       "    </tr>\n",
       "    <tr>\n",
       "      <th>3</th>\n",
       "      <td>788c16647e9ba6f337a76f51b92cadc9</td>\n",
       "      <td>2013-08-23</td>\n",
       "      <td>[[0, This was on my wish list a long time ago,...</td>\n",
       "      <td>1</td>\n",
       "      <td>False</td>\n",
       "      <td>9681214</td>\n",
       "      <td>6e7a6c60e7cdca91430dfb6113ad50b3</td>\n",
       "    </tr>\n",
       "    <tr>\n",
       "      <th>4</th>\n",
       "      <td>60ba13d8c742b84b2ec2445d9e04afe6</td>\n",
       "      <td>2013-11-23</td>\n",
       "      <td>[[0, I loved this book!!], [0, When I first he...</td>\n",
       "      <td>5</td>\n",
       "      <td>True</td>\n",
       "      <td>11614718</td>\n",
       "      <td>2abcd2f0c63ea8de00024f7f22e167d4</td>\n",
       "    </tr>\n",
       "  </tbody>\n",
       "</table>\n",
       "</div>"
      ],
      "text/plain": [
       "                            user_id   timestamp  \\\n",
       "0  5b78fd996dd2af3e863bec412a410512  2012-01-02   \n",
       "1  e21627c07b1c16a64b1d55afb0801cd3  2015-12-22   \n",
       "2  40272245ceb3404a973ab053f636dcf8  2016-02-29   \n",
       "3  788c16647e9ba6f337a76f51b92cadc9  2013-08-23   \n",
       "4  60ba13d8c742b84b2ec2445d9e04afe6  2013-11-23   \n",
       "\n",
       "                                    review_sentences  rating  has_spoiler  \\\n",
       "0  [[0, Essential reading for anyone serious abou...       5        False   \n",
       "1  [[0, Very informative.], [0, I feel like this ...       3        False   \n",
       "2  [[0, Really 4.4 stars - but goodreads only let...       4        False   \n",
       "3  [[0, This was on my wish list a long time ago,...       1        False   \n",
       "4  [[0, I loved this book!!], [0, When I first he...       5         True   \n",
       "\n",
       "    book_id                         review_id  \n",
       "0     29999  ad2bf9e7e72997ec053fe9d666a76240  \n",
       "1   6882274  a0ce4c9e8a6e644d90851330494615e4  \n",
       "2  17565845  78c8562226c80c7b7ca89afffa2c17dc  \n",
       "3   9681214  6e7a6c60e7cdca91430dfb6113ad50b3  \n",
       "4  11614718  2abcd2f0c63ea8de00024f7f22e167d4  "
      ]
     },
     "execution_count": 4,
     "metadata": {},
     "output_type": "execute_result"
    }
   ],
   "source": [
    "rev.head()"
   ]
  },
  {
   "cell_type": "code",
   "execution_count": 34,
   "id": "d6d22251",
   "metadata": {},
   "outputs": [
    {
     "data": {
      "text/html": [
       "<div>\n",
       "<style scoped>\n",
       "    .dataframe tbody tr th:only-of-type {\n",
       "        vertical-align: middle;\n",
       "    }\n",
       "\n",
       "    .dataframe tbody tr th {\n",
       "        vertical-align: top;\n",
       "    }\n",
       "\n",
       "    .dataframe thead th {\n",
       "        text-align: right;\n",
       "    }\n",
       "</style>\n",
       "<table border=\"1\" class=\"dataframe\">\n",
       "  <thead>\n",
       "    <tr style=\"text-align: right;\">\n",
       "      <th></th>\n",
       "      <th>description</th>\n",
       "      <th>book_id</th>\n",
       "      <th>title</th>\n",
       "      <th>reviews</th>\n",
       "    </tr>\n",
       "  </thead>\n",
       "  <tbody>\n",
       "    <tr>\n",
       "      <th>115</th>\n",
       "      <td>The future world is at peace.\\nElla Shepherd h...</td>\n",
       "      <td>22642971</td>\n",
       "      <td>The Body Electric</td>\n",
       "      <td>Oooh this is coming on my birthday. PERFECT BI...</td>\n",
       "    </tr>\n",
       "    <tr>\n",
       "      <th>282</th>\n",
       "      <td>Ready or not...love will find a way \\nSingle d...</td>\n",
       "      <td>32336119</td>\n",
       "      <td>Worth the Wait (Guthrie Brothers #2)</td>\n",
       "      <td>I love small town romances. A place where ever...</td>\n",
       "    </tr>\n",
       "    <tr>\n",
       "      <th>367</th>\n",
       "      <td>This is Maddy Turner's lucky day. The civilize...</td>\n",
       "      <td>2741853</td>\n",
       "      <td>Slow Hands</td>\n",
       "      <td>Cute story, if a little predictable. For a FRE...</td>\n",
       "    </tr>\n",
       "    <tr>\n",
       "      <th>376</th>\n",
       "      <td>A classic work of science fiction by renowned ...</td>\n",
       "      <td>12077902</td>\n",
       "      <td>Solaris: The Definitive Edition</td>\n",
       "      <td>Having been confused by both movie versions of...</td>\n",
       "    </tr>\n",
       "    <tr>\n",
       "      <th>383</th>\n",
       "      <td>After a series of explosive encounters with tw...</td>\n",
       "      <td>7843586</td>\n",
       "      <td>More (More, #1)</td>\n",
       "      <td>A new favorite author! This is going into my f...</td>\n",
       "    </tr>\n",
       "  </tbody>\n",
       "</table>\n",
       "</div>"
      ],
      "text/plain": [
       "                                           description   book_id  \\\n",
       "115  The future world is at peace.\\nElla Shepherd h...  22642971   \n",
       "282  Ready or not...love will find a way \\nSingle d...  32336119   \n",
       "367  This is Maddy Turner's lucky day. The civilize...   2741853   \n",
       "376  A classic work of science fiction by renowned ...  12077902   \n",
       "383  After a series of explosive encounters with tw...   7843586   \n",
       "\n",
       "                                    title  \\\n",
       "115                     The Body Electric   \n",
       "282  Worth the Wait (Guthrie Brothers #2)   \n",
       "367                            Slow Hands   \n",
       "376       Solaris: The Definitive Edition   \n",
       "383                       More (More, #1)   \n",
       "\n",
       "                                               reviews  \n",
       "115  Oooh this is coming on my birthday. PERFECT BI...  \n",
       "282  I love small town romances. A place where ever...  \n",
       "367  Cute story, if a little predictable. For a FRE...  \n",
       "376  Having been confused by both movie versions of...  \n",
       "383  A new favorite author! This is going into my f...  "
      ]
     },
     "execution_count": 34,
     "metadata": {},
     "output_type": "execute_result"
    }
   ],
   "source": [
    "books.head()"
   ]
  },
  {
   "cell_type": "code",
   "execution_count": 12,
   "id": "dc4aca54",
   "metadata": {},
   "outputs": [],
   "source": [
    "rev.book_id = rev.book_id.apply(np.int64)"
   ]
  },
  {
   "cell_type": "code",
   "execution_count": 16,
   "id": "c455a590",
   "metadata": {},
   "outputs": [],
   "source": [
    "books = books[books.book_id.isin(rev.book_id)]"
   ]
  },
  {
   "cell_type": "code",
   "execution_count": 17,
   "id": "cb3a8f67",
   "metadata": {},
   "outputs": [
    {
     "data": {
      "text/plain": [
       "(24873, 3)"
      ]
     },
     "execution_count": 17,
     "metadata": {},
     "output_type": "execute_result"
    }
   ],
   "source": [
    "books.shape"
   ]
  },
  {
   "cell_type": "code",
   "execution_count": 18,
   "id": "86b4c112",
   "metadata": {},
   "outputs": [],
   "source": [
    "rev = rev.merge(books[['book_id', 'title']], on='book_id')"
   ]
  },
  {
   "cell_type": "code",
   "execution_count": 22,
   "id": "f952d725",
   "metadata": {},
   "outputs": [],
   "source": [
    "rev.to_pickle('csc2515-project-main/csc2515-project-main/data/goodreads.pkl')"
   ]
  },
  {
   "cell_type": "code",
   "execution_count": 33,
   "id": "c327ae45",
   "metadata": {},
   "outputs": [
    {
     "name": "stderr",
     "output_type": "stream",
     "text": [
      "C:\\Users\\wojtek\\AppData\\Local\\Temp/ipykernel_11096/3508225722.py:2: SettingWithCopyWarning: \n",
      "A value is trying to be set on a copy of a slice from a DataFrame.\n",
      "Try using .loc[row_indexer,col_indexer] = value instead\n",
      "\n",
      "See the caveats in the documentation: https://pandas.pydata.org/pandas-docs/stable/user_guide/indexing.html#returning-a-view-versus-a-copy\n",
      "  books['reviews'] = books.book_id.apply(lambda x: ' '.join(rev[rev.book_id == x].flat_reviews.values))\n"
     ]
    }
   ],
   "source": [
    "rev['flat_reviews'] = rev.review_sentences.apply(lambda x: ' '.join([s[1] for s in x]))\n",
    "books['reviews'] = books.book_id.apply(lambda x: ' '.join(rev[rev.book_id == x].flat_reviews.values))"
   ]
  },
  {
   "cell_type": "code",
   "execution_count": 37,
   "id": "3bb02804",
   "metadata": {},
   "outputs": [
    {
     "data": {
      "text/plain": [
       "\"Having been confused by both movie versions of this book I decided to give the original a go and see if it's any better. Before I started on this I imagining it was going to be a total mess and I might have to abandon it. But, it was the exact opposite! The book quickly gets to the heart of the matter and all the confusion of the movies was explained in the first 10-20%. Having now read Solaris, I seriously cannot see how this could be made into an effective movie without tons of voice overs. Most of the drama is psychological in nature and revolves around the central characters thoughts and emotions. What both the movies kind of left out is the nature of the planet Solaris. It contains a vast alien intelligence, totally unlike any thing encountered before and mostly incomprehensible to the scientists trying to study it. It's a great example of alien contact and world building rolled into one. Anyone who didn't like the movie, but is still wondering why this is such a renowned work should give it a try. After the first few chapters you will probably be hooked. I'm genuinely aghast that this book didn't end up on my 'abandoned' shelf. I had thought that I better give it a second chance. The first time I tried to listen to it, I was convinced that I hadn't really paid attention, that my mind must have wandered off mid-book, and that was the cause of my consternation. In the interests of fairness and good will, I gave it another shot. Plugging both headphones in, not wanting to miss a word, I dove back in. What a waste of, I'm not sure how many hours, too many! I will admit that the premise was imaginative, but the story didn't go anyway, and was therefore pretty dull. Snout was the one saving grace for the characters, the rest I couldn't abide by.\""
      ]
     },
     "execution_count": 37,
     "metadata": {},
     "output_type": "execute_result"
    }
   ],
   "source": [
    "books.reviews.values[3]"
   ]
  },
  {
   "cell_type": "code",
   "execution_count": 39,
   "id": "12fb74ec",
   "metadata": {},
   "outputs": [],
   "source": [
    "books.to_csv('csc2515-project-main/csc2515-project-main/data/goodreads_books_revs.csv', index=False)"
   ]
  },
  {
   "cell_type": "markdown",
   "id": "1b39203f",
   "metadata": {},
   "source": [
    "# building tf-idf matrix"
   ]
  },
  {
   "cell_type": "code",
   "execution_count": 48,
   "id": "d24f29ca",
   "metadata": {},
   "outputs": [
    {
     "data": {
      "text/plain": [
       "(24873, 168886)"
      ]
     },
     "execution_count": 48,
     "metadata": {},
     "output_type": "execute_result"
    }
   ],
   "source": [
    "count_vect = CountVectorizer()\n",
    "word_idx = count_vect.fit_transform(books.reviews.values)\n",
    "word_idx.shape"
   ]
  },
  {
   "cell_type": "code",
   "execution_count": 50,
   "id": "434d39f1",
   "metadata": {},
   "outputs": [
    {
     "data": {
      "text/plain": [
       "137821"
      ]
     },
     "execution_count": 50,
     "metadata": {},
     "output_type": "execute_result"
    }
   ],
   "source": [
    "count_vect.vocabulary_.get('snout')"
   ]
  },
  {
   "cell_type": "code",
   "execution_count": 52,
   "id": "cf6c19ab",
   "metadata": {},
   "outputs": [
    {
     "data": {
      "text/plain": [
       "(24873, 168886)"
      ]
     },
     "execution_count": 52,
     "metadata": {},
     "output_type": "execute_result"
    }
   ],
   "source": [
    "tfidf_transformer = TfidfTransformer().fit(word_idx)\n",
    "books_tfidf = tfidf_transformer.transform(word_idx)\n",
    "books_tfidf.shape"
   ]
  },
  {
   "cell_type": "code",
   "execution_count": 54,
   "id": "f0f2ed48",
   "metadata": {},
   "outputs": [
    {
     "data": {
      "text/plain": [
       "<24873x168886 sparse matrix of type '<class 'numpy.float64'>'\n",
       "\twith 14092982 stored elements in Compressed Sparse Row format>"
      ]
     },
     "execution_count": 54,
     "metadata": {},
     "output_type": "execute_result"
    }
   ],
   "source": [
    "books_tfidf"
   ]
  },
  {
   "cell_type": "code",
   "execution_count": 87,
   "id": "923b3365",
   "metadata": {},
   "outputs": [],
   "source": [
    "df = pd.read_pickle('csc2515-project-main/csc2515-project-main/data/goodreads_sent_spoil.pkl')"
   ]
  },
  {
   "cell_type": "code",
   "execution_count": 88,
   "id": "4d33345f",
   "metadata": {},
   "outputs": [
    {
     "data": {
      "text/html": [
       "<div>\n",
       "<style scoped>\n",
       "    .dataframe tbody tr th:only-of-type {\n",
       "        vertical-align: middle;\n",
       "    }\n",
       "\n",
       "    .dataframe tbody tr th {\n",
       "        vertical-align: top;\n",
       "    }\n",
       "\n",
       "    .dataframe thead th {\n",
       "        text-align: right;\n",
       "    }\n",
       "</style>\n",
       "<table border=\"1\" class=\"dataframe\">\n",
       "  <thead>\n",
       "    <tr style=\"text-align: right;\">\n",
       "      <th></th>\n",
       "      <th>sentence</th>\n",
       "      <th>has_spoiler</th>\n",
       "    </tr>\n",
       "  </thead>\n",
       "  <tbody>\n",
       "    <tr>\n",
       "      <th>0</th>\n",
       "      <td>Essential reading for anyone serious about mys...</td>\n",
       "      <td>0</td>\n",
       "    </tr>\n",
       "    <tr>\n",
       "      <th>1</th>\n",
       "      <td>Hammett is the grandfather of the hard-bitten ...</td>\n",
       "      <td>0</td>\n",
       "    </tr>\n",
       "    <tr>\n",
       "      <th>2</th>\n",
       "      <td>While his Continental Op was the prototype for...</td>\n",
       "      <td>0</td>\n",
       "    </tr>\n",
       "    <tr>\n",
       "      <th>3</th>\n",
       "      <td>Expect sharp dialog, vivid characters and a vo...</td>\n",
       "      <td>0</td>\n",
       "    </tr>\n",
       "    <tr>\n",
       "      <th>4</th>\n",
       "      <td>If you've seen John Huston's 1941 film version...</td>\n",
       "      <td>0</td>\n",
       "    </tr>\n",
       "  </tbody>\n",
       "</table>\n",
       "</div>"
      ],
      "text/plain": [
       "                                            sentence  has_spoiler\n",
       "0  Essential reading for anyone serious about mys...            0\n",
       "1  Hammett is the grandfather of the hard-bitten ...            0\n",
       "2  While his Continental Op was the prototype for...            0\n",
       "3  Expect sharp dialog, vivid characters and a vo...            0\n",
       "4  If you've seen John Huston's 1941 film version...            0"
      ]
     },
     "execution_count": 88,
     "metadata": {},
     "output_type": "execute_result"
    }
   ],
   "source": [
    "df.head()"
   ]
  },
  {
   "cell_type": "code",
   "execution_count": 89,
   "id": "874c65eb",
   "metadata": {},
   "outputs": [],
   "source": [
    "# df = df.sample(frac=0.1)"
   ]
  },
  {
   "cell_type": "code",
   "execution_count": 90,
   "id": "ba076879",
   "metadata": {},
   "outputs": [],
   "source": [
    "df_train, df_test = train_test_split(\n",
    "  df,\n",
    "  test_size=0.2,\n",
    "  random_state=42\n",
    ")"
   ]
  },
  {
   "cell_type": "code",
   "execution_count": 79,
   "id": "6caaf0e8",
   "metadata": {},
   "outputs": [],
   "source": [
    "X_train = tfidf_transformer.transform(count_vect.transform(df_train.sentence.values))"
   ]
  },
  {
   "cell_type": "markdown",
   "id": "67a98239",
   "metadata": {},
   "source": [
    "# Fitting NB classifier"
   ]
  },
  {
   "cell_type": "code",
   "execution_count": 80,
   "id": "8ee329f7",
   "metadata": {},
   "outputs": [],
   "source": [
    "nb = MultinomialNB().fit(X_train, df_train.has_spoiler)"
   ]
  },
  {
   "cell_type": "code",
   "execution_count": 91,
   "id": "73e6c0d9",
   "metadata": {},
   "outputs": [],
   "source": [
    "X_test = tfidf_transformer.transform(count_vect.transform(df_test.sentence.values))\n",
    "predicted = nb.predict(X_test)"
   ]
  },
  {
   "cell_type": "code",
   "execution_count": 92,
   "id": "5d53f32b",
   "metadata": {},
   "outputs": [
    {
     "data": {
      "text/plain": [
       "0.7153545101231146"
      ]
     },
     "execution_count": 92,
     "metadata": {},
     "output_type": "execute_result"
    }
   ],
   "source": [
    "roc_auc_score(df_test.has_spoiler, predicted)"
   ]
  },
  {
   "cell_type": "code",
   "execution_count": 83,
   "id": "e9a1b333",
   "metadata": {},
   "outputs": [
    {
     "data": {
      "text/plain": [
       "array([0, 0, 0, 0, 0, 0, 0, 0, 0, 0], dtype=int64)"
      ]
     },
     "execution_count": 83,
     "metadata": {},
     "output_type": "execute_result"
    }
   ],
   "source": [
    "predicted[:10]"
   ]
  },
  {
   "cell_type": "markdown",
   "id": "73260cee",
   "metadata": {},
   "source": [
    "# that didn't go to well! Let's try with a balanced dataset"
   ]
  },
  {
   "cell_type": "code",
   "execution_count": 85,
   "id": "6d4502a5",
   "metadata": {},
   "outputs": [],
   "source": [
    "df = pd.concat([df[df.has_spoiler==1], df[df.has_spoiler==0].sample(len(df[df.has_spoiler==1]))]).sample(frac=1)\n",
    "df_train, df_test = train_test_split(\n",
    "  df,\n",
    "  test_size=0.2,\n",
    "  random_state=42\n",
    ")\n",
    "\n",
    "X_train = tfidf_transformer.transform(count_vect.transform(df_train.sentence.values))\n",
    "X_test = tfidf_transformer.transform(count_vect.transform(df_test.sentence.values))\n",
    "\n",
    "nb = MultinomialNB().fit(X_train, df_train.has_spoiler)\n",
    "predicted = nb.predict(X_test)"
   ]
  },
  {
   "cell_type": "code",
   "execution_count": 86,
   "id": "8b671bd7",
   "metadata": {},
   "outputs": [
    {
     "data": {
      "text/plain": [
       "0.6870193939592415"
      ]
     },
     "execution_count": 86,
     "metadata": {},
     "output_type": "execute_result"
    }
   ],
   "source": [
    "roc_auc_score(df_test.has_spoiler, predicted)"
   ]
  },
  {
   "cell_type": "markdown",
   "id": "79b58900",
   "metadata": {},
   "source": [
    "# Now that's much better, but somehow doesn't cut it\n",
    "Looks like the task is a wee bit too tough for a simple model like this, but the transformer-based models might benefit from these features, or at least book titles"
   ]
  },
  {
   "cell_type": "code",
   "execution_count": 93,
   "id": "1136f45f",
   "metadata": {},
   "outputs": [],
   "source": [
    "# roc-auc: 69% for a balanced test set, 72% for the original proportions set"
   ]
  },
  {
   "cell_type": "markdown",
   "id": "939458dc",
   "metadata": {},
   "source": [
    "# Preparing transformer input sentences: adding book titles"
   ]
  },
  {
   "cell_type": "code",
   "execution_count": 96,
   "id": "39090889",
   "metadata": {},
   "outputs": [
    {
     "data": {
      "application/vnd.jupyter.widget-view+json": {
       "model_id": "cfd9e4efba8c4e9494f864b6b744d2da",
       "version_major": 2,
       "version_minor": 0
      },
      "text/plain": [
       "  0%|          | 0/275607 [00:00<?, ?it/s]"
      ]
     },
     "metadata": {},
     "output_type": "display_data"
    }
   ],
   "source": [
    "rev = pd.read_pickle('csc2515-project-main/csc2515-project-main/data/goodreads.pkl')\n",
    "sent = []\n",
    "spoil = []\n",
    "for i in tq.tqdm(range(len(rev))):\n",
    "    for j in range(len(rev.iloc[i]['review_sentences'])):\n",
    "        sent.append(rev.iloc[i].title + ' [SEP] ' + rev.iloc[i]['review_sentences'][j][1])   \n",
    "        spoil.append(rev.iloc[i]['review_sentences'][j][0])"
   ]
  },
  {
   "cell_type": "code",
   "execution_count": 97,
   "id": "0e76bcfc",
   "metadata": {},
   "outputs": [],
   "source": [
    "df = pd.DataFrame(list(zip(sent, spoil)), \n",
    "               columns =['sentence', 'has_spoiler']) "
   ]
  },
  {
   "cell_type": "code",
   "execution_count": 99,
   "id": "e249cdef",
   "metadata": {},
   "outputs": [],
   "source": [
    "df.to_pickle(\"csc2515-project-main/csc2515-project-main/data/goodreads_sent_spoil_titles.pkl\")"
   ]
  },
  {
   "cell_type": "code",
   "execution_count": 100,
   "id": "9d94db95",
   "metadata": {},
   "outputs": [
    {
     "data": {
      "text/html": [
       "<div>\n",
       "<style scoped>\n",
       "    .dataframe tbody tr th:only-of-type {\n",
       "        vertical-align: middle;\n",
       "    }\n",
       "\n",
       "    .dataframe tbody tr th {\n",
       "        vertical-align: top;\n",
       "    }\n",
       "\n",
       "    .dataframe thead th {\n",
       "        text-align: right;\n",
       "    }\n",
       "</style>\n",
       "<table border=\"1\" class=\"dataframe\">\n",
       "  <thead>\n",
       "    <tr style=\"text-align: right;\">\n",
       "      <th></th>\n",
       "      <th>sentence</th>\n",
       "      <th>has_spoiler</th>\n",
       "    </tr>\n",
       "  </thead>\n",
       "  <tbody>\n",
       "    <tr>\n",
       "      <th>0</th>\n",
       "      <td>The Maltese Falcon [SEP] Essential reading for...</td>\n",
       "      <td>0</td>\n",
       "    </tr>\n",
       "    <tr>\n",
       "      <th>1</th>\n",
       "      <td>The Maltese Falcon [SEP] Hammett is the grandf...</td>\n",
       "      <td>0</td>\n",
       "    </tr>\n",
       "    <tr>\n",
       "      <th>2</th>\n",
       "      <td>The Maltese Falcon [SEP] While his Continental...</td>\n",
       "      <td>0</td>\n",
       "    </tr>\n",
       "    <tr>\n",
       "      <th>3</th>\n",
       "      <td>The Maltese Falcon [SEP] Expect sharp dialog, ...</td>\n",
       "      <td>0</td>\n",
       "    </tr>\n",
       "    <tr>\n",
       "      <th>4</th>\n",
       "      <td>The Maltese Falcon [SEP] If you've seen John H...</td>\n",
       "      <td>0</td>\n",
       "    </tr>\n",
       "  </tbody>\n",
       "</table>\n",
       "</div>"
      ],
      "text/plain": [
       "                                            sentence  has_spoiler\n",
       "0  The Maltese Falcon [SEP] Essential reading for...            0\n",
       "1  The Maltese Falcon [SEP] Hammett is the grandf...            0\n",
       "2  The Maltese Falcon [SEP] While his Continental...            0\n",
       "3  The Maltese Falcon [SEP] Expect sharp dialog, ...            0\n",
       "4  The Maltese Falcon [SEP] If you've seen John H...            0"
      ]
     },
     "execution_count": 100,
     "metadata": {},
     "output_type": "execute_result"
    }
   ],
   "source": [
    "df.head()"
   ]
  },
  {
   "cell_type": "code",
   "execution_count": null,
   "id": "700f6d2d",
   "metadata": {},
   "outputs": [],
   "source": []
  }
 ],
 "metadata": {
  "kernelspec": {
   "display_name": "Python 3 (ipykernel)",
   "language": "python",
   "name": "python3"
  },
  "language_info": {
   "codemirror_mode": {
    "name": "ipython",
    "version": 3
   },
   "file_extension": ".py",
   "mimetype": "text/x-python",
   "name": "python",
   "nbconvert_exporter": "python",
   "pygments_lexer": "ipython3",
   "version": "3.8.10"
  }
 },
 "nbformat": 4,
 "nbformat_minor": 5
}
